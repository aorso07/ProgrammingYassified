{
  "nbformat": 4,
  "nbformat_minor": 0,
  "metadata": {
    "colab": {
      "provenance": [],
      "gpuType": "T4"
    },
    "kernelspec": {
      "name": "python3",
      "display_name": "Python 3"
    },
    "language_info": {
      "name": "python"
    },
    "accelerator": "GPU",
    "widgets": {
      "application/vnd.jupyter.widget-state+json": {
        "82db1cd8eb9441eb9e5b89fc73067f91": {
          "model_module": "@jupyter-widgets/controls",
          "model_name": "HBoxModel",
          "model_module_version": "1.5.0",
          "state": {
            "_dom_classes": [],
            "_model_module": "@jupyter-widgets/controls",
            "_model_module_version": "1.5.0",
            "_model_name": "HBoxModel",
            "_view_count": null,
            "_view_module": "@jupyter-widgets/controls",
            "_view_module_version": "1.5.0",
            "_view_name": "HBoxView",
            "box_style": "",
            "children": [
              "IPY_MODEL_34c67602877e49848217d37c0e98b685",
              "IPY_MODEL_1847a26ad5124c578302b49693423526",
              "IPY_MODEL_82d25e6063bb46df9dc005be73fb7ff4"
            ],
            "layout": "IPY_MODEL_2a04e473f1804924ba462ac2a576c745"
          }
        },
        "34c67602877e49848217d37c0e98b685": {
          "model_module": "@jupyter-widgets/controls",
          "model_name": "HTMLModel",
          "model_module_version": "1.5.0",
          "state": {
            "_dom_classes": [],
            "_model_module": "@jupyter-widgets/controls",
            "_model_module_version": "1.5.0",
            "_model_name": "HTMLModel",
            "_view_count": null,
            "_view_module": "@jupyter-widgets/controls",
            "_view_module_version": "1.5.0",
            "_view_name": "HTMLView",
            "description": "",
            "description_tooltip": null,
            "layout": "IPY_MODEL_703989de0f324f41b6fa62288d41b8c7",
            "placeholder": "​",
            "style": "IPY_MODEL_1dd308361b8a48be9f00b0b3dd67112e",
            "value": "tokenizer_config.json: 100%"
          }
        },
        "1847a26ad5124c578302b49693423526": {
          "model_module": "@jupyter-widgets/controls",
          "model_name": "FloatProgressModel",
          "model_module_version": "1.5.0",
          "state": {
            "_dom_classes": [],
            "_model_module": "@jupyter-widgets/controls",
            "_model_module_version": "1.5.0",
            "_model_name": "FloatProgressModel",
            "_view_count": null,
            "_view_module": "@jupyter-widgets/controls",
            "_view_module_version": "1.5.0",
            "_view_name": "ProgressView",
            "bar_style": "success",
            "description": "",
            "description_tooltip": null,
            "layout": "IPY_MODEL_a3d1f898da744026babe617c06e7a942",
            "max": 28,
            "min": 0,
            "orientation": "horizontal",
            "style": "IPY_MODEL_e1b74df5f9034af5b846edf6c62faf89",
            "value": 28
          }
        },
        "82d25e6063bb46df9dc005be73fb7ff4": {
          "model_module": "@jupyter-widgets/controls",
          "model_name": "HTMLModel",
          "model_module_version": "1.5.0",
          "state": {
            "_dom_classes": [],
            "_model_module": "@jupyter-widgets/controls",
            "_model_module_version": "1.5.0",
            "_model_name": "HTMLModel",
            "_view_count": null,
            "_view_module": "@jupyter-widgets/controls",
            "_view_module_version": "1.5.0",
            "_view_name": "HTMLView",
            "description": "",
            "description_tooltip": null,
            "layout": "IPY_MODEL_701849b7d7e94c128eca757e13f03be1",
            "placeholder": "​",
            "style": "IPY_MODEL_013d29b361b04b229a67f889cafc33d3",
            "value": " 28.0/28.0 [00:00&lt;00:00, 1.78kB/s]"
          }
        },
        "2a04e473f1804924ba462ac2a576c745": {
          "model_module": "@jupyter-widgets/base",
          "model_name": "LayoutModel",
          "model_module_version": "1.2.0",
          "state": {
            "_model_module": "@jupyter-widgets/base",
            "_model_module_version": "1.2.0",
            "_model_name": "LayoutModel",
            "_view_count": null,
            "_view_module": "@jupyter-widgets/base",
            "_view_module_version": "1.2.0",
            "_view_name": "LayoutView",
            "align_content": null,
            "align_items": null,
            "align_self": null,
            "border": null,
            "bottom": null,
            "display": null,
            "flex": null,
            "flex_flow": null,
            "grid_area": null,
            "grid_auto_columns": null,
            "grid_auto_flow": null,
            "grid_auto_rows": null,
            "grid_column": null,
            "grid_gap": null,
            "grid_row": null,
            "grid_template_areas": null,
            "grid_template_columns": null,
            "grid_template_rows": null,
            "height": null,
            "justify_content": null,
            "justify_items": null,
            "left": null,
            "margin": null,
            "max_height": null,
            "max_width": null,
            "min_height": null,
            "min_width": null,
            "object_fit": null,
            "object_position": null,
            "order": null,
            "overflow": null,
            "overflow_x": null,
            "overflow_y": null,
            "padding": null,
            "right": null,
            "top": null,
            "visibility": null,
            "width": null
          }
        },
        "703989de0f324f41b6fa62288d41b8c7": {
          "model_module": "@jupyter-widgets/base",
          "model_name": "LayoutModel",
          "model_module_version": "1.2.0",
          "state": {
            "_model_module": "@jupyter-widgets/base",
            "_model_module_version": "1.2.0",
            "_model_name": "LayoutModel",
            "_view_count": null,
            "_view_module": "@jupyter-widgets/base",
            "_view_module_version": "1.2.0",
            "_view_name": "LayoutView",
            "align_content": null,
            "align_items": null,
            "align_self": null,
            "border": null,
            "bottom": null,
            "display": null,
            "flex": null,
            "flex_flow": null,
            "grid_area": null,
            "grid_auto_columns": null,
            "grid_auto_flow": null,
            "grid_auto_rows": null,
            "grid_column": null,
            "grid_gap": null,
            "grid_row": null,
            "grid_template_areas": null,
            "grid_template_columns": null,
            "grid_template_rows": null,
            "height": null,
            "justify_content": null,
            "justify_items": null,
            "left": null,
            "margin": null,
            "max_height": null,
            "max_width": null,
            "min_height": null,
            "min_width": null,
            "object_fit": null,
            "object_position": null,
            "order": null,
            "overflow": null,
            "overflow_x": null,
            "overflow_y": null,
            "padding": null,
            "right": null,
            "top": null,
            "visibility": null,
            "width": null
          }
        },
        "1dd308361b8a48be9f00b0b3dd67112e": {
          "model_module": "@jupyter-widgets/controls",
          "model_name": "DescriptionStyleModel",
          "model_module_version": "1.5.0",
          "state": {
            "_model_module": "@jupyter-widgets/controls",
            "_model_module_version": "1.5.0",
            "_model_name": "DescriptionStyleModel",
            "_view_count": null,
            "_view_module": "@jupyter-widgets/base",
            "_view_module_version": "1.2.0",
            "_view_name": "StyleView",
            "description_width": ""
          }
        },
        "a3d1f898da744026babe617c06e7a942": {
          "model_module": "@jupyter-widgets/base",
          "model_name": "LayoutModel",
          "model_module_version": "1.2.0",
          "state": {
            "_model_module": "@jupyter-widgets/base",
            "_model_module_version": "1.2.0",
            "_model_name": "LayoutModel",
            "_view_count": null,
            "_view_module": "@jupyter-widgets/base",
            "_view_module_version": "1.2.0",
            "_view_name": "LayoutView",
            "align_content": null,
            "align_items": null,
            "align_self": null,
            "border": null,
            "bottom": null,
            "display": null,
            "flex": null,
            "flex_flow": null,
            "grid_area": null,
            "grid_auto_columns": null,
            "grid_auto_flow": null,
            "grid_auto_rows": null,
            "grid_column": null,
            "grid_gap": null,
            "grid_row": null,
            "grid_template_areas": null,
            "grid_template_columns": null,
            "grid_template_rows": null,
            "height": null,
            "justify_content": null,
            "justify_items": null,
            "left": null,
            "margin": null,
            "max_height": null,
            "max_width": null,
            "min_height": null,
            "min_width": null,
            "object_fit": null,
            "object_position": null,
            "order": null,
            "overflow": null,
            "overflow_x": null,
            "overflow_y": null,
            "padding": null,
            "right": null,
            "top": null,
            "visibility": null,
            "width": null
          }
        },
        "e1b74df5f9034af5b846edf6c62faf89": {
          "model_module": "@jupyter-widgets/controls",
          "model_name": "ProgressStyleModel",
          "model_module_version": "1.5.0",
          "state": {
            "_model_module": "@jupyter-widgets/controls",
            "_model_module_version": "1.5.0",
            "_model_name": "ProgressStyleModel",
            "_view_count": null,
            "_view_module": "@jupyter-widgets/base",
            "_view_module_version": "1.2.0",
            "_view_name": "StyleView",
            "bar_color": null,
            "description_width": ""
          }
        },
        "701849b7d7e94c128eca757e13f03be1": {
          "model_module": "@jupyter-widgets/base",
          "model_name": "LayoutModel",
          "model_module_version": "1.2.0",
          "state": {
            "_model_module": "@jupyter-widgets/base",
            "_model_module_version": "1.2.0",
            "_model_name": "LayoutModel",
            "_view_count": null,
            "_view_module": "@jupyter-widgets/base",
            "_view_module_version": "1.2.0",
            "_view_name": "LayoutView",
            "align_content": null,
            "align_items": null,
            "align_self": null,
            "border": null,
            "bottom": null,
            "display": null,
            "flex": null,
            "flex_flow": null,
            "grid_area": null,
            "grid_auto_columns": null,
            "grid_auto_flow": null,
            "grid_auto_rows": null,
            "grid_column": null,
            "grid_gap": null,
            "grid_row": null,
            "grid_template_areas": null,
            "grid_template_columns": null,
            "grid_template_rows": null,
            "height": null,
            "justify_content": null,
            "justify_items": null,
            "left": null,
            "margin": null,
            "max_height": null,
            "max_width": null,
            "min_height": null,
            "min_width": null,
            "object_fit": null,
            "object_position": null,
            "order": null,
            "overflow": null,
            "overflow_x": null,
            "overflow_y": null,
            "padding": null,
            "right": null,
            "top": null,
            "visibility": null,
            "width": null
          }
        },
        "013d29b361b04b229a67f889cafc33d3": {
          "model_module": "@jupyter-widgets/controls",
          "model_name": "DescriptionStyleModel",
          "model_module_version": "1.5.0",
          "state": {
            "_model_module": "@jupyter-widgets/controls",
            "_model_module_version": "1.5.0",
            "_model_name": "DescriptionStyleModel",
            "_view_count": null,
            "_view_module": "@jupyter-widgets/base",
            "_view_module_version": "1.2.0",
            "_view_name": "StyleView",
            "description_width": ""
          }
        },
        "d81e5df4c0ca43f5866726899a235776": {
          "model_module": "@jupyter-widgets/controls",
          "model_name": "HBoxModel",
          "model_module_version": "1.5.0",
          "state": {
            "_dom_classes": [],
            "_model_module": "@jupyter-widgets/controls",
            "_model_module_version": "1.5.0",
            "_model_name": "HBoxModel",
            "_view_count": null,
            "_view_module": "@jupyter-widgets/controls",
            "_view_module_version": "1.5.0",
            "_view_name": "HBoxView",
            "box_style": "",
            "children": [
              "IPY_MODEL_f97429889c234579a42e71b4ffb24151",
              "IPY_MODEL_8f682b402c7c40bdab380350259b4050",
              "IPY_MODEL_2436f30abffc4192a9b79fb504fb0f9a"
            ],
            "layout": "IPY_MODEL_63499b38544347988f01ed51bf75e5ca"
          }
        },
        "f97429889c234579a42e71b4ffb24151": {
          "model_module": "@jupyter-widgets/controls",
          "model_name": "HTMLModel",
          "model_module_version": "1.5.0",
          "state": {
            "_dom_classes": [],
            "_model_module": "@jupyter-widgets/controls",
            "_model_module_version": "1.5.0",
            "_model_name": "HTMLModel",
            "_view_count": null,
            "_view_module": "@jupyter-widgets/controls",
            "_view_module_version": "1.5.0",
            "_view_name": "HTMLView",
            "description": "",
            "description_tooltip": null,
            "layout": "IPY_MODEL_0adf8618de004656b282b19993228ba3",
            "placeholder": "​",
            "style": "IPY_MODEL_665cd32c2d924686a7bd337369d4dead",
            "value": "vocab.txt: 100%"
          }
        },
        "8f682b402c7c40bdab380350259b4050": {
          "model_module": "@jupyter-widgets/controls",
          "model_name": "FloatProgressModel",
          "model_module_version": "1.5.0",
          "state": {
            "_dom_classes": [],
            "_model_module": "@jupyter-widgets/controls",
            "_model_module_version": "1.5.0",
            "_model_name": "FloatProgressModel",
            "_view_count": null,
            "_view_module": "@jupyter-widgets/controls",
            "_view_module_version": "1.5.0",
            "_view_name": "ProgressView",
            "bar_style": "success",
            "description": "",
            "description_tooltip": null,
            "layout": "IPY_MODEL_6227d3174a4942438421bd40bf4a818c",
            "max": 231508,
            "min": 0,
            "orientation": "horizontal",
            "style": "IPY_MODEL_323d6ad5b5404cf4b37ee6b9ea23e5ab",
            "value": 231508
          }
        },
        "2436f30abffc4192a9b79fb504fb0f9a": {
          "model_module": "@jupyter-widgets/controls",
          "model_name": "HTMLModel",
          "model_module_version": "1.5.0",
          "state": {
            "_dom_classes": [],
            "_model_module": "@jupyter-widgets/controls",
            "_model_module_version": "1.5.0",
            "_model_name": "HTMLModel",
            "_view_count": null,
            "_view_module": "@jupyter-widgets/controls",
            "_view_module_version": "1.5.0",
            "_view_name": "HTMLView",
            "description": "",
            "description_tooltip": null,
            "layout": "IPY_MODEL_91bf6ad649e94ce0a1b3de936bae26a2",
            "placeholder": "​",
            "style": "IPY_MODEL_5f5600762ba245cd857e239c302a74ac",
            "value": " 232k/232k [00:00&lt;00:00, 3.01MB/s]"
          }
        },
        "63499b38544347988f01ed51bf75e5ca": {
          "model_module": "@jupyter-widgets/base",
          "model_name": "LayoutModel",
          "model_module_version": "1.2.0",
          "state": {
            "_model_module": "@jupyter-widgets/base",
            "_model_module_version": "1.2.0",
            "_model_name": "LayoutModel",
            "_view_count": null,
            "_view_module": "@jupyter-widgets/base",
            "_view_module_version": "1.2.0",
            "_view_name": "LayoutView",
            "align_content": null,
            "align_items": null,
            "align_self": null,
            "border": null,
            "bottom": null,
            "display": null,
            "flex": null,
            "flex_flow": null,
            "grid_area": null,
            "grid_auto_columns": null,
            "grid_auto_flow": null,
            "grid_auto_rows": null,
            "grid_column": null,
            "grid_gap": null,
            "grid_row": null,
            "grid_template_areas": null,
            "grid_template_columns": null,
            "grid_template_rows": null,
            "height": null,
            "justify_content": null,
            "justify_items": null,
            "left": null,
            "margin": null,
            "max_height": null,
            "max_width": null,
            "min_height": null,
            "min_width": null,
            "object_fit": null,
            "object_position": null,
            "order": null,
            "overflow": null,
            "overflow_x": null,
            "overflow_y": null,
            "padding": null,
            "right": null,
            "top": null,
            "visibility": null,
            "width": null
          }
        },
        "0adf8618de004656b282b19993228ba3": {
          "model_module": "@jupyter-widgets/base",
          "model_name": "LayoutModel",
          "model_module_version": "1.2.0",
          "state": {
            "_model_module": "@jupyter-widgets/base",
            "_model_module_version": "1.2.0",
            "_model_name": "LayoutModel",
            "_view_count": null,
            "_view_module": "@jupyter-widgets/base",
            "_view_module_version": "1.2.0",
            "_view_name": "LayoutView",
            "align_content": null,
            "align_items": null,
            "align_self": null,
            "border": null,
            "bottom": null,
            "display": null,
            "flex": null,
            "flex_flow": null,
            "grid_area": null,
            "grid_auto_columns": null,
            "grid_auto_flow": null,
            "grid_auto_rows": null,
            "grid_column": null,
            "grid_gap": null,
            "grid_row": null,
            "grid_template_areas": null,
            "grid_template_columns": null,
            "grid_template_rows": null,
            "height": null,
            "justify_content": null,
            "justify_items": null,
            "left": null,
            "margin": null,
            "max_height": null,
            "max_width": null,
            "min_height": null,
            "min_width": null,
            "object_fit": null,
            "object_position": null,
            "order": null,
            "overflow": null,
            "overflow_x": null,
            "overflow_y": null,
            "padding": null,
            "right": null,
            "top": null,
            "visibility": null,
            "width": null
          }
        },
        "665cd32c2d924686a7bd337369d4dead": {
          "model_module": "@jupyter-widgets/controls",
          "model_name": "DescriptionStyleModel",
          "model_module_version": "1.5.0",
          "state": {
            "_model_module": "@jupyter-widgets/controls",
            "_model_module_version": "1.5.0",
            "_model_name": "DescriptionStyleModel",
            "_view_count": null,
            "_view_module": "@jupyter-widgets/base",
            "_view_module_version": "1.2.0",
            "_view_name": "StyleView",
            "description_width": ""
          }
        },
        "6227d3174a4942438421bd40bf4a818c": {
          "model_module": "@jupyter-widgets/base",
          "model_name": "LayoutModel",
          "model_module_version": "1.2.0",
          "state": {
            "_model_module": "@jupyter-widgets/base",
            "_model_module_version": "1.2.0",
            "_model_name": "LayoutModel",
            "_view_count": null,
            "_view_module": "@jupyter-widgets/base",
            "_view_module_version": "1.2.0",
            "_view_name": "LayoutView",
            "align_content": null,
            "align_items": null,
            "align_self": null,
            "border": null,
            "bottom": null,
            "display": null,
            "flex": null,
            "flex_flow": null,
            "grid_area": null,
            "grid_auto_columns": null,
            "grid_auto_flow": null,
            "grid_auto_rows": null,
            "grid_column": null,
            "grid_gap": null,
            "grid_row": null,
            "grid_template_areas": null,
            "grid_template_columns": null,
            "grid_template_rows": null,
            "height": null,
            "justify_content": null,
            "justify_items": null,
            "left": null,
            "margin": null,
            "max_height": null,
            "max_width": null,
            "min_height": null,
            "min_width": null,
            "object_fit": null,
            "object_position": null,
            "order": null,
            "overflow": null,
            "overflow_x": null,
            "overflow_y": null,
            "padding": null,
            "right": null,
            "top": null,
            "visibility": null,
            "width": null
          }
        },
        "323d6ad5b5404cf4b37ee6b9ea23e5ab": {
          "model_module": "@jupyter-widgets/controls",
          "model_name": "ProgressStyleModel",
          "model_module_version": "1.5.0",
          "state": {
            "_model_module": "@jupyter-widgets/controls",
            "_model_module_version": "1.5.0",
            "_model_name": "ProgressStyleModel",
            "_view_count": null,
            "_view_module": "@jupyter-widgets/base",
            "_view_module_version": "1.2.0",
            "_view_name": "StyleView",
            "bar_color": null,
            "description_width": ""
          }
        },
        "91bf6ad649e94ce0a1b3de936bae26a2": {
          "model_module": "@jupyter-widgets/base",
          "model_name": "LayoutModel",
          "model_module_version": "1.2.0",
          "state": {
            "_model_module": "@jupyter-widgets/base",
            "_model_module_version": "1.2.0",
            "_model_name": "LayoutModel",
            "_view_count": null,
            "_view_module": "@jupyter-widgets/base",
            "_view_module_version": "1.2.0",
            "_view_name": "LayoutView",
            "align_content": null,
            "align_items": null,
            "align_self": null,
            "border": null,
            "bottom": null,
            "display": null,
            "flex": null,
            "flex_flow": null,
            "grid_area": null,
            "grid_auto_columns": null,
            "grid_auto_flow": null,
            "grid_auto_rows": null,
            "grid_column": null,
            "grid_gap": null,
            "grid_row": null,
            "grid_template_areas": null,
            "grid_template_columns": null,
            "grid_template_rows": null,
            "height": null,
            "justify_content": null,
            "justify_items": null,
            "left": null,
            "margin": null,
            "max_height": null,
            "max_width": null,
            "min_height": null,
            "min_width": null,
            "object_fit": null,
            "object_position": null,
            "order": null,
            "overflow": null,
            "overflow_x": null,
            "overflow_y": null,
            "padding": null,
            "right": null,
            "top": null,
            "visibility": null,
            "width": null
          }
        },
        "5f5600762ba245cd857e239c302a74ac": {
          "model_module": "@jupyter-widgets/controls",
          "model_name": "DescriptionStyleModel",
          "model_module_version": "1.5.0",
          "state": {
            "_model_module": "@jupyter-widgets/controls",
            "_model_module_version": "1.5.0",
            "_model_name": "DescriptionStyleModel",
            "_view_count": null,
            "_view_module": "@jupyter-widgets/base",
            "_view_module_version": "1.2.0",
            "_view_name": "StyleView",
            "description_width": ""
          }
        },
        "6013584b70244128b11f0625c73844d2": {
          "model_module": "@jupyter-widgets/controls",
          "model_name": "HBoxModel",
          "model_module_version": "1.5.0",
          "state": {
            "_dom_classes": [],
            "_model_module": "@jupyter-widgets/controls",
            "_model_module_version": "1.5.0",
            "_model_name": "HBoxModel",
            "_view_count": null,
            "_view_module": "@jupyter-widgets/controls",
            "_view_module_version": "1.5.0",
            "_view_name": "HBoxView",
            "box_style": "",
            "children": [
              "IPY_MODEL_36c6fdf80fda4a1e9f746f8ba4641a41",
              "IPY_MODEL_9bae88f572094ffd8da6f643e0faa753",
              "IPY_MODEL_0d0d3d1324ee46178b1b8abcf972c89d"
            ],
            "layout": "IPY_MODEL_f8fc513d74ae40ccae305c496e84dbca"
          }
        },
        "36c6fdf80fda4a1e9f746f8ba4641a41": {
          "model_module": "@jupyter-widgets/controls",
          "model_name": "HTMLModel",
          "model_module_version": "1.5.0",
          "state": {
            "_dom_classes": [],
            "_model_module": "@jupyter-widgets/controls",
            "_model_module_version": "1.5.0",
            "_model_name": "HTMLModel",
            "_view_count": null,
            "_view_module": "@jupyter-widgets/controls",
            "_view_module_version": "1.5.0",
            "_view_name": "HTMLView",
            "description": "",
            "description_tooltip": null,
            "layout": "IPY_MODEL_d7fb5d2fd67f4594a3af3551226afecd",
            "placeholder": "​",
            "style": "IPY_MODEL_94f3b3f95ab547cb99e19fc79cef03a2",
            "value": "tokenizer.json: 100%"
          }
        },
        "9bae88f572094ffd8da6f643e0faa753": {
          "model_module": "@jupyter-widgets/controls",
          "model_name": "FloatProgressModel",
          "model_module_version": "1.5.0",
          "state": {
            "_dom_classes": [],
            "_model_module": "@jupyter-widgets/controls",
            "_model_module_version": "1.5.0",
            "_model_name": "FloatProgressModel",
            "_view_count": null,
            "_view_module": "@jupyter-widgets/controls",
            "_view_module_version": "1.5.0",
            "_view_name": "ProgressView",
            "bar_style": "success",
            "description": "",
            "description_tooltip": null,
            "layout": "IPY_MODEL_1f4b641fa58549ee80460665bd22f39f",
            "max": 466062,
            "min": 0,
            "orientation": "horizontal",
            "style": "IPY_MODEL_2cee219aaac74815bd58b5269bb119c9",
            "value": 466062
          }
        },
        "0d0d3d1324ee46178b1b8abcf972c89d": {
          "model_module": "@jupyter-widgets/controls",
          "model_name": "HTMLModel",
          "model_module_version": "1.5.0",
          "state": {
            "_dom_classes": [],
            "_model_module": "@jupyter-widgets/controls",
            "_model_module_version": "1.5.0",
            "_model_name": "HTMLModel",
            "_view_count": null,
            "_view_module": "@jupyter-widgets/controls",
            "_view_module_version": "1.5.0",
            "_view_name": "HTMLView",
            "description": "",
            "description_tooltip": null,
            "layout": "IPY_MODEL_70c4803a3b094787ac11d44fda7bb952",
            "placeholder": "​",
            "style": "IPY_MODEL_7281cbe1d9f8448fbfcf647b26f75a0e",
            "value": " 466k/466k [00:00&lt;00:00, 7.08MB/s]"
          }
        },
        "f8fc513d74ae40ccae305c496e84dbca": {
          "model_module": "@jupyter-widgets/base",
          "model_name": "LayoutModel",
          "model_module_version": "1.2.0",
          "state": {
            "_model_module": "@jupyter-widgets/base",
            "_model_module_version": "1.2.0",
            "_model_name": "LayoutModel",
            "_view_count": null,
            "_view_module": "@jupyter-widgets/base",
            "_view_module_version": "1.2.0",
            "_view_name": "LayoutView",
            "align_content": null,
            "align_items": null,
            "align_self": null,
            "border": null,
            "bottom": null,
            "display": null,
            "flex": null,
            "flex_flow": null,
            "grid_area": null,
            "grid_auto_columns": null,
            "grid_auto_flow": null,
            "grid_auto_rows": null,
            "grid_column": null,
            "grid_gap": null,
            "grid_row": null,
            "grid_template_areas": null,
            "grid_template_columns": null,
            "grid_template_rows": null,
            "height": null,
            "justify_content": null,
            "justify_items": null,
            "left": null,
            "margin": null,
            "max_height": null,
            "max_width": null,
            "min_height": null,
            "min_width": null,
            "object_fit": null,
            "object_position": null,
            "order": null,
            "overflow": null,
            "overflow_x": null,
            "overflow_y": null,
            "padding": null,
            "right": null,
            "top": null,
            "visibility": null,
            "width": null
          }
        },
        "d7fb5d2fd67f4594a3af3551226afecd": {
          "model_module": "@jupyter-widgets/base",
          "model_name": "LayoutModel",
          "model_module_version": "1.2.0",
          "state": {
            "_model_module": "@jupyter-widgets/base",
            "_model_module_version": "1.2.0",
            "_model_name": "LayoutModel",
            "_view_count": null,
            "_view_module": "@jupyter-widgets/base",
            "_view_module_version": "1.2.0",
            "_view_name": "LayoutView",
            "align_content": null,
            "align_items": null,
            "align_self": null,
            "border": null,
            "bottom": null,
            "display": null,
            "flex": null,
            "flex_flow": null,
            "grid_area": null,
            "grid_auto_columns": null,
            "grid_auto_flow": null,
            "grid_auto_rows": null,
            "grid_column": null,
            "grid_gap": null,
            "grid_row": null,
            "grid_template_areas": null,
            "grid_template_columns": null,
            "grid_template_rows": null,
            "height": null,
            "justify_content": null,
            "justify_items": null,
            "left": null,
            "margin": null,
            "max_height": null,
            "max_width": null,
            "min_height": null,
            "min_width": null,
            "object_fit": null,
            "object_position": null,
            "order": null,
            "overflow": null,
            "overflow_x": null,
            "overflow_y": null,
            "padding": null,
            "right": null,
            "top": null,
            "visibility": null,
            "width": null
          }
        },
        "94f3b3f95ab547cb99e19fc79cef03a2": {
          "model_module": "@jupyter-widgets/controls",
          "model_name": "DescriptionStyleModel",
          "model_module_version": "1.5.0",
          "state": {
            "_model_module": "@jupyter-widgets/controls",
            "_model_module_version": "1.5.0",
            "_model_name": "DescriptionStyleModel",
            "_view_count": null,
            "_view_module": "@jupyter-widgets/base",
            "_view_module_version": "1.2.0",
            "_view_name": "StyleView",
            "description_width": ""
          }
        },
        "1f4b641fa58549ee80460665bd22f39f": {
          "model_module": "@jupyter-widgets/base",
          "model_name": "LayoutModel",
          "model_module_version": "1.2.0",
          "state": {
            "_model_module": "@jupyter-widgets/base",
            "_model_module_version": "1.2.0",
            "_model_name": "LayoutModel",
            "_view_count": null,
            "_view_module": "@jupyter-widgets/base",
            "_view_module_version": "1.2.0",
            "_view_name": "LayoutView",
            "align_content": null,
            "align_items": null,
            "align_self": null,
            "border": null,
            "bottom": null,
            "display": null,
            "flex": null,
            "flex_flow": null,
            "grid_area": null,
            "grid_auto_columns": null,
            "grid_auto_flow": null,
            "grid_auto_rows": null,
            "grid_column": null,
            "grid_gap": null,
            "grid_row": null,
            "grid_template_areas": null,
            "grid_template_columns": null,
            "grid_template_rows": null,
            "height": null,
            "justify_content": null,
            "justify_items": null,
            "left": null,
            "margin": null,
            "max_height": null,
            "max_width": null,
            "min_height": null,
            "min_width": null,
            "object_fit": null,
            "object_position": null,
            "order": null,
            "overflow": null,
            "overflow_x": null,
            "overflow_y": null,
            "padding": null,
            "right": null,
            "top": null,
            "visibility": null,
            "width": null
          }
        },
        "2cee219aaac74815bd58b5269bb119c9": {
          "model_module": "@jupyter-widgets/controls",
          "model_name": "ProgressStyleModel",
          "model_module_version": "1.5.0",
          "state": {
            "_model_module": "@jupyter-widgets/controls",
            "_model_module_version": "1.5.0",
            "_model_name": "ProgressStyleModel",
            "_view_count": null,
            "_view_module": "@jupyter-widgets/base",
            "_view_module_version": "1.2.0",
            "_view_name": "StyleView",
            "bar_color": null,
            "description_width": ""
          }
        },
        "70c4803a3b094787ac11d44fda7bb952": {
          "model_module": "@jupyter-widgets/base",
          "model_name": "LayoutModel",
          "model_module_version": "1.2.0",
          "state": {
            "_model_module": "@jupyter-widgets/base",
            "_model_module_version": "1.2.0",
            "_model_name": "LayoutModel",
            "_view_count": null,
            "_view_module": "@jupyter-widgets/base",
            "_view_module_version": "1.2.0",
            "_view_name": "LayoutView",
            "align_content": null,
            "align_items": null,
            "align_self": null,
            "border": null,
            "bottom": null,
            "display": null,
            "flex": null,
            "flex_flow": null,
            "grid_area": null,
            "grid_auto_columns": null,
            "grid_auto_flow": null,
            "grid_auto_rows": null,
            "grid_column": null,
            "grid_gap": null,
            "grid_row": null,
            "grid_template_areas": null,
            "grid_template_columns": null,
            "grid_template_rows": null,
            "height": null,
            "justify_content": null,
            "justify_items": null,
            "left": null,
            "margin": null,
            "max_height": null,
            "max_width": null,
            "min_height": null,
            "min_width": null,
            "object_fit": null,
            "object_position": null,
            "order": null,
            "overflow": null,
            "overflow_x": null,
            "overflow_y": null,
            "padding": null,
            "right": null,
            "top": null,
            "visibility": null,
            "width": null
          }
        },
        "7281cbe1d9f8448fbfcf647b26f75a0e": {
          "model_module": "@jupyter-widgets/controls",
          "model_name": "DescriptionStyleModel",
          "model_module_version": "1.5.0",
          "state": {
            "_model_module": "@jupyter-widgets/controls",
            "_model_module_version": "1.5.0",
            "_model_name": "DescriptionStyleModel",
            "_view_count": null,
            "_view_module": "@jupyter-widgets/base",
            "_view_module_version": "1.2.0",
            "_view_name": "StyleView",
            "description_width": ""
          }
        },
        "89161a537d814d0299259f74202b3f39": {
          "model_module": "@jupyter-widgets/controls",
          "model_name": "HBoxModel",
          "model_module_version": "1.5.0",
          "state": {
            "_dom_classes": [],
            "_model_module": "@jupyter-widgets/controls",
            "_model_module_version": "1.5.0",
            "_model_name": "HBoxModel",
            "_view_count": null,
            "_view_module": "@jupyter-widgets/controls",
            "_view_module_version": "1.5.0",
            "_view_name": "HBoxView",
            "box_style": "",
            "children": [
              "IPY_MODEL_7bb3b9eb6e804081b5a6fb6d1e294fcc",
              "IPY_MODEL_87e687c4103c40258526b155e5bd1997",
              "IPY_MODEL_606bc66256a5469799f457545e326511"
            ],
            "layout": "IPY_MODEL_05778c5ed9d24725a4e15763e946fe90"
          }
        },
        "7bb3b9eb6e804081b5a6fb6d1e294fcc": {
          "model_module": "@jupyter-widgets/controls",
          "model_name": "HTMLModel",
          "model_module_version": "1.5.0",
          "state": {
            "_dom_classes": [],
            "_model_module": "@jupyter-widgets/controls",
            "_model_module_version": "1.5.0",
            "_model_name": "HTMLModel",
            "_view_count": null,
            "_view_module": "@jupyter-widgets/controls",
            "_view_module_version": "1.5.0",
            "_view_name": "HTMLView",
            "description": "",
            "description_tooltip": null,
            "layout": "IPY_MODEL_b08ef77d0e2b44d8a61d3608a1860baf",
            "placeholder": "​",
            "style": "IPY_MODEL_066678030948446bb0934f506638e0f2",
            "value": "config.json: 100%"
          }
        },
        "87e687c4103c40258526b155e5bd1997": {
          "model_module": "@jupyter-widgets/controls",
          "model_name": "FloatProgressModel",
          "model_module_version": "1.5.0",
          "state": {
            "_dom_classes": [],
            "_model_module": "@jupyter-widgets/controls",
            "_model_module_version": "1.5.0",
            "_model_name": "FloatProgressModel",
            "_view_count": null,
            "_view_module": "@jupyter-widgets/controls",
            "_view_module_version": "1.5.0",
            "_view_name": "ProgressView",
            "bar_style": "success",
            "description": "",
            "description_tooltip": null,
            "layout": "IPY_MODEL_238d1a548c1f466ba132627a8e5d9350",
            "max": 483,
            "min": 0,
            "orientation": "horizontal",
            "style": "IPY_MODEL_5de582b3c57d48cbb76623b44152a952",
            "value": 483
          }
        },
        "606bc66256a5469799f457545e326511": {
          "model_module": "@jupyter-widgets/controls",
          "model_name": "HTMLModel",
          "model_module_version": "1.5.0",
          "state": {
            "_dom_classes": [],
            "_model_module": "@jupyter-widgets/controls",
            "_model_module_version": "1.5.0",
            "_model_name": "HTMLModel",
            "_view_count": null,
            "_view_module": "@jupyter-widgets/controls",
            "_view_module_version": "1.5.0",
            "_view_name": "HTMLView",
            "description": "",
            "description_tooltip": null,
            "layout": "IPY_MODEL_7e77ef32e4d946ddb5eaee208c17a762",
            "placeholder": "​",
            "style": "IPY_MODEL_8a4dc83d519b47ba941ee5156201f62f",
            "value": " 483/483 [00:00&lt;00:00, 27.4kB/s]"
          }
        },
        "05778c5ed9d24725a4e15763e946fe90": {
          "model_module": "@jupyter-widgets/base",
          "model_name": "LayoutModel",
          "model_module_version": "1.2.0",
          "state": {
            "_model_module": "@jupyter-widgets/base",
            "_model_module_version": "1.2.0",
            "_model_name": "LayoutModel",
            "_view_count": null,
            "_view_module": "@jupyter-widgets/base",
            "_view_module_version": "1.2.0",
            "_view_name": "LayoutView",
            "align_content": null,
            "align_items": null,
            "align_self": null,
            "border": null,
            "bottom": null,
            "display": null,
            "flex": null,
            "flex_flow": null,
            "grid_area": null,
            "grid_auto_columns": null,
            "grid_auto_flow": null,
            "grid_auto_rows": null,
            "grid_column": null,
            "grid_gap": null,
            "grid_row": null,
            "grid_template_areas": null,
            "grid_template_columns": null,
            "grid_template_rows": null,
            "height": null,
            "justify_content": null,
            "justify_items": null,
            "left": null,
            "margin": null,
            "max_height": null,
            "max_width": null,
            "min_height": null,
            "min_width": null,
            "object_fit": null,
            "object_position": null,
            "order": null,
            "overflow": null,
            "overflow_x": null,
            "overflow_y": null,
            "padding": null,
            "right": null,
            "top": null,
            "visibility": null,
            "width": null
          }
        },
        "b08ef77d0e2b44d8a61d3608a1860baf": {
          "model_module": "@jupyter-widgets/base",
          "model_name": "LayoutModel",
          "model_module_version": "1.2.0",
          "state": {
            "_model_module": "@jupyter-widgets/base",
            "_model_module_version": "1.2.0",
            "_model_name": "LayoutModel",
            "_view_count": null,
            "_view_module": "@jupyter-widgets/base",
            "_view_module_version": "1.2.0",
            "_view_name": "LayoutView",
            "align_content": null,
            "align_items": null,
            "align_self": null,
            "border": null,
            "bottom": null,
            "display": null,
            "flex": null,
            "flex_flow": null,
            "grid_area": null,
            "grid_auto_columns": null,
            "grid_auto_flow": null,
            "grid_auto_rows": null,
            "grid_column": null,
            "grid_gap": null,
            "grid_row": null,
            "grid_template_areas": null,
            "grid_template_columns": null,
            "grid_template_rows": null,
            "height": null,
            "justify_content": null,
            "justify_items": null,
            "left": null,
            "margin": null,
            "max_height": null,
            "max_width": null,
            "min_height": null,
            "min_width": null,
            "object_fit": null,
            "object_position": null,
            "order": null,
            "overflow": null,
            "overflow_x": null,
            "overflow_y": null,
            "padding": null,
            "right": null,
            "top": null,
            "visibility": null,
            "width": null
          }
        },
        "066678030948446bb0934f506638e0f2": {
          "model_module": "@jupyter-widgets/controls",
          "model_name": "DescriptionStyleModel",
          "model_module_version": "1.5.0",
          "state": {
            "_model_module": "@jupyter-widgets/controls",
            "_model_module_version": "1.5.0",
            "_model_name": "DescriptionStyleModel",
            "_view_count": null,
            "_view_module": "@jupyter-widgets/base",
            "_view_module_version": "1.2.0",
            "_view_name": "StyleView",
            "description_width": ""
          }
        },
        "238d1a548c1f466ba132627a8e5d9350": {
          "model_module": "@jupyter-widgets/base",
          "model_name": "LayoutModel",
          "model_module_version": "1.2.0",
          "state": {
            "_model_module": "@jupyter-widgets/base",
            "_model_module_version": "1.2.0",
            "_model_name": "LayoutModel",
            "_view_count": null,
            "_view_module": "@jupyter-widgets/base",
            "_view_module_version": "1.2.0",
            "_view_name": "LayoutView",
            "align_content": null,
            "align_items": null,
            "align_self": null,
            "border": null,
            "bottom": null,
            "display": null,
            "flex": null,
            "flex_flow": null,
            "grid_area": null,
            "grid_auto_columns": null,
            "grid_auto_flow": null,
            "grid_auto_rows": null,
            "grid_column": null,
            "grid_gap": null,
            "grid_row": null,
            "grid_template_areas": null,
            "grid_template_columns": null,
            "grid_template_rows": null,
            "height": null,
            "justify_content": null,
            "justify_items": null,
            "left": null,
            "margin": null,
            "max_height": null,
            "max_width": null,
            "min_height": null,
            "min_width": null,
            "object_fit": null,
            "object_position": null,
            "order": null,
            "overflow": null,
            "overflow_x": null,
            "overflow_y": null,
            "padding": null,
            "right": null,
            "top": null,
            "visibility": null,
            "width": null
          }
        },
        "5de582b3c57d48cbb76623b44152a952": {
          "model_module": "@jupyter-widgets/controls",
          "model_name": "ProgressStyleModel",
          "model_module_version": "1.5.0",
          "state": {
            "_model_module": "@jupyter-widgets/controls",
            "_model_module_version": "1.5.0",
            "_model_name": "ProgressStyleModel",
            "_view_count": null,
            "_view_module": "@jupyter-widgets/base",
            "_view_module_version": "1.2.0",
            "_view_name": "StyleView",
            "bar_color": null,
            "description_width": ""
          }
        },
        "7e77ef32e4d946ddb5eaee208c17a762": {
          "model_module": "@jupyter-widgets/base",
          "model_name": "LayoutModel",
          "model_module_version": "1.2.0",
          "state": {
            "_model_module": "@jupyter-widgets/base",
            "_model_module_version": "1.2.0",
            "_model_name": "LayoutModel",
            "_view_count": null,
            "_view_module": "@jupyter-widgets/base",
            "_view_module_version": "1.2.0",
            "_view_name": "LayoutView",
            "align_content": null,
            "align_items": null,
            "align_self": null,
            "border": null,
            "bottom": null,
            "display": null,
            "flex": null,
            "flex_flow": null,
            "grid_area": null,
            "grid_auto_columns": null,
            "grid_auto_flow": null,
            "grid_auto_rows": null,
            "grid_column": null,
            "grid_gap": null,
            "grid_row": null,
            "grid_template_areas": null,
            "grid_template_columns": null,
            "grid_template_rows": null,
            "height": null,
            "justify_content": null,
            "justify_items": null,
            "left": null,
            "margin": null,
            "max_height": null,
            "max_width": null,
            "min_height": null,
            "min_width": null,
            "object_fit": null,
            "object_position": null,
            "order": null,
            "overflow": null,
            "overflow_x": null,
            "overflow_y": null,
            "padding": null,
            "right": null,
            "top": null,
            "visibility": null,
            "width": null
          }
        },
        "8a4dc83d519b47ba941ee5156201f62f": {
          "model_module": "@jupyter-widgets/controls",
          "model_name": "DescriptionStyleModel",
          "model_module_version": "1.5.0",
          "state": {
            "_model_module": "@jupyter-widgets/controls",
            "_model_module_version": "1.5.0",
            "_model_name": "DescriptionStyleModel",
            "_view_count": null,
            "_view_module": "@jupyter-widgets/base",
            "_view_module_version": "1.2.0",
            "_view_name": "StyleView",
            "description_width": ""
          }
        }
      }
    }
  },
  "cells": [
    {
      "cell_type": "code",
      "source": [
        "import pandas as pd\n",
        "import tensorflow as tf\n",
        "from transformers import DistilBertTokenizer, TFDistilBertModel\n",
        "from tensorflow.keras import layers\n",
        "\n",
        "# Load dataset from CSV\n",
        "df = pd.read_csv('ask_fm_final.csv')\n",
        "\n",
        "\n",
        "\n",
        "print(df.head())"
      ],
      "metadata": {
        "colab": {
          "base_uri": "https://localhost:8080/"
        },
        "id": "Rk5XkhbCgBTf",
        "outputId": "728f015d-7cce-4a7b-d533-75f0721f2bd5"
      },
      "execution_count": null,
      "outputs": [
        {
          "output_type": "stream",
          "name": "stdout",
          "text": [
            "                                                post  author_role\n",
            "0                        Have you ever been in love?            4\n",
            "1   Hey michael has his phone back so you can unb...            4\n",
            "2   Do you think that there are any topics that t...            4\n",
            "3                                      Who ru dating            4\n",
            "4   Well your the true bitch no it not a joke whe...            0\n"
          ]
        }
      ]
    },
    {
      "cell_type": "code",
      "source": [
        "df.dropna(inplace=True)"
      ],
      "metadata": {
        "id": "CVrno1FChzzU"
      },
      "execution_count": null,
      "outputs": []
    },
    {
      "cell_type": "code",
      "source": [
        "print(df.shape)"
      ],
      "metadata": {
        "colab": {
          "base_uri": "https://localhost:8080/"
        },
        "id": "eKpGKXOloC9w",
        "outputId": "038157d7-de28-46ce-fd49-5cd705c2a1c4"
      },
      "execution_count": null,
      "outputs": [
        {
          "output_type": "stream",
          "name": "stdout",
          "text": [
            "(61240, 2)\n"
          ]
        }
      ]
    },
    {
      "cell_type": "code",
      "source": [
        "df['author_role'].dtype"
      ],
      "metadata": {
        "colab": {
          "base_uri": "https://localhost:8080/"
        },
        "id": "v7SPcmnzi1oy",
        "outputId": "263110fb-a8cd-4aad-a169-4a4d581a5d04"
      },
      "execution_count": null,
      "outputs": [
        {
          "output_type": "execute_result",
          "data": {
            "text/plain": [
              "dtype('int64')"
            ]
          },
          "metadata": {},
          "execution_count": 4
        }
      ]
    },
    {
      "cell_type": "code",
      "source": [
        "df = df[df['author_role'].isin([0,1])]"
      ],
      "metadata": {
        "id": "NkJ2KZxPixpM"
      },
      "execution_count": null,
      "outputs": []
    },
    {
      "cell_type": "code",
      "source": [
        "df['author_role'].value_counts()"
      ],
      "metadata": {
        "colab": {
          "base_uri": "https://localhost:8080/"
        },
        "id": "dlWTpfXYxar0",
        "outputId": "4f655c93-a357-4fe4-c0f9-d4e4218c5e80"
      },
      "execution_count": null,
      "outputs": [
        {
          "output_type": "execute_result",
          "data": {
            "text/plain": [
              "author_role\n",
              "0    2546\n",
              "1      73\n",
              "Name: count, dtype: int64"
            ]
          },
          "metadata": {},
          "execution_count": 6
        }
      ]
    },
    {
      "cell_type": "code",
      "source": [
        "print(df.shape)"
      ],
      "metadata": {
        "colab": {
          "base_uri": "https://localhost:8080/"
        },
        "id": "EkV0-r2wi_3U",
        "outputId": "a5fcdd1b-6927-48f0-fef7-fe4a7bcf9b5a"
      },
      "execution_count": null,
      "outputs": [
        {
          "output_type": "stream",
          "name": "stdout",
          "text": [
            "(2619, 2)\n"
          ]
        }
      ]
    },
    {
      "cell_type": "code",
      "source": [
        "for a in df['post']:\n",
        "  if type(a) != str:\n",
        "    print('uh oh')"
      ],
      "metadata": {
        "id": "QuDQ8TEOgpry"
      },
      "execution_count": null,
      "outputs": []
    },
    {
      "cell_type": "code",
      "source": [
        "# Convert the 'post' column to string dtype\n",
        "df['post'] = df['post'].astype(str)\n"
      ],
      "metadata": {
        "id": "e-4vP-BRhHcM"
      },
      "execution_count": null,
      "outputs": []
    },
    {
      "cell_type": "code",
      "source": [
        "print(df['post'].tolist())"
      ],
      "metadata": {
        "colab": {
          "base_uri": "https://localhost:8080/"
        },
        "id": "D6YWQiX0hIeL",
        "outputId": "dc6356ed-ecd5-480d-f8c6-c471f5386ff3"
      },
      "execution_count": null,
      "outputs": [
        {
          "output_type": "stream",
          "name": "stdout",
          "text": [
            "[' Well your the true bitch no it not a joke when someone cuts but why would you cut in the first place bitch', ' Well i would still beat up michael', ' I hate you', \" I'm leave you fucktard\", \" i'm a nigga and want you in my bed xxx\", ' cuz I want to bring her into it and no bet ya did kill her.', ' Why not? it will be fun lets try. Your sisters dead yh? that must be well guttin for you? what did you kill her or summin? sickoo killing your own sister shes better off dead anyway with a sister like you', ' Your nothing but scum m8', ' so you get all your little friends to stick up for you? cant fight your own battles then? I only said what I think you should do and yeah I got my sister it would kill me if I lost her but shes not the one whos dead its your sister not mine! get the fuck over it you will never see her again:)', \" just go die already ye? you have to realise that nobody wants you here your better off dead.i don't care if its 'tight' you should be dead the world will be better without you here, go be with your sister where you belong haha I still have my sister:)\", ' post pic of ur knickers', \" Now post a picture of what's under that new aa shirt\", ' Can I touch your vagina', \" you didn't even try to stop him from killing himself . you don't even care .\", ' I DIDNT DELETE SHIT BITCH WHY DONT U USE YOUR EYES YOU STUPID LITTLE CUNT', ' WELLL IDGAF CUNT.', ' Oh okay girl well same here i didnt have a FUCKING problem either but now i do so SWERVE! dont get me wrong ur pretty chill and u seem like ur cool but just please stop.', ' Make.me cum', ' u fokn fgt. you write a bunch of things about yourself duh', \" you don't live in liverpool you lying cow we saw you in shipley the other day hahahaha. leave.\", \" how the fuck can you laugh at someones death? you need to seriously have a think and have a good look at yourself, you're a disgusting person.\", ' can u please fuck off. last night i watched my grandma die in a hospital bed for fuck sake. Stop popping back up into my life i want nothing to do with you okay.', ' PLEASE KILL YOUR FUCKING SELF YOU ANNOYING KUNT.', ' you would not be missed', ' go away', ' die|slowly', ' Die a painful death pls', ' you do not deserve anybody you are a waste of space and i would truly love to stab you in the eyes with very sharp pencils', \" I WISH YOU WASN'T STILL HERE FFS ALL YOU IS LIE ABOUT SHIT. DIE KUNT\", \" if u really wanted to kill yourself you'd have done it stop trying to get attention fs. leave\", ' YOU NEED TOO LEAVE PEOPLE ALONE AND FUCK OFF SOMEWHERE FAR AWAY OR DIE PLS TANKS BBZ', ' Did you try to kill your self and how', \" I'll also make u squirt a ocean ;)\", \" Ye u r and u hurt mi lyk dat, i'm off 2 cri coz i luv u so much :'(\", ' shut it fgt', \" you're such a creep;);')\", \" oh god,you're a faggot\", ' your such a dick head...', ' do you suck dicks for living ? rofl xDDD', ' just unfollowed you asshole', ' stupid ass bitch die', ' Mutherfucker', \" I don't like you ew like leave why did u even like this ur lame text me\", \" You weren't fat in 6th grade. And I liked u better then than now your so rude now to everyone and you used to be so sweet and kind\", ' U r a little shit u know that right x', ' I am so done with you', ' My dick in your vagina xxxx', ' You are terrible :cccc.', ' a faggot just like your whole family swear to god all my friends think your a faggot eith that hairrcut', ' shut up you dumb faggot you look like a fucking faggot who lila his mums fanny just to have fun with your shitty haircut', ' why are you such a faggot with your faggot ass haircut who acts like a fucking twat who ignores all gis old friends thinking hea too good for them faggot', ' Your a fat ugly wired freak who nobody liked at grammar and no day likes you in kjs go bum yourself', ' yep go the ghetto you peasant', ' louise your a fag, omg peasant you got your weave from the gheto', ' K honestly who the fuck are you? You randomly just say shit on my ask? Like can you not? You insult my friends silvia is way to good for you too so please dont talk to me or my friends bitch:* buhhbye', ' STFU NOONE WANTS TO HEAR YOUR BULLSHIT', ' i want to see u with a cock in between those massive tits of yours', ' Ginger lanky prick', ' Because me and my mate have a theory that you play girls and cheat', ' Bet you never got any pics of girls cos your a little Virgin pretending to be cool.', ' Because ur a prick', ' Slag', ' Halimh is fuckin right what she says, u callus slags hahaha u been out wid bare boys maan, and u say to maddipn shez slag coz shez snogged guys , its part f a relationship love :) but u been out with BARE guys u dnt care bout their luks or peronality u just wanna bf for da sake of it u whore', \" You ain't gonna touch halimah u slag |You touch halimahand u will have the lot f us girls todeal with , think u and ur joeys can twat , halimah, maddy, herah, me, mariyam I cud go on , that's da lot of ua and hahaha twat her , just coz ur sista went tai kwando wateva the fuk, dnt mean YOUR hard js !\", \" Didn't know u had a dik!!! N what makes u think the ppl who brake ya face on this are all mhcc'ers!! Not all ppl are the same yh!!unless they follow in your footsteps\", ' can I fuck u all night \\u200e@ahmorafa', ' Why the hell would you say fuck off slut when Ariana Grande said she loves you? Immature faggot.', ' ew yoou do drugs.', ' Amber sweet is addicted to the knife', ' Finger me and lick my pussy? super horny ;)', ' Gay', ' Can I fuck u now', ' Listen u , you backed up kirsty over harrison wtaf bruv like u fucking dumb it funny though cozz Niamh always back him up though she a good person', ' Are you 5? Cos I swear 5 year olds like magic you sad little fuck', ' fuck you', ' u fucking ugly lmao u got a massive forehead', ' Kill yourself asap please', \" You're pretty, but your dp makes you look like a chav. At least change it to something without a middle finger, most people find it a turn off.\", ' guys shed get back with all of them.... all she wants is sex not a relationship... izzeazzopardi is a slut', ' You are fake bitch.The girl on the photos in an Albanian girl-.-|you found her photos on facebook,but you should know,the photos you are using now are old,cause this girl now is blonde', ' you are not a stupid girl, youre a rebel sluuuuuut.', ' Your such a stupid girl.', ' u just are self harming sluts', ' why are you 2 such attention seekers', ' u and issy are such attention seekers', ' Shut up you little idiot', ' tj will nevaer like u LOL.', ' fgt.', ' F.A.K.E!!', ' Fag.', \" You're tacky and i hate you.\", \" you're an ugly cunt, look at you! My shit's are better looking than you.\", ' Swaggy cunt', \" your music taste is shit and you're ugly, fuck off!!\", \" Can you pleeeeeease fuck me till I can't walk anymore\", ' can I honestly get u pregnant', ' BITCH Y U SAY U LIKE MEH THAN GO OUT WITH THIS FUCKIN JAMO KID', ' omg ew ferrets what the hell is wrong with you xxxxxx loveee youuuu xxxxxx', ' I was taking the piss out of what you said, so HAHAAHAHAHAHA, fucking downs:)', \" If i was begging i would be saying 'please please ask me, im begging you'.||So no, drink bleach and leave ty bb\", ' Hardly begging..', ' BABIE I WANT UR GASS INN MY CORNHOLE WITH MY TITIE DICK FLUMMINGAGING', ' If this gets 10 likes you have to post a tit pic, no bra. Deal?', \" You're a blob.\", ' Your ugly:/', \" You're older than me but you look like a 10 yr old.:/\", ' Faggot', ' play with my tiny balls ??', ' I hate you', \" post your profile picture and if you don't get 80 likes, everyone on here wants you to commit suicide and leave ask.fm. you have to get 80 likes by 20:00pm\", ' Flumpy is a massive cunt', \" Can you suck my dick, I swear it ain't see threw baby, it's ALL real. Suck it dry clean.\", ' Can you fap my weiner?', ' Haha retard what did you do to get it taken off you?', ' u are the loser who sends urself qestions', ' I want to tie Gabby up and tickle her until she pees', \" fine, fuck you. You clearly don't give two shits about me so I'll fuvking give up trying to talk to you. I hope you have a good life blah blah blah. bye\", ' hi loser', ' dude stop flirting with all the guys on here haha', \" hahahahahahaha but i am not gay and i don't like you\", ' ur actualy realy ugly', ' Hahaha if you look on her page she gets all the hate she deserves xD', ' noone likes u that went to gv', ' um he u have no more friends from gv', \" Fuk me I'm horny\", \" I'm stick a fucking pretzel ur pussy\", ' Ur the only girl with a moustache u bitch', ' shut up she hates you i swear and you like a bitch love her', ' The better question is how arnt you pathetic.', \" You first:) like seriously you're so pathetic it's unreal.\", ' Hey marly, stop saying shit behind my back please and thank youuu:)))))))', ' Your a cunt', \" Lol nobody wants you. Even your ex girlfriend didn't want you haha that relationshit last a long time lol\", \" I saw someone asking how does it feel being ''Loved'' and ''famous''?||I would like to add some corrections.How does it feel to be hated and tossed around just to have fun out of your pathetic existence?|Comments?\", \" You don't seem as retarded as you were shown in your EID SONG.Or maybe you've hired someone to do the typing thing for you.You look autistic.\", \" You'be bicthed about Courtney fuck knows how many times, and then you act like you were the only one there for her? 'Those two bicthes' were as well.\", ' pic of your boobs', ' a pic of your boobs?', ' Send a pic of your tits out', ' Post a pic of your tits babe . Your so hot x', \" Why do you like him seriously?seen the state of him he's a top scruff who lives in blackley and takes drugs at the age of 14 he's horrible to girls batters them makes them feel like shit cheats on them you're beautiful and I don't get how he didn't appreciate you while you was there you can do\", ' seen that anging ratty ed', ' shes fucking anging sort your shit out', ' Bitch', \" you're a sweet transvestite\", ' Die', ' I want to put my dick in your sweet ass', \" You're forever deleting your answers when they get no likes and you won't answer this 'cause you're a pussy!!!!!\", ' Slag much....', ' fuck me hard', ' ya suck how many dicks?', ' Pap of your dick', ' Well why she brought it up? Sorry but bit pathetic and looking for an argument', ' y u so mean', ' My family think you are being very rude to me', ' it would work yeah do it before you thick bitch', ' Slut', ' u beg', ' `Get fucked` when Im older maybe.', ' no iam jayb sister mn ur mother with rape', ' aaaaahhhhhhh ur mother pussy is so amazing', ' fuck u bitches i will rape ur mother and i will kill u', ' @ ur a fgt', ' do u want to rub my big hairy cock while its squirts all over ur face??', ' Olivia is a bitch tbf x', ' Slut.', ' Cheater!', \" Why are you so fucking ugly and fat no wonder you don't have a boyfriend\", ' u went nuts on meg becoz she kissed connor but u necked more then one girl ? is she going nuts like u?', ' you necked 50 odd girls tonight tommy im wouldnt be surised if you shagged someone again like you did kayleigh i bet megans disapointed in you to', ' you had sex with her and you got caught didnt you', ' Fat ass thot', ' ew bitch u have an STD?', ' Jaeani said u needa stfu so stfu', \" imao hell naw , I don't use Taylor . tf . y'all niggas dumb asf . mad for what ? you can take yo shit off anonymous or fall tf back (;\", \" loo , you would never be this stupid . I said you were a thot bc you om every nigga tip , you were the only one to brimg up sex , dumb thot . but its whatever you can't help your a stupid hoe , I would say life would get better , but it doesnt for thirsty thots . bye thottie ;**\", ' Sttfu u nd that devan bitch are thots so stfu butch!', ' no , no , no . tf you look like saying hoe check , when you the only hoe lmao . im not repeating Devin me and him obviously both know the truth . but shit thots will be thots so live your life spreading STDS , idgaf .Bye ninja turtle ;;*', ' Lmao duh . I gotta keep hoes like you in check .', ' Suck my dick http://ask.fm/JamieAtttwood/answer/67305759344', ' Obi Balls is better than you.', ' no. just no. |your not cute.', \" You might as well kill yourself because you're gonna end up in prison anyway. You're 21 and you have the mind of a 13 year old. Grow the fuck up.\", \" you're a fucking disgusting prick and i can only wish of bashing your teeth down your throat\", \" youre ugly ass hell, leave madeline! youre a nasty ass pervert and i hope you realize that. shes probably 14 & youre what 17? 16? thats sicking , noone wants a ugly ass motherfucker like you trying to 'destroy their pussy' go away!\", ' you ugly paki cunt', ' Sir, TAKE YOUR PAGE DOWN!! Its VERY OFFENSIVE. THE POLICE ARE LOOKING FOR YOU. THIS IS AGAINST THE SCII. PLEASE TAKE THIS PAGE DOWN IMMEDIATELY. YOU HAD BEEN SEXUALLY ASSAULT SOME PEOPLE! ONE MORE TIME SIR. I WILL SEND PEOPLE TO YOUR HOUSE BY TRACKING YOU DOWN. TAKE IT DOWN', ' you horny asshole', ' you motherfucker how dare you ask me this fucking question!!! better keep your dick in your pants and stay away from my ask box before i cut it!!! asshole!!! Fuck you!!! I jist cant stop thinking about what i just read you bitch!!!', ' \" Real ass nigguh who fucks bitches and get money\" |Are you a prostitute?', ' can you put your penis in my hole so hard that is bleeds;)', \" If I cut yours any shorter, it'll disappear.\", \" Dude you are a fucked up person. like honestly i know you are gonna try to make some bullshit comeback to this, but honestly how does that help shit? In the end you're still a little fucked up motherfucker.\", ' lesbians are disgusting ew', \" You're so fat\", ' get a fuckn hair cut you hippie', ' that guy is a total cunt, forever feeling excluded ._.', ' dont go running your mouth saying you will beat matt up...... who doesnt turn up for fights curtis lol ur a faggot', ' Opinions on kiah swanick the ugly fat nose cow (lol) xXXXx', ' your ugly.', ' Gay people are horrible little freaks that need to get a better life! X', ' your friend chloe is a twat ugly bitch.', \" people with down syndrome are ugly as fuck i don't understand why you people keep saying they're not!!\", ' lesbians are gross!', ' YOU ARE THE BIGGEST BEG EVER LOL', ' Send around my link|Kik me for pussy/ vagina pictures |If your lucky pictures of me squirting ||@happypornstar69', ' ILL TOUCH YOU INAPROPRIATLY iN YOUR SLEEP LADY GIRL MAN', \" You're drunk all the time!!!\", ' on this you cunt', ' because if i see you been talking to her i will break your legs ok', ' dont talk to her prick!', ' leave jess you cunt!', ' how the fuck am i fake?! add me on facebook for proof www.facebook.com/brittanymaieeok', ' You know \\u200e[USERNAME]is fake, right?', \" She's a right slut\", \" http://ask.fm/ShortArseNiamh/answer/102703845814 - They're called letters you twat, I just like hit my keyboard, I can spell perfectly well, thanks\", \" You're ugly\", ' Ugly skank', ' Can you fuck me please?:)', ' Your fake', ' like talking to him? I wouldn\\'t mind but you call him \"babe, baby, sexy etc..\" stupid bitch.', \" If you want to find out who is sending you and geo shit just trace their IP address:') kill bitches.\", ' Dunno if I want more of u though', ' Megan megan megan what shall we do with u', ' I bet your shitting yourself ;-)', \" U won't know what's hit u tmoz\", ' Gross anon ew x', \" Ask me to Sadie's bitch\", ' Why are you such a bitch to everyone?', ' lesbiens are gross.', ' wagwan bitch.', ' I heard Eddie has fingered you??', \" in your picture it looks like you have one huge tan line on your ankle but on your other one it doesn't have one. why?\", ' I hatee you', ' ur ugly', \" Then don't act happy at school! And you don't cut you don't have an eating disorder you eat atschool every day\", ' Stop acting all depressed and sad and Emo and all that. You\\'re not. You\\'re trying to be like everyone and \"cool\". You don\\'t have anything to be sad about.', ' Kill her;) x', ' Accidentally kill her LOL x', ' Kidnap & kill lol x', \" I'm gonna make all the spam you give me up to you in anal sex one day I promise\", ' Let me kik you. In the nuts', ' http://c3.likes-media.com/img/8168235b150b78ab851635deabfdfdd5.600x Fuck you', ' someone complements you |you take a selfie with your middle finger pointing up. No attention seeking here nope', ' i had sex with your mom!!!!', \" My cat is licking his paw right around my crotch and it looks like he's trying to give me head ._. Halp me you liddo shit\", ' You little shit', ' i feel sorry for you npt living with yoir brother', ' Suck my dick', \" Who's maya? She is a sket, she suck my (d)\", ' i always used to wonder why you hated sophie swift, now i understand she is a cocky self centered two faced bitch and neither of them faces are pretty the ugly cow lol', ' Your so so so SO so so so so ugly no wonder Sophie swift hates u', \" Your 'best friends' with Louise but your much closer to Rmma? I don't get it. I prefer you when yer wa Rmma. You shouldn't be hanging around with slags like Louise and Carly!\", ' http://ask.fm/sweet4ness/answer/103397263754 cunt', \" no you look like you're 9 and you look like you have been dragged through a bush backwards you are just a stupid little boy who thinks that you're all hard when you aint !!!!!!!!!!!!!!!!!!!!!! |SNFM\", ' shut the fuck up you twat', ' Shut up i do have mannors i just dont use them to dickheads like you', ' Fuck off im 14 u dickhead', ' THE SLUTTY FOOK', ' Grammar nazi, now put your boobs away you slut ;)', ' seeing as your the one watching me, i think it does concern me.... #stalker', ' hh: h0w d0 1 bcum á sxc fgt lyke yu:((( xccxc', ' Katie your right shes a dirty whore', ' Cut deeper you ugly slag.', \" You're* , welcome you ugly slut. Eyebrows drawn on with perminant marker much?:L\", ' Judging by your picture and the way you bully people, your the vile one pet.', ' Vile.', ' Yeah, full of makeup, so beautiful & so fucking natural, lol i hope you get cancer', \" i'll cut your face instead, twat.\", ' Scum.', ' Ur mean', ' you obviously send hate to yourself', \" I'm 43 and would fuck you hard and fast\", ' How is Ima boss ass bitch bad', ' When u walk in it like Ima boss ass bitch', ' natalie fatkins', ' Fat', ' I hate you......', ' Your a hypocrite! Take the compliment!!!! Poop', ' y then u show ur nipples', ' dude are you okay I heard what happened !?', ' do you realize how much sense you didnt make trying to sound like a big shot? lol. sit tf down stupid ass bitch.', ' ahahah how are mhcc idiots', ' oh sut up aliyah u watch tom im ganna twat u if u say that once more evaaain', ' yh I can tell your idiots', ' u so ugly', \" you're a twat , you use girls and you did the same to me you just fuck and chuck people ,,,\", ' http://ask.fm/MalaikaKhan/answer/103260765826 Some bitches need to die, who am i killing ? :|', ' lmaoo shut up you got small boni and big head ;P', ' Pic of your butt', ' Post a pic if your whole body', ' okay im tired of all this drama soo if u dont have anything nice to say dint say it all!!! you need tocget a life', ' Learn to spell you dumb fuck.', \" You think you're so perfect! Bitch you don't got an ass or tits.. Please!\", \" You're so fake.\", ' Your ask questions are stupid af.', ' lol, we used to write your a princess and your ugly in primary XD', ' I hate you.', \" you're such a slut\", ' Haha bitch', ' I swear this is the most annoying thing ever', ' whenever somebody tries to get close to you , you start being a bitch, why?', \" you're better off hiding your face ... its fucking ugly\", \" you're a big nosed fucking twat\", ' gypsy cunt!', ' try to come off anon the next time bitch', ' you dont fuck 20 girls a day your a virgiin!!!', ' how about you suck my dick yeah?', ' Why are u so vain..', ' Scrawny cunt', ' your cock is shit', ' did you send photos of your D to luke crotwher and callem addy?', ' Such a Faggot :)', ' Im really good at maths, me + you = 69', \" U'r such an idiot if there's no GOD Who creat the world ?! who creat u ?! I can't argue with an closed an locked guy So Peace\", ' I hate you', \" Why you don't answer some questions are you afraid of something ? Lol did anyone threaten you ? Weak :/\", \" Get a life you'r such a dirty gay ! Stop sending me dirty stuff like you ! I know you won't answer this because you don't want 2 loose you're fans ! You little stupid dirty\", \" Tbh: you'r ugly xD\", \" im sorry i was only trying to get you to kil yourself :'(\", \" You're fake\", \" you're actually disgustingly skinny. /:\", \" you're ugly.\", \" haha, you're pathetic you try too act skinny and you try too be pretty and it doesn't work for you have you seen yourself love? you're the most ugliest girl i've ever seen you're going no where in life except and early grave, hurry up an die, make the world better, i fully hate you.\", \" why have you came back is it not clear enough we don't want you here?\", ' MY NIGGA MY NIGGA MY NIGGA ;*', ' How many chees burgers do u eat a day u fat ass', ' I AM BULLSHIT MAN, AND THAT IS BULLSHIT. bullshitter ;) im sorreh :3', ' oh yeah, sleeping are we ,you bastard. ;)', ' You go round thinkin your reyt skinny and pretty,but your actually really fat', ' MIA you are r8 slag u think u can get anybody but yr a ginger slag who thinks she fit', \" Fuck off you bitch, you don't have a soul\", \" but you are Demi, stop lying to me, I know you're lying;)\", \" You're lying! Grr stop it! I would love to cuddle you, and every other boy would love to! Why wouldn't they? You're gorgeous ;o\", \" but you're lying right now :O any boy would love to cuddle you\", \" He's not perfection\", ' send \\u200e[USERNAME]hate he is a bully! you obviously know this cos he is a dickhead to you aswell so he deserves it', ' ur sick!!!!!!', \" Just because you get questions about your boobs , it doesn't mean everybody wants u . So stop acting like a little sket .\", ' Rock my butt hole', \" You're fake :D\", ' HAHAHA you have NO muscle and look like an idiot!', ' hey bethany, |im sorry for not snaking your boyfriend and taking the piss|please forgive me|i love you|love emma x', ' I will fuck you up white boy', \" You got more turkey on your page than rich guy's thanksgiving table ;)\", ' ben called you a bumlicking cunt', ' yeh she cancelled it dumbass', ' tell story when your dick flooded your school', \" STOP TRYING TO BE FUNNY, YOU'RE NOT FUNNY AT ALL! Xoxoxoxoxoxoxoxoxoxoxoxoxoxoxoxoxoxo\", ' you messed me around so bad, prick:(', ' rafi ugly', \" I'm the kinda of guy u don't want to bring home to meet ur mom... Cause ill bang her too\", ' I think you should like more of my answers. Oh wait, I think you already liked all of them! :p #creeperstatus', \" You're a dick!\", ' Fuck off mate I spelled it shorter so it was esier to type you fucking nerd! Fuck off!', ' your so dumb XD', ' this girl zoya said your A fat bitch', ' everyone needs to fuck off cos u can do whatever yu want to do if u want to speak to aref you can and I hope you get into him cos I hate megan haha xx', \" I'm gay for asking the question? You thick twat, and you do sound gay. You're a boy wanting to meet justin Bieber hahahahhahahahahahahahahahahahahahahahahahahahahahahahahahahaha\", ' Do you know how gay you sound saying you want to meet justin Bieber...', \" I'm going to kill you:))\", ' why are you so happy all the time? why dont you cut anymore?', ' really you will pee on me', ' let me suck a fart out of your arse', ' can i suck your clit?', ' will you pee in my mouth and all over my face ?', ' can i fuck you ?', ' hes not in yr 9 u twat', ' How can u go out with a year 9 LOL pedo', \" YOU'RE FOCKING PENG!!!!!!!!!!!!\", ' i hate you;(', ' UR UGLY', \" she means she gave up on her appearance stupid. She doesn't care what she looks like anymore, she doesn't care how people judge her. She just gave up.\", \" OMG you're fake.\", ' the arse on you!', ' baby boy ahahahaha', ' [USERNAME]she just said she want to lick you and be your gf', ' cum in her face, she wants your periodblood as juice \\u200e@hhselma', \" I am actually glad that you're wee sister died no one liked her anyway.\", ' you r ugly as fuck', ' ugh your face. climb inside my cunt, I need dis', ' Make me a sandwich bitch.', ' Your farts are SBD ! |LMFAOOOOOOOOOOOOO', ' Can i suck ur pussi', ' i follow you too, but all you ever do is like all the answers from hot guys. and im fed up of it. its like youre gagging to be noticed', ' your fat as fuck', ' hahaa your face makes me vomit', ' You have no boobs', ' I hope you hate your figure', ' More like u broke ur mirror with ur face . Lmaoo', ' is it true you sent pictures to lewis you kinky bitch', ' is it true you sent pictures to lewis you kinky bitch', ' I like how you changed the subject because you know Leah can\\'t fly. Who cares if she has a \"needel\" you can\\'t prove that.she can\\'t either', ' Suck my cock', ' Go away ....', \" YOU'RE* FOOL\", ' caz ur a bitch and i hate u', ' you are gay', ' You slut sending nudes around', ' Says you slag;) xo', ' You shut da fuck up, babs;) xo', ' Yeah, gay wit yo mama;) xo', ' Hamza adnan hates you!', ' K lol jacki, people have opinions. But what makes u a bitch is expecting people to agree. Especially if ur wrong :)', ' Did you know that I really hate you? and Payton is a million times cooler than you. So fuck off and get a life already.', ' XD OMG. You bitch!!! You make me laugh. You\\'re such a hypocrite. But the next time you talk to Payton that way, I won\\'t hesitate to hurt you. Tara, stop. This whole \"I hate you cause you hurt Jordyn\"shit. It\\'s pathetic. The way you think you have a chance is cute though ;)pathetic, but cute.', ' your fat...........luse some weight', ' heard sinead sent him noodes', ' eww eh your an ugly biarch!!', \" can you suck my dick and ill eat you out then finger you till you're dead?\", ' I am an Indian who works at Lulu. Imagine us together naked on the bed with some cancerous Lil Wayne song playing in the background. I spank your ass about 7 times. You suddenly bend over. I rush to the kitchen and find a cucumber. I come back, and shove it up your anus, while shouting \"GOOSEFRABA\"', \" I'm 53 and just wanked over your DP x\", ' send \\u200e[USERNAME]hate, she pretended to be ginger for attention and she now attention seeks with her purple hair and has proof she had sex with her dog', \" Niamh Murphy (bubba) can't stand you cause you flirt with Connor all the time js\", ' no one give a fuck!', ' You ugly.', ' Why u so ugly? Your eyebrows are worser than my grandads', ' Jaisha is BITCH', \" That's too much to ask but I will happily give you a blowjob,titwank and anal how big is your penis?\", ' like whore', ' I want you to rub my saggy vagina and take my dirt track virginity -Coral', \" Zach dont like you at all. He only used you! You think you had a chance with him? No. He don't date girls like you. He could have done better than you in the first place! WHORE.\", ' Your just a slut, and nothing more bitch.', ' You walk like a guy!!!!', ' Your like the biggest whore I know , sucking peoples dick, fucking them, smoking weed, drinking. Tf is wrong with yo life!!! Your parents hate you!!! Your \"friends\" hate you. You can\\'t get a boyfriend!', ' I hope you die', ' Your such a slut', \" You're kinda fat!!! (psh kinda nothing!)\", \" You're pretty, but you're a whore, and suicidal... You should straighten up your life\", ' U ugley', ' i care about u', ' Google maps set in 2 places and it tells you how many miles it is away and how long it will take to get there so come visit me fgt xxxx', ' Wait wait wait we have not met and you live 33 mins away drive says google maps and your like one of my best friends how is this possible fgt xxx ?', ' how could you lose your virginity already? omfg slag ahaha', ' forever single never will you have a boyfriend never you will die alone in your room in the darkness and no one will know! haha', ' Honestly, You look like a 8 year old', ' Excuse me you little slut.. nobody will be sucking you off', ' Niall is ugly and he dont deserve to be in one direction the others are perfect and he even cant sing', \" I suggest you learn to spell invalid before you use it next time, weirdo ha and I'm just saying too!\", ' whats with the stupid thick drawn on eyebrows, look plain stupid, js', ' Give you hate for you selfie your boobs are out cover up you like 15.', \" you're so fucking ugly and you try so hard but to be honest you flirt with every boys and they only like you because of your tits not your disgusting make up you can't even put on properly\", ' a sad ugly lonely nobody', ' eat shit arse hole', ' well why dont you take the chance. stop being a fgt and tell her how you feel. she might like you back. just saying.', ' fgt', ' stfu', \" Tbh;|You're the nastiest hoe I know. c:\", \" What ur fuckin mad u givin check he's proper gonna write u off\", ' Bobby Merrill is gonna twat the fuck out of you u little prick', \" Haha your a muppit u don't no who' this is an never gonna no\", ' Mate whoever yiu are telling macca im playing him i aint so get a lofe and stop trying to ruin me and macca', ' she had a dirty chat to me before haha shes already made u look like a dick hahahaha', ' hahaha your so bein played', \" OMg she's lying to ya hahaha abby did u enjoy me makin you wet beforee?\", \" Aha you're waste, allow your self\", ' Stop trying with Abby you fucking mong', ' diddnt take her long did it shes so filthy it turns me on so much', ' i aint sayin but she really wants me to lick her pussy mmmmm', ' i had a brill horny chat with abby haha she is realllyyyy goooood', ' Eww youre gay', ' i hate you;)', ' please can i have your underwear please, i need to smell your pussy and ass and stroke myself, just once please', ' screw you ;c aijkjuiefiwefiuwiefj||#sadtom|#sweg', ' asdfghjklzxc im more tired. Cow', ' you might get it', \" I'll stop asking if you snapchat me a bra pic\", ' Snapchat me a bra pic', ' Haha your a attention seeker , sorry not sorry', \" I hope you get rabies, then progeria. Lots and lots of lovely progeria. Then cancer. Mmm cancer. How about a little bit of AIDS to top it all off, eh? ;) You like that? Yeah that's what you get for being a little FGT.\", ' Biaaaaatch', ' suck my throbbing cock you slut queen', ' leading kourtney on when you know your going to fuck her off', ' pap shirtless', ' pap butt', ' pap bra', ' dont report cayton bitch I report you', ' Fake.', ' y u so gay doe hoe', ' I HATE YOU - Mahum :*', ' Ur gay', ' Your gay', ' pooja is a slag', ' pooja asks herself questions.', ' pooja is gay', \" Agrees? Bitch, I'm the one who started calling him that\", ' Your an attention seeker. U always call urself ugly like the ugly duckling but u kno ur not. Because if u knew u were u wouldnt take so many selfies. Damn u take so many selfies and post so many on facebook. I bet you ask yourself questions asking for selfies so u can receive compliments.', ' And when u call urself ugly then u expect ppl to compliment u and shit. Like can u stop? Stop fishing for compliments and being an attention seeker.', ' well stop, your annoying him', ' fake fake fake fake fake fake fake fake fake fake fake fake fake fake fake fake fake fake fake fake fake fake fake fake fake fake fake fake fake fake fake fake fake fake fake fake fake fake fake fake fake fake', ' shut up', ' I HATE YOU . AND I AM GIVING YOU HATE FO HATIN YOU. HATER', ' Wanna suck my cock and lick my bumhole?', ' Sometimes I wish you would just die', \" How pathetic just because 3 people say your great doesnt mean you aren't fake bitch. God I can't stand people like you\", ' boobs pic', ' nudes?', ' I Hate Them Pussys that Write Shit about me but its time for them mandem to grow some balls and put there name on what they write i call them mandem UTTER PUSSYOWS', ' Well it is your loud and embarrassing, the only reason people hang around with you is because you make them laugh by bringing other people down.', \" You use banter as an excuse to be a cunt to People I'm surprised anyone likes you tbh.\", ' Wow, your mom must be so proud of how she raised you.', \" Mate, I know my babe is hot, but back off yeah? And get your own. And don't start being a racist cunt.\", ' shutup u midget;)', ' will you put my penis in your mouth?', ' fuck you', ' Can I suck you off instead ;)', ' like to be licked', ' Fuck you', ' Why are you such a fag?', ' Why the fuck do you even talk to braden?!? He is the biggest cunt. Your always talking to him.', ' Everybody hates you.', ' true, no one cares about u.', ' slut', \" Oh don't you now? You wanna slap twat?\", \" Don't piss me off bro pop the fuck up now!!!\", ' Pop up you fag need to talk to you!!!', ' Lol twat face you love me', ' Drink bleach', \" u r a gei boi fegit, wut do u think u r do'en hu? m8 we ave no tym for cunts liek u\", ' I hate you!!!', ' get off internet paki', \" why don't you care for yourself as much as you care for others?weirdo:S\", ' fuck you too', \" you're welcome bitch\", ' I love how people say \"the other crew\" ahahahahaha fags', ' Chloe has a new bestfriend you gimp', ' You want it up the bum', \" David doesn't even like you ha\", \" It's gonna hurt when you n David do it\", ' Ok boobface. Tell me when you have it.', ' Youre so ugly! Hahhahahaha die please xox', ' caseys way better than u, thats why he picked her', ' josh hates u', ' your so stupid to think he ever did', ' josh never liked you', ' your fat ew', ' Get off ask please', \" OMG YOU'RE SO ANNOYING DUDE. WHY DO PEOPLE EVEN LIKE YOUR DUMBASS ANSWERS AND QUESTIONS?!?!\", ' YOU STUPID BITCH', ' I cut myself because of you.', \" You're a ugly cunt!!!\", ' BEEcause your ugly', ' Haha u think ur funny i dont live with my mum', ' Hahha just fuck off and have bum sex with dean and leave my mum out of it', ' Hkw cab u be my dad your just a dick gobby twat', ' Hahah my mums not desperate u wanker ha.', ' Haha dean is a fat cunt!!', \" & you filthy nasty fucking whore prick half cast the daughter of freshie isn't\", ' I knw that feel proud of it... I not like you half cast...!!', \" Kaitlin has gone off you and onto that Guin girl :O wow she's quick to like others\", \" I'm going to put my dick in your mouth!\", ' You smell of eggs eeeeeeee', ' Them eyebrows are hideous', ' Your a bully always has been always will be!', \" Hmm Miss Wright, after attacking mr read on the bus today I'm not sure what to write :/// you're lovely and v hot, gay hat tho x\", \" you're fukin pedo i ll call the police\", ' Wow u must feel good. Huh. Smart alec. Ur a fucking pedo and admitted it u nasty ass.', \" OMG you're so gay. You make it seem like you're some guy who actually gives a shit. But you just want attention so go fuck yourself\", \" hello I just wanted to say that women that fought for EQUAL rights a long time ago wouldn't appreciate you sucking up to them. and I know what you're doing, you're a player and you're trying to trick girls into sleeping with you. and you're making geniune nice guys ashamed.\", ' your fake if not send pic right now', ' You are the pedo here go get a life u look like 29', ' but still better shit than you ever will be. because i am awesome and haters love me', \" If you're not at school tomorrow i'm going to brutally rape you.\", ' you use guys and are never going to find the one for you', ' you are literally so ugly.', \" Noah's single so go after him you thirsty slut:/\", ' Eww why are you defending randi . She is SUCH a drag queen and a whore. She probably sells herself for money *cough* prostitude *cough*', \" You're more than a beg, you're a faggot.\", ' Just post boob pics', ' Send boob pics', ' do u send nudes', \" Why won't you send sexy pics\", ' Send me some sexy pics', \" So you'll take loose pics now and put them on your Instagram\", ' I hate you!!! I mean u only go out with boys for there looks!!!', ' Wanna be a sex slave?', ' nigga you look like you are a 60 year old hag.', ' Dead figure', \" $10 TO MAKE THE BOOTY CLAP |$15 TO SEE THE BOOTY|HERE'S MY FB https://www.facebook.com/trevonn.paul?fref=ts MONEY CAN BE GIVEN AFTER THE BOOTY GETS SORE!\", ' Nigga', ' Your corny af tho my nigga look at you', \" LMFAO no I don't ? And who's your crew Erika and mike ? Erika started with me for no reason and mikes a straight up dick. Who the fuck has beef ? You think I'm worried about this ?\", ' you look like a rat anyway ;) xx', ' WHY DID YOU MAKE ME LOOK AT YOUR BOOBS WOW MASSIVE BITCH BLUH BLUH', ' Wont take a piss at you because of that, but you\\'re a dick. You cant just not be friends with him because Ryan wasn\\'t them they make up and OH you want to be friends again. Friends don\\'t do that to each other. I really liked you, but you just became an utter twat. \"I miss the royals\" BULLSHIT.', ' Bitch hu left me alone in form tuday!!!', ' your friends dont even like yew anymore', ' yup we totally flirt! Giving each other hugs is totally flirting! people are dumb.', ' why do you flirt with ryan all the time', ' 8', ' your ugly', \" U don't even know how to spell ugly ratchet\", ' Hahha fucking loser x) now go die no one likes you ;:', ' Ewww you disgust me bitch ughh go back to Egypt with all your camels no one likes you stop eye mad dogging everyone and thinking your all this and that when your not.', ' Can i touch your ovaries with my tongue?', ' Kiss my fat arse!', ' why ru talking like a ratchet girl?', ' Do you like cock up your bum?', \" fine then fuck you. i'll fuck you up when you come back\", \" Wallahi I'm gonna fuck you up on saturday meet me by school\", \" haha fuck you I'm not telling you who I am. I'm actually on of they're friends\", \" that wasn't me nigger ;)\", ' you fucking little pakistani . go back to Hindustan you imagrent', ' You made ask.fm for attention so that people can be all nice to you aw', \" To all those people saying i like Daoud. I clearly DO NOT like him so shut it with your nonsense. Saying i'm a shame to my dad for liking someone and i'm happy for his death. 1. It is not a crime to like someone. 2. Whoever it is asking that i hope fucking die you cunt\", \" looks like you're gay, i saw you in paris\", ' okay? pussyyy', ' pussyyy', ' lads need to stop creaming over Emmas tutu titties,she wears push up bras and flirts with josh lord at the end of the day. horrid', ' Beth chapped arse', \" go away Scotty he's mine\", ' suck me', ' you so sexxy ,put your dick on me, i want suck you daniel', ' Dirty minded Fucker', ' [USERNAME]Send this bitch hate, she cuts herself which is pathetic, is emo and a freak and she deserves to die.', \" you're a faggot\", \" YOU'RE THE BIGGEST FGT FFS..WHY ARE YOU SHOUTING AT ME THO:(\", \" you I don't giv a shit face looks like your taking a shit! lmao\", ' your well fat!', \" she must die :'3\", ' Ok ok ok bitch', ' you are a Freak _|_', ' GET A LIFE !!', \" i have shanzay shahbaz's nude picx! Do u wanna see!?\", ' Get a life man! I aint like you!', ' Yus mate, sxc unicorn cunt xoxoxoxoxoxo', \" you're a bit of a cunt aren't you\", ' can i eat your breasts :*', ' Why is you putting big holes in your ears? That shitz nasty.', \" Phahahhaa, my grandma used to say that. Look like a rat, I hope you accept you're fat and going to die along, i'm far from as ugly as you. Adios chubby, enjoy sucking your mums erect burger nipples :P\", \" Nigga please, your bingo wings are huge :L Dear god. You use a picture of me when i'm trying to look stupid *face palm* you're retarded :L\", \" I'M ASK.FM FAMOUS? OMFG GET OUT THE RED CARPET, AND GET ON YOUR KNEES AND SUCK DIS DIK!\", ' Phahahah, you can find your kindness up your fat friends anus. Do you know what she said to me you rat?', \" Why don't you just get cancer, you fat ugly rat. You don't know shit. Go fucking suck your nans tits.\", ' faggottt', ' T; I hate you', ' Shit up', ' SKUXXXXX', ' You are a stripper SLUT', ' Gay people are disgusting', ' You suck', ' Owen take Ur shirt of an finger my pussy', ' I throw my hands up in the air sometimes sayin eyo, your a homo!', \" let's fuck?\", ' how the fuck have u got a bf u ugly ass hoe', \" HAHA the links to your fan page profile picture and your actual profile picture are the exact same. making fan pages for yourself? lame ass cunt. and you're so fucking rude..\", ' link to your main account you fake', \" you're a dick\", ' go dig yourself a whole;)', ' U have fat fingers', ' You a 10 finger fore head', ' U have a huge elbows', ' Lol nunu. But who are you girl boy send a non fake pic of u pussy', ' tranny luv u', ' Asking yourself questions? Using fake pictures? Smh , get your life out of your butt ..', ' you are gay.....', ' ur smile is ugly as fuck !!', ' your piercing in your mouth makes me heave eugh!', ' i do not agree with homosexual behavor that you promote. on your page i am sorry but it is not what God intended.', ' ARE YOU A VIRGIN OR A SLUT?????', ' are you and anna lesbos?', ' slut', \" You won't ever find me haha stupid bitch\", \" and I'm gonna spit on your dead sisters grave hahahaha\", \" Fuck the cute paragraph you don't deserve it at all your a useless bitch and need to get a life or maybe just kill yourself because everyone hates you even owen he pretends to like you just kill yourself you silly cow\", ' Nicole hates you', ' Cunt', ' If you lead Joanna on or anything I will chop your balls off, okay;)', \" 2 many bitches|that should help your *ahem* 'sexual frustration' ;)\", ' [USERNAME]wants your pussy and clit', ' [USERNAME]is dreaming of licking you out', ' ugly bitch', ' me, you and your sister = threesome?', ' Ugly fuck', ' who the hell is mandewh exactly look you are addin people against steven and now thanks everyone thinks stevens a creep are you serious you and amal need to sto overexagerating when he just wanted to be friends. You both act as if he was going to murder or eat you alive! Chill! And kill yourselves w', ' your mum gets a big one every night', ' you used to be cool but now, meehh', ' U in porn pic?', ' Video of you twerking with your boobs?', ' Have u notice that, some of black guys go to white people churches to use the kindness of their ladies for their sexual desire. Mostly, they get what they want, especially with some ladies over thirties and forties!!!!', ' How much was the longest thing had u inserted in your pussy and anus?', \" EMILY SAID THAT OUR MUSIC ISNT MUSIC AND THAT IT'S ALL SHOUT... I WILL KILL HER\", ' Delete that photo I am naked and I am 4.', \" I think you're sick for posting that picture of Madeline when the question was 'ever stolen anything' twisted fucker\", ' ahahahaaa fuck yourself then:))', ' your the one thats changed faggottt.', ' roses are red violets are corny lets get together ill make you horny so fuck me suck me lick me good shove it in me like you should ride me bounce me ill get on top and when were done ill lick you like a lollipop', \" you're a fucking loser\", ' stfu can you loool give your self a break baby fucking bitch', ' tell me why you blocked me >? lol i just wanna talk dirty', \" Will you talk dirty to me? I'm 13\", ' Why do you think your so great when your just a pathetic fucking rank bitch ?? :L', \" this is me meeting your niece for the first time ;) guess what she's doing to me xx ;) http://youtu.be/G2rrUveEpMM\", ' Wow okay but for real have you looked at her page she is talking about killing her self like she fulckin dumb', ' How many time u suck the cock ?', ' I will kill you', \" I'm coming to get you\", \" I'll kill you\", ' Why you so fat', ' wanna have nude chat on skype ? i will giv 50 likes and a gift', ' send dasha hate? she deserves it that slut', ' you have to be arractive to marry someome rich you ugly cunt', ' u r not understand what i said idiot:-X:-X:-X', ' Dye, noone wants you here', ' Go walk off a mountin', ' Mean. Stupid.', ' u r such a fake and \\u200e[USERNAME]is real dumb faggot', ' Ur a dumbass', \" Why don't you come get in my pants? I would love it...you can also have my tits all to yourself...what do ya say?\", \" but if you want me to shut up you shouldn't date such a slag.\", ' & Your girlfriend is an ugly slut, who almost got pregnant. Why the fuck would you date such a bitch?', \" You're girlfriend is a slag.\", \" What's up , niggaaaaa ? :3\", \" I'm not a fag doe :c\", ' Fuck off !!', ' Sluuuut', ' ugly', ' Hate.', \" who said i'm a boy? hot wet sex.... we can both get hot and wet together...!! just imagine rubbing ourselves together, how wet could we get?\", ' nothing pedo about wanting to see you do a wee....', ' Why do you barely talk hahaha fgs', ' sluut', \" U'r friend immaculate is such a racist :/ u'r not like him! I give u so much respect ! But I don't give him ! He's fucking idiot !\", ' You did so totally not just say drink fairy liquid....Cut yourself with a spoon, poo head.', ' Then stop going around trying to be a smart ass telling everyone crap k .. Gosh your wasting my time bye!!', \" seriously your feet in your dp, put shoes on im crying :'(\", ' u a s l a g', ' you talk like a paki but act like a gori slut whats your actual problem with everyone? you piss me off so fucking much.', ' ik u slut u need 2 stop making eye contact with ppl b4 they arrest u :///////', ' Sssssssslag', ' Shes only liked because shes rich and pretty ffs', ' Kerno is a scruff', ' Ur horrible to everyone', ' haha u will never get a gf u fucking fag', \" Leave gabys clitoris alone, I'll mess you up\", ' hey please post as many sexy photos as possible I feel like getting horny.', ' what if i dont come off anon, are you going to lick my pussy', ' who is this fagot', ' Emo isnt based upon screamo, silly Ethiopian', ' you are a wannabe emo', ' Creep', ' You sleep with so many guys', \" your such a bitch! leave Jake for Jordan after all he's done for you and after all you have put him through! no wonder things aren't good with him!\", ' fisher her bestfriend maddison was gonna twat shaks, shaks chickened out anyone can twat that ugly scum bag, she got shit with everyone even aima can twat her ohleh that heerah will well twat her', ' Dunno,r yah gunna be der?Halimah the fucked up biatch will tink twice b4 messing wid shaks again;-).xox', ' Hali will twat shaks omg', ' I want you to rub my boobies', ' shaks is a pussy shes scared of laurens best mate', ' hahah your too ugly to put up a dp ugly screg.', ' I actually wanna meet up wi halimah and kick fuck out of her, pussy might not show up tho aha xxxx', ' Ur sis is a tramp with a ugly freshy face clean her up she has shit all over. That bych.', \" I'll kick you in the head, you're the faggot;)x\", \" I'm not a fgt shut it;)x\", ' single? fuq me plz', ' gay', ' :( your a tit.', ' post a naked pic', \" you're ugly\", ' pic of your body', ' ew', ' Shut up, you failed result of an abortion', \" You're the left-overs from the abortion bucket.\", ' suck my dick :*', ' Sex baby', ' Do you want to be fuck buds', \" At least there's an advantage to having a forehead your size, When you fall over you probably just slip straight back up because the grease from your head\", \" Liam GEACH kidda you're a viiirrrrrrrrrrrrrrrrrrgin lad\", ' ohh sweetie|get over yourself :*', \" you're a player omg\", ' prick. you got wonky nipples', ' is your ass make up of sun or moon?', ' consult my middle finger baby!', ' fuck you bitch fuck you!!', ' asshole we thought you were perfect', ' Your mum died last night', ' Balls i put in your mamas mouth', ' When it says what is missing in your life that would make you happy you would of said curry', ' haha you sick guy hashahahahah', ' You are so ugly ew !', ' So slut how many boyfriend ya got??', ' I want you inside me', ' Want you inside of me', ' you prick', ' Nice work attention seeking right there:) pretty sure you have seen a picture of my fingering myself and you sent me a picture of your dick:) I was covered up baby', ' Ur being attention seeking now', ' Haha what a slut!', ' no body wants to see yo fat body. please save us the torture.', ' lol return to the closet', ' Fuck you', ' [USERNAME]Send this bitch hate, she cuts herself which is pathetic, is emo and a freak and she deserves to die.', ' Your a fucking slag haha', ' Tell \"just insanity\" to go fuck off and to die...', \" you're so gay\", \" Why haven't you killed yourself already. You're ugly af.\", \" I think you're fat. Js.\", ' Bitch.', \" all these other people are trying to get at toni now that she is single. I think she's a slut.\", \" she's a slut\", ' danny stop asking me for nudes pls', \" Danny you little fraggle, you have nothing on me. It's like you're scared of me\", ' thats because youre a cunt and always have been :)', ' Danny the tranny', ' You should have never broken up with jake you doumb fuck', ' http://ask.fm/amitypullar send her hate, she attention seeks the stupid ugly bitch she pretends to be lesbian looooooooool', ' why are you so slutty and emo at the same time?', ' Not being funny but you Are a lanky ugly prick sit the fuck down', ' Heard you breastfed a cow', ' Id wank to your hair anyday xoxo', ' why is malaika sooo fukin ugly?', ' can I dick slap you?', ' Show more of ur body..', ' I would eat you out', ' STOP STARTING SHIT EVERY DAMN ONE !!! YOU LITTLE ATTENTION SEEKING WHORE !!!!!!!!', ' Slut', ' you are really funny and i love your personality', ' you r a disgusting as hoe', ' tell dat bitch to fuckk off', ' Morgan your a fag', ' tht freak saying get a vibrator u need one with him haha', ' You know you got his \"d\"', ' You fucked your dad? Ew.', ' LALALLALALALALALLALALALLAL I WILL KIILL U IIN UR SLEEEPP LALALALALALLDALDALDALA', ' Cam hate you', ' U so mean', ' fuck you', ' You have a rectum hole cough we should have anal cough', ' Sorry you kinda look like a fat dude', ' karam and misbah r ew.', ' Ur ex has some fit body ye woo not even lying would shag her anyday sexy bitch', ' on my way to fuck ur bitch', ' wanna fuck ?', ' Fuck you', ' Pubes on her head', ' breast pressing or breast sucking?', ' boob pressing or boob sucking?', ' my dick would destroy you', ' boobs pic', ' hate tht Kushi bish', ' Ur a fag', ' byw you are so ugly', ' sit on my face', ' ginger', ' amie looks like a slut with blonde hair', ' sorry but amy is fat', ' its too ugly to be your baby and the baby mo is dirtz', \" you're an actual mess carly, john isny even aware am daing this for him. he'd kill me man\", ' You lightskin neff', ' haha you nearly got hit by a bus and noone cares', ' Miley cyrus isnt getting married anymore..haha your a bit sloooooowwwww', \" Mary and Emily's mums a slag. Not Louise and Annie's|Mary. Emily same mum & dad|Josh and the rest if them.. Different dad LOLOLOL\", ' http://ask.fm/Naeyte/answer/102444203225 show me your genitals', ' I love white girls. Can I put my tongue in your butthole?', ' Would you let me shove a finger in your anus for health reasons? =D', ' How many fingers do you use on urself', ' Nice legs what time do they open', \" Don't get cocky\", ' Chloe is a slut.', ' OMG BABY FACE FAGGOT :O :P', ' picture of your arse', ' That ass is huge ^', ' Ass pic', ' Can I Entre My Penis into your Cunt?', ' kellin quinn is a fucking squeaky sounding asshole', ' n lick you', ' i bet thats josh fuck off josh you ugly retard', ' Fuck off you gay prick go shove a dildo up your ass', ' you are a joke all to gether', ' fuck off do you fuck have a boyfriend. and im the slag love i wasnt the one that sleeps with anyone lol you mess i have balls but i know it annoys you when you dont know whos calling you hahah', \" Hardly a suck up am I? I'm just being nice to Shannon instead of some dick sat behind a screen calling her x\", ' your speaking to my ex boyfriend you stupid bitch', ' who the fuck is that suck up. HAHAHAHA your a fucked up ugly twat you need shooting', ' why arent you dead thoug really', ' let me finger you behind Tesco', ' Ewwwwww you have aids', \" I wanna lick you're pussy\", ' lesbian', \" I absolutely hate gay people? What's your opinion?\", \" Hey cutie, sorry about the other night when the condom broke :/ Might wanna take a pregnancy test because I'm pretty sure I came inside you.. then I also found some weird bumps on my junk oozing green puss and it burns to poop so you might wanna go get tested.. i'm so sorry Poline.\", ' mann ikr told ya can I bite ur tits? nd lick ur pussy until ur cum comes out?', ' your moms tits', ' you dumb bitch', ' Guys only like u for ur boobs.', ' i wanna lick your pussy', \" Stop being a slut. I don't see how Kelsey put up with you.\", ' Everyone should be happy. Even sluts like you.', \" You're such a bitch. You say you love Kelsey but you flirt with everyone?\", \" and it's like I have to go through everyday hearing at least one comment that has something to do with hating gays like can u fucking not k thanks bitch\", ' yES OMFG BUT I WAS LITERALLY SO MAD BC HE WAS LIKE \"OMG IM AO HOMOPHOBIC LOLZ SRY I H8 GAYZ.\" i wAS LIKE HELL NO THIS BITXH AND TOLD HIM \"YOURE NOT SCARED OF IT YOURE JUST A DICK\" AND UDGAFAHAHSGAHAUAA SO FUCKING MAD', ' i almost poured my Pepsi on his head. he pissed me off so much.', ' this kid Payton. Can we just like jump him or something', ' jew', ' Skiver', ' tuff titties', \" I bet you're lazy too that's why you're so fat\", \" And you've got shit skin from all the shit you eat\", ' seriously, your face makes me feel quite ill because of all your chins and your disgusting eyes and stupid smile and vile hair', \" You're ugly too lol\", ' WHALE QUICK HARPOON HER', \" Chill out begging it from Sven Aidan and sahin ahahahaha they told me they don't like you so stfu and they said your a pest\", ' post a naughty pic', ' Ur a fag then...', ' Can I fuck you up the bum? :)', ' Can I bend you over and give you one ;) xxx', ' What an fegt', ' SUBLIMES FOR FAGGOTS 2-Chainz and wiz khalifa and Kendrick are all better', ' but it would be right you probably are a cunt', ' Are you mthrfck gay?', \" You're gay\", ' Heard you were BEAST today (-; hahahahahaha :P', ' Fake piercings drawn on, pretending to be a royal and your music taste is atrocious...lul.', \" I'm older then you feg lel I'll get that Starbucks condom in the end\", ' Calling me ew and shit hahahaha idk why the fuck you hate me over something so god damn dumb.', ' Hooooeeeeee.', ' YOU NASTY BITCH.', ' Lose some weight.', ' Bitch!! Haha', \" I don't like youuuu\", ' who said serdar likes u dumb bitch', ' why not y u getting so angry 4 dumb bitch!', ' because you seem spoilt', ' aww because i would have scissored the fuck out of you', \" You mad she don't date yu anymore\", ' Sucks to suck', ' u r a douchebag', \" You're a fucking prick I'll batter you\", ' Hypocrite', \" woah, woah, woah! if you don't know/like Slayer don't embarrass yourself by calling yourself a meatlhead -_- Just quit your life. Slayer are the gods of metal -.-'\", ' i need your arse or feet in my face :(', ' Your picture is edited, ugly people edit their photos', \" lol joke you're a munter.\", \" why doesn't ur sisters foundation match her neck. Ugly cunt\", ' u should commit suicide no one would miss u', ' I hope u get cancer', ' Is ur family as fat ugly spotty as u', ' No one even likes u at school go die fat bitch', ' Ur so fat wow', ' attention seeker', ' u ugly fukah haha my ami is not a sik fukka .. and she is a she', \" I didn't know ugly until I met you!\", ' Daa world dont like youh much', ' Jay is a cunt end off', ' Everyone hates you :).', ' U have no pals except Chloe Heeps hahahahah', \" Hahaahah, Chloe don't like u babe\", ' MEGANS ANON PALS A SLEG, GET OVER IT.', ' How the fuck can I be a slag if am a boy, ur like 12 get yer act together met;)', ' You can just fuck right off ya fuckin bitch ya stupid horrible cow', ' willy bum', \" Tbh you're not even cheesy, you're corny as hell\", ' lol ur messed up', ' Ur probs really fat', ' You are disgusting', \" So much for making people feel better? You make them feel like shit! You're a disgrace to pizza's everywhere... I can proudly say that I hate you.\", ' [USERNAME]Send this bitch hate, she cuts herself which is pathetic, is emo and a freak and she deserves to die.', ' Fgt', ' cause its gay you trying to make yourself look cool when relly ya gay', ' Benefit bitch', ' your tumblr is a piece of shit and so are you', ' your tumblr theme is awful', ' are you a fucking lesbian', ' Can I please rape you?', ' do the wanking selfie ;)', \" your ip address was tracked and yes you're fake lol. your account will be shut down soon.\", ' you are so fake :3', \" why dont u have black friends wow you're a rescist\", ' 07788374710- spam the shit out this number, her names britney', ' I wanna fucking you hard!!!', \" I'm glad Gemma dumped you your a dick.\", ' Your a fucking twat', ' Why are u soo mean', ' Can I drill my dick into your pussy ?', ' Todd can duck my dick he ugly asf. And he prolly got a small dick and he have no type of swag and cant rap fo shit', ' Todd aint even shiiitt', ' I never want to see you again..', \" MMMMMM I LOVE YOU TASTY BUTTTHOLE... CAN I PUT THIS PICKLE IN SIDE YOU.. MAYBE I CAN FUCK YOU ON A TABLE.. AND THEN I'LL LESVE YOU TO TSKE CARE IF THE BABY ALONE.. AND THAT MEANSNSXG THAT I JPHAD SEX FOR MY FRIST FUKIGN TIME\", ' do you want to see my penis?', ' Your boobs belong in your shirt, ty', ' Get ye tits out n text me back u slag', ' how are your legs so hairy if your in a girls body x', \" And she's a biatchhhhhhhhhhhhhh\", ' Your Going To Hell For All The Shit You Do!!!', ' Nobody wants to fuck with you anymore because your on drugs.', ' I just want to put my cock between them tittys...', ' Ew two faced bitch', ' why u so ugly', ' ur a fgt harri', ' Your so mean', ' Ur bun', ' Fuck me.', ' smd xxxx', ' slut', \" Really?! You would know! You're probably on your knees sucking your dad rn! -btw you're blocked so you cant like my answers anymore-\", \" You're the one liking 25 i my fucking answers you dyke\", ' What are you even', \" You're fucking ugly.\", \" U can't ask anon questions because ur a pussy\", \" you're so depressing\", ' backfat betty', ' Overdose on Flunitrazepam', ' You wanna get slapped?', ' Go shoot up some heroine ya fucken druggo', ' annoying slut', ' Hhahahaaahahah. Chop chop chop your armmm', ' Forever laughing at you for being so fucking pathetic ahahahaha', \" oh noes poor you people are laughing at you your life is so terrible.||You're fucking 13.||Shut the fuck up.\", ' Send hate to \\u200e[USERNAME]he is so ugly!!', ' your account is more boring than math', ' sut it', ' you treat Dominic like shit', \" are you fucking serious?|don't fucking put a bible against me. it will not change me. I told you bitch to not fucking put another one. I don't fucking care if Kristen puts bible verses but you will not fucking put one against me. fuck off\", ' ur a bitch', \" lol why does it matter who I talk to? I talk to kristy because she's a good friend and she's always been there for me. there's nothing wrong with that. Lol I wish I knew who these anonymous people were.\", \" You look nothing like your pictures that's why you get likes(y)\", \" Ergh shut up, ah and you wonder why so many people hate yoi? You're so cocky! Even jenn hates you\", \" You've turned into. Right cunt lately l\", ' bitch, why you so perf???', ' You never post pics on instagram.... only of your ugly girlfriend... post some of you!!!', \" What's up sucka?\", \" no thanks who knows what kind of sti's your carrying..\", ' i know people kill themselves and so should you, your dirt.', ' your the one who needs to get a grip you little whore.|how could you get with Barry a not even a day after he dumps Gretel?|drop the fuck dead.', ' Why would Barry want to be with you anyways? you a mess. Get back to your bin.', ' you are cunt bitchhhhh', ' you are so ugly your your teeth are like the teeth of horses', ' do u have a vagina? surely your a girl but you WANT to be a boy but ur NOT a boy, so ur lesbian with ur gf ewww', ' stupid smoking lung infecting little fuk', ' lol u drink fukin idiot of a lass lol have fun wiv life', ' Do you eat poop?', ' So when you starting to be taken by bryan then probably in a few days you will be single again', \" Leave me alone:( You're so nasty:( I hate it\", ' Slag', ' forget it looser', ' brandon is a cheating bell whip', ' whats up with your face', ' James is such an idiot. Think he can get in with some one like you! Lol! He should just go die in a hole like the mother f***er he is!', \" y r u putting some girls business out there like no don't tell random strangers she sent u nudes. ik who ur talking about and yeah im goin to warn her what a dick bag u r ok? k!\", ' fuck me behind mcdonalds', ' get over yourself.', \" Seriously? Thats the truth. Sorry you may not have realized what you were doing but thats exactly it. You need to stop lying. And drop things. You are not the 'little good girl' you're trying to be. Stop being two faced.\", ' You need to get over yourself. Chrystina is so over everything, cant you do that too? Like why drag things out?', ' Leave Cathedral please', ' ur a dick', \" you're a totally loser!\", ' Put a pic of your cut if u really cut', ' cut deeper slag', ' funny how you say you hate bullying mean while you and sav bully people all the time, for no reason.', ' No but i can give you some cum to drink', ' Ik u want my dick in your hand while u stroke it up and down', ' Will u jerk my dick off pleaseee?', ' Will u at least suck it please?', ' Will u ride my dick?', ' Will u ride my cock?', ' Slut', ' Suck my penis :)', \" Post a picture of a best friend, and if they don't get 50 likes they are ugly. (Going to everybody i follow)\", \" I wanna finger you So hard I'm a guy and I wanna fuck you, come on.(;\", ' †ħα† ғαĝĝø† కເεnεĸιd', ' Go to hell,,, fuck you', ' ya its funney you got ana enromus boobs', ' iam fron england tell me your place and i will destroy you babe have a long dick', ' are your pussy is hot', ' i waana but your boobs in my dick and blay togtherr', ' no sleeb baby my dick is gonne be bigerr', ' letss slleb togther baby', ' i hate u bitch', ' FAG', ' fgt', ' I just spent 3 hours touching myself over you. Not once was I aroused. I want my money back.', ' #slutsOut', ' Pumpkin face haha kill yourself lol', ' wants some butter u FUCKING CRACKER', \" Your really dramatic online, and offline you don't really talk much.\", \" Not gonna lie.. You are shy. You never talk. And when someone tries to talk to you it's really hard to keep a conversation going because your shy and never talk.\", ' Let me stick ma dick up yo ass bitch **', \" see again, you act like everythings cute. but you're a big b. you act so tuff online.\", ' u act so tuff but ur not x', \" Reading your ask makes me laugh lol... You are fat and ugly your acting tough when your just a pussy lol.. you are full of shit love!! You don't deserve freinds you evil fucker\", ' She is horrible !!!! http://ask.fm/ChiaraGraziano523', ' Fall off a bridge', ' i want you to fuck me hard', ' Kiss my testicle', ' You slag', ' whore', ' why you a slut', ' Fuck you _l_', ' Oh my god my cock and your lips would make a perfect match', ' I want pictures Please, vagina', ' Sit on my face and fart', \" Post a nude picture of yourself. I'm really wet\", ' btw i just want to let you know my boyfriend and your girlfriend have been on omegle for ages tonight and last night', ' When was the last time you finger blasted someone?how many fingers?', \" you're a player and a cheat that's why you go out with girls who live miles away so they don't find out your little secrets\", ' fuck me fast and hard', ' everyone in your bio is a faggot', \" You're fake.\", ' suck my dick', ' Bitch bitch fuck u send me ur naked pics too', ' Can yew upload a pic of yur dick?', ' fuck you.', ' fuck you', ' You fucking jerk! You just asked Daya out!!! Go to hell. I never want to talk to you again', ' kill yourself', ' Go eat shit', ' you dirty slut *', \" you don't have to be bitchy about it\", ' you treat people like shit', ' When ever you upload a new picture I slip a finger or two in', ' Fuck you faggot.', ' can i fuck your tight pussy', ' ems hair is fab ok fuck you', ' you looks like parrot hahahahahahaha', ' yuckkkyyyyyyy your hair looks sooooo uglyyyyyyy', ' OMG is that ur hair ? :O', ' She is a slut', ' Fuck me', ' Those titties tho.. mmm i want them dangling over me', ' christina and you are fags', ' please can you fuck me', ' So , will you suck my dick for get spam likes ?', ' seriusly go pluck dem i brows dont need to parr a losa like u', ' what mi cusses r ded |is that y u cant handle em enymore yh go make ur self useful and throw urself n a bin we dont need gaarbage like u', ' My dick is currently out of control. Can I put in your vagina please ?', ' MANSI BANA IS A FAT BITCHH.', ' [USERNAME]hahaha her answers are so bad, lol, dunno how she got likes. Block her lolololol', ' fuck me', ' cuntcake.', \" You're such a faggot, stop messaging people from canada you british faggot\", ' Ew', \" Bitch I'm gonna pick the world up and drop it on your muther fucking headdD, heard you lie eminem hi luv me\", ' bisexuals are disgusting', ' ugly', ' can you send me your vagina pic ? i want to see it . just 5minutes', ' i will give you the best while we do sex . why cant ?', ' Shit up lauren. U lie about everything Connor will be mine soon just u wait.', \" You bull shit about rape that's sick!!\", ' wow . i want try do sex with you . shall we ?', ' I know you bull shit a lot.', \" Your attention seeking again lauren he's gonna be gone soon and you will regret everything you've bullshitting about. Think bitch.\", ' you have a camel toe in that pic haha', \" Fuck off Connor never fuckin raped you. Stop bullshitting just for attention. You've never been raped shut up.\", ' they rape you or you want it ?', ' I think you should die', \" They're all so happy you went they hated you\", \" one friendship group ditched you and it'll happen again to you because no one likes you\", ' You make me want to punch things', ' put some fucking shorts on you overused prostitute', \" It's not Danny everyone hates you Mae your only mate is Danny's fucking sister you skank\", ' I dont like you', \" that picture isn't fucking funny you heartless cunt\", \" You think you're kicker boots are trendy|And that your long t shirts are too|With Slazenger on youre fleece|The same clothes on for weeks,|We know that your a fucking slag\", ' tyler never liked you', ' if i was in ur classes i would be the cutest :*', ' why do you post shitty pictures that are totally irrelevant to the questions? retard.', ' Have you got a pet? If so may I touch him sexually?', ' You basically just admitted your belemic...', ' Apparently you are beautiful?', ' u ask ppl to like ur profilepics on facebook! thats acc so sad! tash told me u messaged her saying can u like it im trying to get loads of likes, u saddo!', ' ur overdresed and do u like penisz', ' lol ur smile is not cute', ' Last time you wanked?what position?', \" i wanna fuck you so bad')\", ' Your a mofo Cynthia slut bitch', ' holly hates you, get over it.', ' Your fake', ' That isnt your dog fake', \" you're a fag.\", ' was his broken dick small?', \" I've got a 9 inch dick wbu\", ' have sex in yo sink', \" Don't be a bitch Nobody has time for your attitude and I'm far from a bitch\", ' Yes do it Fake Bitch it should say im real layana with your face in it and your middle finger up ?', \" wtf? It ain't Indian man, am nepalese -.- get it right. Seriously who are you, your asking a lot of weird question :L lool\", ' I hate Muslims', ' i want to kiss you in your ass', ' i want to do sex with you', ' fuck u', ' bitch', ' Are you always so stupid or is today a special occasion?', ' Not all men are annoying. Some are dead.u r so fat that when you went into the ocean to go swimming the whales started singing we r family .u r so ugly when u were a baby ur mom had to feed u with a sling shot.|u r so ugly that when u were born ur mom left u in a park and turned her self in to the p', ' u r so ugly u went to the zoo and little kids started giving u pieces of bread.|u r so ugly tht u got pulled over by the police in ur car when u were going over the speed limit for having ur window pulled down cuz peolpe were getting in car accidents for looking at ur face.', \" I don't know what makes you so stupid, but it really works.\", ' Cunt hahaha.', ' Your a bitch to people that are what you call different...', ' I hate you', ' Have fun in English loser', ' Tbh; You a dub :(', ' Hey ! nice to meet you. You can get right to suck my dick !!!!', \" I shall get it now, but I'm not a fag |ok\", \" Srsly I'll sew up ur vagina ://x\", ' facebook link? do u wanna see my dick', ' Pap of your pussy', ' Psst Molly likes me more than you...', \" Yasmin Ara \\u200e[USERNAME]and \\u200e[USERNAME]made a fake account of priya hoque she's real but she doesn't use that account it's really Yasmin and namirah on it\", ' Seriously u should get back with shola and get rid of ruki she ict so fucking annoying and disabled shola is better trust da boss', ' fuckin hell bitch yu dont want me then thats it. its over', ' I fucked your girlfriend yesterday bro', \" Hahaha your girlfriend flirts with others! haha omg what a dick'ed.\", \" you have a girlfriend you don't just openly say some other girl is fucking beautiful or kinky, how do you think that makes her feel? it probably makes her feel worthless, and feel like shit knowing you think another girl is beautiful. just fucking think for once you twat.\", ' why are you with kerri? she is butters mate', ' YOUR NOT A DIAMOND SLUT', ' I thought you all fell out because you said Leah was a bitch and that she changes around Emily?', ' Do you have any friends left now that everyone hates you?', ' U have no friends', ' Hahahaha Leah thinks your a bitch now no one likes u hahahaha', ' HAHAAHHAHAHA TART TAKING YOUR SCARF OFF LOOL IMMA TELL YOUR MUM I KNOW WHERE YOU LIVE YOU BITCH', ' its probably germs or another bum wanker idk i thought that it would be and doesnt matter your too blonde to understand and shhssh you window licker', ' -___________- your too blonde at times lauryn it doesnt matter you wank stain xxx', ' im on about that lad thats mean A FUCKING NOB WANK STAIN!!!!xxx', ' im not a pussy youre just not worth it', ' i speak the truth though so shut up', ' STOP SHARING YOUR ASK.FM ON FACEBOOK YOU ANNOYING LITTLE GIRL', \" your such a attention seeker,so's your little mates you probably ask your self those questions.\", ' You are ugly', \" Damn slut I guess, you can't even say yes lol\", ' George hates you.', ' Fat bitch', ' alena k is a fat and ugly bitch|i dont know why ur friends with her', \" Stop posting pictures you're so fucking ugly.\", ' Kill your self', ' die', ' u must of started puberty because u really hairry', ' u on ur period u moody tramp', ' Leg me suck you off.', ' Let me at that dick then?', ' LOL your a faggot get off of ask ugly', ' why are you an asshole to everyone. and why is everyone a cunt?', \" I'm not retarded okay, I just get stressed very easily especially when my hair doesn't work;) x\", ' [USERNAME]Send this bitch hate, she cuts herself which is pathetic, is emo and a freak and she deserves to die.', ' rape me', \" Hey if u ain't butters or fresh why don't u put up a dp.....or if the camera can survive and identify ya face?!...\", ' Did u jus headbutt the sun', ' Burnt shit face', ' Brody Dosent like ratchet ass hoes. (Like you.)', \" thats for losers like yourself :')\", ' do lieks fag?', ' no katie likes to keep it bushy :))))))))(((((((:', ' hey slut wan to have sex with me', \" you're ugly ew\", \" if you knew why i think of her beg you'd think otherwise, but i aint going to expose. So stfu and do your own thing\", \" Did you know you're kind of the Onaga sophomore class whore?\", ' you bitch!', \" well don't go thinking your funny telling me to piss off when it was sent to everybody. Dickhead\", \" Lmao. I didn't send it to you personally. It was sent to everybody so don't get cocky you dick.\", ' fatt whore go fucking die', ' yo u mad fake doeeeeee', ' U treat every girl like shit my friend loves u and u dont even realise! I dont expect you to love them back but you know what its like to love someone just treat people with respect u donkey', ' Dylan you do not put personality before looks! Otherwise you would realize what you got right In front of you stupid boy.', ' Dont be a twat k?', ' Stop being a slut', ' Yeah bitch', \" You're a faggot\", ' Have u been fingered yet', ' are you a slut?', ' Lets make love right now in your bedroom.', ' You like to eat cum', ' You like to do anal', \" you really piss me off sometimes, you think your better than everyone just because you lived in hong kong. you're not there anymore hun.\", ' dont you look stupid lol', ' i hate people like you, but jesus will forgive you. He loves everyone and forgives everything', ' \"and i\\'m too awesome to care\" another stupid cunt you thinks smoking is cool. Hope no one goes to your funeral u cunt', ' i want ur penis in my bum', \" you're a fuckin' fag, olivia. that's what you are, a fuckin' fag.\", ' your dumb', \" god you act like you're the shit at school and you're not.\", ' RITA WOULDNT BE HAPPY WITH YOU LOVE AND NEITHER AM I!!! TURNED OUT TO BE A RIGHT LITTLE SKET', ' have sex wiv me', ' lauren hangs round with taylor dowse chelsea sands etc what u gonna do', ' YOUR UGLY AS FUCK YOU SLAG', ' i care about you shawna and your throwing all your fucking friends away for this faggot!|die.', ' i do know! and im going to laugh in your fucking face you stupid fucking slut', ' your so fucking stupid tho your just gonna get your heart broken again you realize that you stupid fuck?!?', \" ''Your ugly, plus your Pakistani and your make up is to much and it doesn't suit you!!!\", ' nah you full of shit', ' you are so pathetic', ' ur uglay', ' ew', \" Not really cos you can change you're picture on your phone so lol @ u, just attention seeking:')\", ' Who told someone to die lol you ugly pathetic prick', ' Katy looks like a man in that pic', ' Stop hanging out with Vince he toad biggest douchbag u diserve someone better', ' The group of people you hang out with aka (Vince) r the most dumbest people you should step away from them', ' Plzz stay away from Vince he seems all sweet but once you know him for a loooobng time he will turn on u and become the biggest douchebag and jerk plzz you need to stay away plz just stay away', ' fancy deep throating my cock?', ' kik? i want to destroy your pussy', ' Gahhhhhh your ratchet ass mom', ' suck ma cock suck ma cock', \" I got snakebites yesterday (I'm a dude) u got a ugly face they wouldn't suit u\", \" They can obviously. You're a cuntttttt\", ' MOON HEAD. Your heads the size of the moon hahahhahahaha|Fucking retardddd', ' Y you tellin her u didnt shag leah when u obvs did nd she just said she shaged you', ' i made her block you. im speaking to her now f of u little prick', ' Your so fat just go and kill yourself please', ' How much for bj', ' Tranny', ' Slag', ' Haha prostitute how much', ' Where is your picture? How am i suppose to see your ugly face?', ' how can u fuck her man ur gf is fat as fuck', ' Your a fat girl', ' Everything you ruined everything for that girl', ' Lol you ruined everything', ' No chase stop. She\\'s a beautiful girl and you let her go you know she\\'s crying her eyes out right now she\\'s saying \"that\\'s the best a boy has ever treated me\" but you clearly hurt her a lot .... Lost all my respect for you', ' you are probably look|wow|you are dumb', ' Guess how hard I wanna punch you in that ugly face?', ' Stop saying \"aw there\\'s other people that like me\" urgh stuck up', ' actually I have spoken to you before and you are a bitch, go home', ' *edits pictures way to much* pretty on photos but you look like a green fungi at school', ' you were so annoying today and stop flirting with Declan! Wearing those leggings on sports day? Hahaha you think your so perfect', ' your such a typical white girl hahaha! ily though ;D', ' Your a fucking flirt get a grip !!', ' Your so fake Barbie is jealous.', ' I hate you', ' jb is a faggottt brahh .', \" Obviously not.. She's a slut -_- same with me, my mom doesn't trust me to hang with guys because of girls like her\", ' twat', ' yeaahh, hes gonna have a nipple with pus filled spots on it, and some fat, ugly, hairy chest with saggy tits ;O my wifes gonna be like megan fox;))i bet you eint go no nipples! you chest is like a paper;P xo', \" It's true. He's trash.\", \" Doesn't Kyli like you? That's gross if she does, she's nasty\", ' I hate Erin -molly', ' Erin is ugly', \" Ur all pussy's. Tlking shit over the keyboard. I bet you wn't do shit to me. U and ur cousins & brother are nothing but dirty cocksure.\", ' Ur a pothead', ' STOP CHEATING ON UR BOYFRIEND HOE', \" You're tacky and I hate you. OKAY YOU SEE ME AFTER CLASS\", ' Your gf is a ugly emo. She only ever wheres tops and jeans shes not like normal girls who wear skirts and dresses her make up looks bad and she always puts stuff to make her look tired why would you date that thing', ' thomas covey has a gf and theyre very happy together he told me to tell u to go away', ' Go take your face for a shit daniel u smelly little gay boy pack your bags and fook off', ' Your back with your fake internet boyfriend again what a cunt.', ' Gay', ' die in a hole u gay cunt', ' aye fukick it dawg', \" Naw dude not me it's most likely bitch ass Michael!\", ' Ay dont be gay , let me suck you up .', ' what dick ha', ' ew cocky ugly cunt!', ' u went out wif him mong', ' Rude', ' send \\u200e[USERNAME]hate she sucks at advice', ' you have a small deek', \" I was lying. I'm all bout da pussy, now make me a fucking sandwich\", \" attention seeker. :P |u want everyone to be like; omg you're hot and and all :3 that's why you send hot or not's to everyone right? :p\", ' U r a hoe', ' bitch !', ' I KNOW WHERE U LIVE!!!!!!', ' Homo, die', ' na serious you faggot', ' bb ur so pretty and im sorry for all the hate youre getting, but get your head out of your ass, nobody respects a skank', ' Sorry miss definition of a slag', ' Lol actually you should go kill your self, say hey to the devil when youre in hell xo', \" So that is your attempt at offending me because you are fake and look a twat... Well I'll let u get on with it..\", ' Show me your tits', ' I have no ass? Even though everyone says I have a peachy bum ... Give me an actually thing', \" I hope someone ass rapes you cause you're a dick to Ashley\", ' Suck my penis :)', ' Ur gay and suck cock everyday', \" Deal with the fact I'm not fat\", ' Why if you\\'re so hung up on the \"right thing to do\" are you being so mean to me then', \" Wow. You're being yet another asshole just to try get likes and have fake little friends. Good luck in life\", ' why r u a nasty person ?', ' do u mammy know ure up so late ?', \" I'm 14 you idiot\", ' fite me irl cheeky kunt', ' She thinks everyone loves her -_-', \" Amy h is such a wee bitch, don't hang about with her.\", \" ur a 'lil shit (sent to everyone I follow so ye http://ask.fm/SarahJessicaVentresca/answer/103520662290)\", ' bUT I LoVE YOUR mOM MoRE sHe sEEMS LEGIt. Sorrynotsorry', \" you're ugly\", \" wow you look freaky in your dp pic. I'd change it if I was u. you ugly ass hoe. you like that pedo because ur a freak like him haha\", ' eeeww your ugly', ' LOOOOOOOOOOOOOOL #BillyWalk shit he prob sent them to himself.', ' seriusly go pluck dem i brows dont need to parr a losa like u', ' what mi cusses r ded |is that y u cant handle em enymore yh go make ur self useful and throw urself n a bin we dont need gaarbage like u', ' and just how du fuk did u doo that i mean in buttazville they dont let ugly peeps out', \" He doesn't have one haha he's ugly\", \" Does he ? :o I hate him btw :/ he's been a dick and do you know who it is ??\", ' You so thirsty for likes the world would be a better place without you', ' i madeout with your boyfs left ass cheek.. Jealous?', \" You're tacky and i hate you\", ' Ass ass ass ass ass ass ass ass ass ass ass ass', ' When will you stop wearing leggings? You have no ass lol', ' U r so ugly loll', ' squirter until proven not', ' do you squirt?', ' Can i finger you?pls.', ' can i shove my dick in ur shoe x', \" why are you so protective of her fs she shouldn't even be here anymore\", \" at the end of the day she's always gonna be the sad,weak,dull,insecure girl isn't she hahahahahahahahahahahaha\", \" ur stunning and then there's shauna and it makes me laugh\", ' Fucking vile. Worthless fucker', ' No I dont know you your a gayboy', ' Ur a ryt fagg', ' Your such a perve!!!', ' DO ME UP THE ASS! And in my fanny obviously! Have my babys', ' STFU mario look alike', ' what you going to do bitch slap me because thats looks like all you can do tiny dick 1 inch wonder', ' ew fuck ya faggots fags lyke ew tyvm', ' liar', ' Sluttysaturday', \" wow so you won't even show your tits.. k fuck you bye\", \" You're a fanny;)\", ' Let me lick u up and down', ' you are a whore:)', ' u r a tramp pet.', ' http://ask.fm/AustinOfwgktaVernia/answer/102532903910 send him hate he is a fag', ' Who are you and why do u exist in this world ... hehehehe ?', \" Who's this ugly girl?xx\", ' That bum is hairy', ' put up a full body nude', ' dick in your fanny', ' favourite BUTTplug SIZE???? DO YOU like to be S-S-S-S-TRECHED?', ' Did you just get of the boat from America for the slave trade', ' got girls around me bitch, ive been sucked. i fucked this bitch and my dick is to big the condom becuase its to big smd plaayyyaaa', ' suck my dick please', ' Why call her a slag. You look like a big hahah', ' Fake /:', ' Sit on my face', ' fuc of', ' can i finger you straight up the arse yumm', \" James you're such a flirt wow u get da bitches\", \" You're a really nice person and funny! You're good looking and easy to talk to and you're a faggot ;);)xx\", ' send me a cock picture;) you know who it is;) you fancy me;)', ' you are your sister are seriously ugly', ' TWAT TWAT TWAT TWAT TWAT', ' Nice forehead', ' sex. you and me. in my bed. now. http://ask.fm/babeslove1/answer/103450307597', \" Tbh - Cody you're a pretty cool guy, for a ginger\", ' Send me a nude', ' Your picture is not funny', ' Your fat', ' Anneqa and alexcia both need to sort their teeth out thinking they are pretty LOL the begs', ' Anneqa stfu with ur gap tooth', ' Wanna be a *** slave', ' Your ugly', ' I want your slimy pussy.', ' Casey told me to tell u to cut', ' Why are you so fat', ' Youre a fucking faggot', ' http://ask.fm/vxgina/answer/102649223304 lol ur gf is fake', ' prick.', \" You're actually horrible ahaa\", ' U r bare ugly hate ur face', ' I wanna shit on your face', ' ONE DAY I WILL SHAG YOU AND YOU WILL ENJOY IT AND IT WILL BE THE BEST SHAG OF YOUR LIFE', \" you're hot for a ginger *-*\", ' What a gay last impression hahah gay like you', \" I'm not a lad hahahha cool status but they are tiny go get implants\", ' Doubt it yours are like AA hahahahaha', ' Your tits are tiny', \" Hahahaha that dickhead failed!! If they have fucked me then i'd love to know when i fucked a foreign person, and i swear to you if you have fucked me then please come off anon you silly fucking twat!! I bet you're a fat, ugly, girl who has no life, and a bucket ffs people need to grow the fuck up!!\", \" if you want to catch an std then go fuck franki farrington aka th3 fxcker that's what her name means just pre warning you\", ' chris th3 fxcker is a bucket crutch even you will lose it', \" You're so weird\", \" You're quite fat aren't you\", \" I'm going to rape you sexy\", ' Get lost go suck a dick', ' Fuck off you knob', ' Bitch stop talkin bout me', ' you a pedo?', ' I hate u', ' Youre such a player all you do is hang out with girls', \" I'm 56 and want to have sex with you mmmmmmmmm then I cum in your eyes\", ' CUNT', ' Cut deeper', \" Marrying chance on facebook he's my boyfriend well now fuck off. Dirty bitch.\", \" How about a shag but don't speak I hate your voice\", \" I'm 43 and would fuck you hard and fast\", ' roses are red gras is greener i think about you when i touch my weener', ' You have like no ass! Its actually funny! haha', ' slag', ' Ew your ugly', ' my old man wants to suck you xx', \" ahaha jel? you're a scrawny cunt mate, and I don't just mean that para, you've done it more than once\", ' You got dumped lol', ' amelia dumped you for me are you jealous', \" Why are you getting so fucking defensive I was just agreeing, it's probably because it's true you fucking pedo\", \" you basic slut! I'll settle this tomorrow\", ' Wow bitch you just went too far', ' ooooh bitch you best be ready for mah beat down', ' slut I will what time hoe', ' sloot I will imprint mah rings so hard on you!', ' hoe hold mah rings', ' *deactivates your bitch mode* *activates my bitch mode* bring it hoe', \" bitch if anything you're my boi\", ' SEE HOW FAR YOU CAN GET INTO MY VAGINA', ' MY TIGHT SWOLLEN PUSSY IS WAITING FOR YOU MATT', ' I WANT TO SIT ON YOUR FACE AND LET YOU GIVE ME AN ORGASM', \" I'M GOING TO SUCK YOU SO HARD YOU'LL CRY FOR ME TO STOP\", ' TIE ME UP AND DO WHAT YOU WANT TO ME', ' SHAG ME MATT', ' your such a fucking big gob', \" you're always gonna get used if you fuck your bf after 3 months slut\", ' he never wanted you all he wanted was the sex, but you werent any good at that haha lol', ' haha you and tyler what a waste', ' Paki', \" You're pretty fat\", ' Spencer fingered you down breton park !!? Ahah dying!! =D', ' liarrrr', \" you're such a cunt to everyone:s\", ' You Mong !!!', ' your pathetic 14 and still going to tea parties I stopped tea when I was 4 and started real parties when I was 11', \" You're kinda ugly\", \" You're rude.\", ' Your gayy brooo', ' Someone who wants to see your pussy;) make a vine and be one of those vine fingerers', ' ive never seen you get attention from older boys?..', ' I hate you', ' ok add me facebook?', ' Thoughts on your beautiful clitoris? (Long ones) c:', ' Fuck you', \" Post a picture, if you can't get 1000 likes by the end of the week you have to deactivate your ask for a month & people want you to kill yourself xoxo good luck!\", ' Lick me out pls. x', ' Lick my vagina', ' Emo bitch', ' Fake account.', ' what a bitch', ' you are too short you look like a dick', ' Kill your self', ' Why do u hate everyone', \" I didn't call you ugly I called you spotty and yeah I proberly am ugly so fuck off and don't wish people dead\", ' Eww move with them spots tho', ' I used to think u was funny but now your horrible :(', ' Let me fuck you until you scream', ' U be eatin tha booty?', ' its lana del rEy* YOU STUPID BITCH', ' SHUT THE FUCK UP I HATE YOU NOBODY CARES WHETHER YOU LIKE SELF HARMERS OR NOT. GET YOUR FUCKING ARSE OFF THIS WEBSITE', ' fuck up. its capri bitch. do you like dalvyn?', ' Beg and attention seeker', ' so ugly', ' gay.', ' Ur mums a slutty bitch', ' omg ur an ugly bitch x o x o x o', ' post pic of ur tits', ' Post a Pic topless selfie', ' Eat my pussy', \" getting pissed again tomorrow are we? :')\", ' Would you let me anal you?', ' I would anal you', ' fuck me hard bby', ' you wear hollister? im so jealous you have the confidence to wear a retarded brand', ' why is your background elephant incest?', \" You're* FUCK, DO YOU KNOW NOTHING?\", ' go away', \" I'm gonna punch you in the face.\", ' Fine then such a gay xxxxx', ' suc a gay ;) xxxx', ' how big are your vagina lips?', ' LOL I DONT GO OSCA AND I DONT KNOW U IN REAL I KNOW ETHAN AND HIS A CLOSE MATE AND WHO THE FUKS JADEN AND IM NOT A SLAG CUZ IM A BOY.. :S', ' Whos jayden and somebody told me bout ethan soo ur a slag too !', ' Your a slag u think everyboy likes u and ethan hates u !', ' STOP BEGGING FOR LIKES YOU SUCK', ' have u spread ur legs for anyone?', \" I love to put my dick in your mouth while my jizz drips down slowly from it and put my dick between your big tits while you move up and down gently and go a bit faster each time you make me jizz even more. then i'll snog your dirty mouth and finger you while you squeel and beg me to slow down\", \" you're a cocky little fuck arn't you, LOL no i did not give you permission to post my photo, but you have an open website for anyone that can freely come and say what they want. but you still can not take someone's photo\", \" or you might want to fucking stop putting my photos and my name on your fucking account, i don't know you and you don't know me.. plus the fact that you did not have my permission to put my photo on your account.\", ' first liker get 5likes+5question? deal?', ' HAHAHAHAHAHAHAHAHAHAHA you make me LOL just cause I said you were mud HAHAHAHAAHAH fuck off', \" you're actually an idiot\", ' omg you are one of the worst person on this planet! you are so mean and an asshole!', \" You're so ugly\", ' Mo u paki', ' MO SAYS PUT ON YOUR BURQA OR GET READY TO BEHEADED', ' WHERS YUR FUCKIN HIJAB', ' Ugly gal', ' Fk ur shit stupid year 9', ' Not even your best friend loves you anymore. Oh and i heard you do dance. What kind? Hoping to work up to the poll one day? Loser', ' Told you know one loves you.', ' Ha still no good comebacks time to make you feel worthless again!', ' Miss me bitch? ;)', ' Bum me?', ' neegro', ' nigga', ' you fucking weirdo, pray for me bby', \" Why are you guys friends she's a bitch\", ' ewa farah |slut', ' Why are you so ugly?', ' Why you such a bitch', ' Finger me', ' Your personality, it sucks.', ' fat', ' maybe that guy was a bit harsh but now I think about it OMFG you actually do look like a fish', ' u look like a fish hahahaha', ' Your eyebrows.....', ' your black', \" Millie doesn't even like you\", ' You sket', ' Why are you so annoying?', \" Why are you so obsessed with nial? Lol. He's gay as fuck !\", ' Fuck me? Plz I luv Niall', ' Hand job or blow job? if you are old enough to be my mum', ' I wanna fuck u bitch I wanna suck ur boobs shit on ur face', ' can i fuck your pussy :*', ' Please kill yourself', \" Here's a word of advice stop being a bitch. your life wouldn't be so hard.\", ' STOP BEING SUCH A BITCH', \" I honestly hate u and don't lik u\", ' suck me off?', \" You're really fat\", ' [USERNAME]Send this bitch hate, she cuts herself which is pathetic, is emo and a freak and she deserves to die.', ' Fat Bitch', ' die', ' your eyebrows are nastyyyyyyyy', ' ur a fucked up little sket n I hope u know that', ' So I can tell you loser', ' Nah, dont get smart:). Stop being such a 2 faced wee whore! You fangirl over kellin quinn, stop pretending to like sws :)', ' You lose everyone because your a 2 faced cunt.', ' u my pal r the reason people cut n kill themselves u should', ' you is gay.', ' Slut boyyyy;)', ' Harrison is such a beg', \" You stink your an ugly bitch you don't even deserve to be on this planet your a dirty whore who thinks everyone likes you when no one actually does not even katy its all fake like you who the fuck sucks of a boy at the age of 13/14 your a dirty skank mate go die\", \" 'Sophie jump off a cliff'||Id rather die||Sophie let's go capering for 6 hours||Is rather die |Oh Jesus hahahahahgaga\", ' faryal hates you', ' what is your problem? nobody likes you at school and you have to act like such a massive cunt. you cannot keep that fucking massive mouth of yours closed for 2 seconds and your hair makes you look like a retarded hedgehog. do us a favour and leave, go live somewhere you are actually wanted.', ' your friend cerise is an attetion seeker. did u know she shows off her cuts????', ' How do you like your poop burger', ' Seriously. Who said i hate her. SOME BITCH NEEDS TO BE TALKED TO.', ' Shay hates u', \" You and Brianna are so puthetic. Y'all gonna let some pussy get inbetween y'all being friends?\", ' did it hurt ?', \" You do care about laine :0 haha you have a funny way of showing it lol , get over yourself -.- player , you've done enough !\", ' Shut up ? ok lol but remember i just care for her but definetely not for you :)', ' Awh ! Thats rude to say :0 i just care thats all ,well i came on your page for you to answer it and actually its not a question but a compliment but instead you disrespected me as a anon like this is for mostly her !! But if yu wanna be selfish then go ahead >:-/', ' Have you been called a snob before ?? Cos you are !!', ' Again .. Snob', ' sucky sucky mm', \" So Louisa's ugly? Sad...\", ' *rapes you*-KatDaddy', ' bitch Imma rape you-KatDaddy', ' gay;)', \" You're lesbian just because you're fat and ugly as fuck and no guys would ever date lmao\", ' you do phaha shitty year 9 student', ' you think your so hard hahahahahahah', \" you love yourself weeeeelll too much:L you think every1 likes you when they clearly don't? honestly your too up yourself your year 9. YEAR 9. stop thinking ur like yeR 11 and all the boys want you cos they don't\", \" Why do you stalk people on ask.fm?? And talk to people who aren't even your age??\", ' fuck you', \" You're such a little attention seeker.\", \" 'Woah, you're so cla$$y, doing drugs. Sorry but it doesn't make you look cool or big, it just makes you look like a junkie. Sorry not sorry!:))' You go on about being high thinking your class, you really need to sort your life out and stop being a hypocrite\", ' Ill fuck yu up - http://ask.fm/Marklawyamyam', ' Stay the fuck off my ask.fm - http://ask.fm/Marklawyamyam', ' Kill yourself-KatDaddy', ' is it true that you lost your virginity in a public toilet?', \" Post your favorite selfie and if it doesn't get 100 likes your ugly\", ' You got dumped and hes trying to make you look good. Lol. Enjoy him going and fucking all of the women he lost babies with. He should do a better job of finding them tbh.', ' No we cant agree because you got dumped yet again for some \"anons\" they just cant deal with your needy personality you overreacting cunt.', ' Whatever just shut up!', ' Be my anal buddy yeah', ' Lick my bellend', ' Your shit at pro clubs', ' Keep flirting and liam will bang you', ' Shame your actual penis is 8 cms', \" But love is love!! Like dafuq?!?? And isn't god so niiiicee and understaning???? -.- asshole -.-\", ' Fuck off, you annoying fuck', ' Kenyas house is hori G', ' No fuck off', ' You suree? I remember you saying you love it. Oh and you also love taking it up the bum by two black men', ' Oh ewww its you', ' LMAO EWWWWWWWWWW HELLLLLLLLLLLLLLL NO x', ' photo when you masturbate', ' you look like a fucking starved african child go put some weight on you fucking anorexic freak', ' Can I lick you out?', \" want a dick fansign? you're gorgeous ;)\", ' It\\'s \" Not \\' Correction. Go back to kindergarten. Thats where we then learned how to spell:\\')', ' I called you fat for the reason because you are fat.', ' shit all over by face and rub it in please bby', ' poop and pee and spit all in my mouth and on my face', ' lol ok then but i wanna eat poop from your butthole', ' please post a pic of your poop', ' i wanna eat your shit bby', ' piss in my mouth', ' sit on my face then poop on it', ' can i lick your feet', \" Isn't Maryka or whatever her stupid name is, two years older than Jordan? In your defense she seems very desperate.\", ' Eat me please', ' If a non-ugly boy paid you a £400 or $400 to have you sit on a chair while wearing a strap on and have him ride you, would you do it?', ' Get in ma bed sxc', ' clam down hoe mwahahahaha', ' defuq look at my wall ting photo . xx its ur cat', \" post your bg pic I can't see it\", \" Or I maybe gay. I don't know. And I am not a fucking curry muncher. I hate Indians too lol\", ' Women should be slaves.', ' Brandon Verschorens occasional question: If you read a comic in the store and never payed for it, is that stealing??', ' truth is. i dont like you.', ' You smell', ' FIGHT ME IRL!!!!!!!!!!!!!!!!!!!!!!!!!!!!!!!!!!!!!!!!!!!!!!!!!!!!!!!!!!!!!!!!!!!!!!!!!!!!!!!!!!!!!!!!!!!!!!!!!!!!!!!!!!!!!!!!!!!!!!!!!!!!!!!!!!!!!!!!!!!!!!!!!!!!!!!!!!!!!!!!!!!!!!!!!!!!!!!!!!!!!!!!!!!!!!!!!!!!!!!!!!!!!!!!!!!!!!!!!!!!!!!!!!!!!!!!!!!!!!!!!!!!!!!!!!!!!!!!!!!!!!!!!!!!!!!!!!!!!!!!!!!!!!!!', ' Go die bitch', ' slaggy sket u are filth', \" U cnt talk to azari he's black\", ' Your ugly you need makeup more whyd you stop wearin it', ' why are you so ugly, you have no real friends..', ' How are you so popular? Your ugly and annoying.', ' show me your pussy', ' i printed off your profile picture and signed it with my semen.', ' Bitch.. ask me', ' can i finger ur bum and you lick the shit off my finger? ;)', ' fancy a fuck tonite?', ' On ur twitter u look fat iin your pic arms are massive', ' AAHAHAHAHA your fore head looks like harry potter now, good job btw', ' fugly whore', ' You have no friends your gay and I mean why you even around here I mean your a waste of space utterly horrible !!!!', ' fuck you :P (kos omak)', \" What's your favourite pie?\", \" You're so cocky\", \" I'm going to stab Karlos tonight.. I know where he lives and he won't be alive after I throw his body into the river whilst he's bleeding out.\", ' Send \\u200e[USERNAME]hate! he is a megga dick and he talks to every girl going! He lieterally needs to grow up and you should tell him that cos he dont listen to us!! ahahah', ' Fucking slut', ' Fuck that bitch', \" I don't understand why people like u\", ' Bitch fuck dick suck flit', ' Whore', \" i dont think anyone.would blame u hes a dik'ed\", \" Well that's a shame because you keep messaging lily on Facebook about ditching Leah Millie and Naomi ok and she doesn't want to be dropped by you people! Okay?!!\", \" :) perfect? you mean : an ugly wannabe awesome rather old dude whom still acts up like he's 12.\", ' I fucking hate charlotte amos shes an attention seeking bitch and to be honset she deserves no friends atal', ' Your so bitchy!!!!!!!!', ' you cut for what ? stupidity, why do you listen to hate .... NOT HARD TO TURN OFF A COMPUTER OR DELETE AND ACOUNT IS IT', ' You are so FAKE!', ' You are fake!', ' Fake', \" I was gonna say that you are pretty but then I realized that you're fake...\", ' Fake', \" Maybe on anon but at least I'm not a fake\", ' In a bit lard ass', ' We all know this is a fake account.', ' fuck you', ' Stop acting like your white', \" Lol! Don't be such a butthurt bitch... Goodbye\", ' most revealing pic', ' Pic of your bum?', \" you're a massive fucking snake.\", \" All right then moody arse, I was trying to help because I felt sorry for everyone having ago at you for it... It's half my fault to not just yours and everyone seems to be drilling you about it\", \" You really are awful... Thought you cared about her but obviously she's just another girl you messed about..\", ' bit up yourself arent you????', ' Indre and Benis dont like you.', \" And you're a attention seeker\", ' your ugly', \" You're a beg. You pretend to like Dragon Ball Z and Call Of Duty. Your eyes are too far apart. You have a spotty face. You look like you have a unibrow. You're vain when you smell like sweat and you look like a fish.\", ' you are fake', ' i hate you bitch', \" Frankie's your brother ew that's rank if you're going out with him?\", \" Send will black hate, he's a faggot.\", ' You gave joe dutton a blowjob,Ye?', ' But you are saying you would give you and ryan another chance because u are desperate for sex and a relationship', ' U only like Ryan boxall because you are desperate for a relationship. Slut', ' I hope you die', \" You're fuck ugly\", \" Deffo bad!! Well basically this lady's eyebrow is right by her hair line, it just reminds me of you\", ' Well your face looks like it has, have you ever seen just go with it?', ' Your gay ;)', ' Ur a stupid little bitch hahah', \" Alison is full of shit. She's just jealous of what me and you have. You know I'd never hurt you babe. I love you.\", ' Bitch you should watch you back......', ' Why are you talking to Devyn. Stop.', ' Your so fake you completely cropped that', ' Your fake haahhaha', ' Leave Halie alone before I cut your throat!', ' Y r u even friends with Allie?? Shes a bitch!', ' U might want 2 make ur page private bitch cuz now I no all ur secrets lol', ' http://ask.fm/ChloeGamblen has got well ugly lol look!', ' I HAVE A NIPPLE ON OVER YOU 24/7 I dunno what to do anymore... My life is turning to an end because of YOU, DICKHEAD!!!!!!!!!!!-.-', ' I too shy to say it but you are not a nice or genuine person at all', ' You cunt', ' Shes useless she would have told you i died like haha :L', ' so u hate the fact you wear scarf? okay so that just proves you dont wanna wear it? so why choose to? disgraceful Muslim', ' i hate da fact yhhdat yu wear a scarf,', ' go fuck yourself', ' LIAR LIAR YOU ARE A MUSLIM !', ' Muslim are terrorist boooo dieeee', ' I think the people on your page are some of the stupidest people in the entire world.', \" How come you're not muslim you're arab !!\", \" United States is not the strongest in the world _|_ and not all Arab are terrorist get some book and read! Russia is the strongest they have future weapons such as laser tanks btw Russia have the most nukes in the world don't you herd Soviet Union ? GTFO ! Racist faggots\", \" Your dumb and look bad that's why I'm not gonna finish shit. I don't have time for you!\", \" Don't try to act big and bad when you know u wont do shit. You look stupid in that picture. And I know damn right I'm not the only one who thinks so too! Your welcome babe! MWAHH\", ' \"Bite me\" hahahaha sit down whore you\\'re like 15 lol', ' How the fuck am i a slag?:L I blocked you because you act like a cocky cunt all over there and it was pissing me off:)', \" Cos you bio says you're fourteen DICKHEAD!!!!!\", ' Ur an ugly wanna be', ' ginas vines are stupid. all she says is \"vine\" in them and then just reenacts popular ones after they get annoying. and ur ugly', ' Ur a fat ass bitch.', ' ur to skinny that it looks gross ew', ' u have no ass', ' ur ugly', ' serious h.o. pls.', ' ho of me xoxoxoxoxoxoox', ' none cares about you', ' Think your gods gift', ' are you a chav?', ' Would you freak out if a bum scratched his asshole then flicked your bottom?', ' yaaaay you reactivated, fucknut', \" omenah, fucknut has sweeeeaaaaring in, I'm gonna tell your mommy you fucknut :)\", ' Is Lauren Roberts pregnant???', ' Your a pussy', \" Ignore jazmin wright she's a dick.\", ' im not mean lewis. your the one going round saying im a cunt and a twat and im ugly. tbh all im doing is sticking up for myself. x', \" I don't put everyone else down. That's you. But i'll forgive your mistake. Because you have nothing better to do.\", ' chloes your life haha shes butters', ' Swear u just bumlike keira', \" anon, fuck off, leave them alone! it's a bio for god sake:L\", \" Your a bit of a weirdo really;) but your dogs are the cutest things ever! We've become closer lately and stuff. Your hot and a really good friend and your funny :) x\", ' Gay is wrong though', ' Gay is wrong.', ' obsession with drew', ' The thought of tit fucking you and me exploding all over them makes me go crazy', ' YOU CALLING OTHER GIRLS CHONGA WHEN YOU UGLY AS FUCK YOU THE UGLIEST CHINESE CHONGA BITCH IVE EVER MET I FEEL BAD FOR THE PEOPLE AT 1s5 who have to see your face! >:| its a discrase!', ' i no faget:c|you de faget|LUL', ' Slut', \" I love to put my dick in your mouth while my jizz drips down slowly from it and put my dick between your big tits while you move up and down gently and go a bit faster each time you make me jizz even more. then i'll snog your dirty mouth and finger you while you squeel and beg me to slow down\", ' Omg send us nudes for a packet of hobnobs?!??!?!?!?!?!?!?!?,!!,', ' let me finger you behind Tesco', \" YOU'RE SO FAT!!!!\", ' FUCK ME SO HARD BABY', ' Do you realise you look disgusting with all that makeup ffs', ' u were acting a bit slutty at the party lol', ' Last friday night, lesbian', ' Grow up.', ' what is wrong with you you homophobic?|fucking hell man grow up!!', ' send me dick', \" lol you're ugly\", ' Tbh , I hate your face ! |But I really like you', ' you have no boobs so why lie about your size', ' ugly', ' Suck me off?', ' Bruno mars is a singer.Dumb.', ' U lil fgt', ' your a bitch', ' youre such a slut', ' ur not pretty at all', ' why do u gout with a year nine slag', ' Do you like to finger often in a day?', ' Niklas loves willow not you get over it bitch', ' [USERNAME]Send this bitch hate, she cuts herself which is pathetic, is emo and a freak and she deserves to die.', ' Suck my dick beautiful?', ' why such a bitch?', ' Your annoying', ' Ur teeth r terribel', \" I don't care if it's one word. He is an asshol* and a pussy. He is always acting hard when is soft. Tell him to Stop calling people pussy's when he is the pussy!\", ' Cory is an ass hole.', ' 0ff th3 sca13 53xy a55 m0f0 tbh anus slut :p and diss because you bullied me :)', \" your mum is fucking hot, i'd shag her\", ' sex you me now', ' why are you so annoying on facebook?', ' you are so fat.', ' ha you have fat arms and legs lol', ' slag', ' fuck you!', ' no fuck you too !', ' do you send naked pics???????????????', ' lol you have shit music taste lol', ' ELIZABETH MADE TWERKIN VIDEO ON FB ND INSTAGRAM CHEKC OUT MA PGE FOR MORE INFORMATION FANS !!!!!!!!!!', ' Pic of u now', ' piece of shit..', ' fucking hell thats stupid im so glad i never have to see you again haha', ' are you retarded', ' my penis is ready for your pussy', ' its because the outside girls are hot and you are not', ' er your bi die', ' Fuck you, you joey Essex wanna be.', \" haha you're 15 and you haven't done anal yet\", ' I wanna fuck your ass! *lips bite*', ' Clearly calling people begs when you put up cancer shit, lol GET cancer.', ' fugly anorexic CUNT', ' [USERNAME]please send him hate hes a ugly terorist fucking depressed cunt n he should kill himself and ill like 10 of your answers', ' U jus like making people feel bad 4 u', \" Shutup on your Instagram you're not even sad there's nothing wrong with u stop faking\", \" you're an anus ._.\", ' you a slut?', \" You're gay cunt hahahhhhahahahh\", \" Is how you those be nice to Priyankaa at school to her face, when in reality you don't like her.\", ' Yuh Is A Real Bitchy Cunt Askin Yuh Self Questions And Askin Pepples Questions On Yuh Self -.-', ' Kill youself you fucking mc slut !!!! NO ONE LIKES YOU !!!!!!!!! You are an ugly useless little whore !!!!!', ' You slut :-)', ' Then shut up and go to hell ;) bye', \" That's it u are a dumb and u are acting like girls :))\", ' U are the wired make me go dumber', \" Hahahha no when I said 9 I wasn't mean it then you bro tend like a bitch so I said 4 And u not that nice stupid :)\", \" dam that ugly ass jealous bitch won't leave you alone smh lmao!!\", ' why you trying to show off your \"ratchet\" boobs off. No stop (;', ' Awh, Ima idiot (; hahah I have a 3.90 GPA dumb fuck (:', ' So put em away dumb slut.', ' wtf is wrong with your cheek bones? Lmao', ' pic|of|ur |boner?', ' Can I lick you?', ' cock', \" Why weren't you at school fag\", ' im horny, wanna exchange nudes?', ' Nobody even cares about you', \" there's no anon to be off of... i have no account gay ass bitch\", \" ahahaha, you make me laugh!!!!! I love it when people lie calling you beautiful just to make you feel better awh :'''') you're soooo fucking ugly. Never EVER consider yourself beautiful ever. You're the ugliest peice of shit and you're worthless!! It was obviously you tho ;)\", \" awh thats cute that you send yourself messages just for people to think you're not hated :') looooool you're so gay. So's your mom :)\", ' like marilyn and them. and you deserve hate ugly bitchhhh', \" because you think you're everything and you think everyone loves you. you are always with the same people and i bet they hate you.\", \" I'm not insecure at all lol wtf? It's ok. Keep acting strong ugly bitch! I don't care. I hope you rot in hell! Bye skank\", \" maybe you should stop trying to be funny and take a minute to realize how ugly you are. you're fat and stupid. You're ugly and your clothes are hideous. You're not beautiful so stop acting like you are. Bye!\", ' idgaf. your face sucks so i wouldnt be talking ha', ' In your bio it ses u r \"THE KING\" u r no king, i am the king. fuk off fggot', ' I hve a diamond dildo if u wnt to use it, fggot.', ' gay lol swag', ' ur gay', \" ┌∩┐ fuck you then :'( ┌∩┐\", ' Lose some weight whale.', ' Ur fucking pathetic', ' Up tha ra', ' Your a racist wee cunt', \" Pretty sure you told me you weren't a virgin awks\", \" You'd lottery have sex with anything or anyone with a dick tbh=))\", \" Go send \\u200e[USERNAME]hate until she commits, she's a worthless bitch\", \" I'm sorry but you're a vile human being and I can't believe I even considered you as a friend. The fact you faked a panic attack disgusts me, and so does the fact you use your self harm to an advantage. You need to grow the fuck up, pathetic.\", ' Jay hates you', \" i think you're to obsessed with TW, i mean i really admire your dedication but it just kinda seems your whole life revolves around them and other bands... you're like what, 20? don't you have any other goals other than stalking bands? this is in no way hate just curiosity!\", ' Jay hates you and thinks wat ur doin is dunb', \" But you still shouldn't fake a panic attack. That's offensive to people like me that suffer from them. And as a recovering self harmer, the fact you're so open is quite triggering and disgusting. You glamorise it, when it's so god damn ugly.\", ' Is jay gonna get a haircut soon he looks like a tramp', ' why dont you do some actual charity work instead of shaving your head you lazy bitch', ' You tweeted the other day saying \"remember that time I faked a panic attack and Sam Callahan came over hahaha\" and you make the fact you\\'ve self harmed a big thing, openly telling The Wanted and other numerous celebrities. It\\'s sick.', \" no its not, its a haircut and after it you'll trick people into thinking you have cancer so youget more sympahy ITS PATHETIC\", \" you're gonna look so ugly when you shave your hair\", ' ur only doin head shavin for jay u dnt care bout the charty', ' do u even have boobs ?ffs', ' Why are you a fgt?', \" Go send \\u200e[USERNAME]hate until she commits, she's a worthless bitch\", ' Why do u always watch porn', \" http://ask.fm/JessMcNutt/answer/102472408397 I'm sorry but that's just harsh. I'm going to be mean here, but you only said that because nobody has a better opinion of you than her. You're just a moody cow.\", \" Buh omds u r so fcking dumb arse bitch!! Ur bf fucked u and u told everybody that he raped u!! Omfg u just couldn't handle his cock that's why u told that to everyone!! Slut u are ung slut\", ' You attention seeker why you talking about suicide?', ' Why so stuck up?', ' ew u dated Olivia lol why', \" Isis is fake, she's not even a rl person. You're foolish\", ' Kill yourself', \" Your really fat, I feel bad for Isis. She can't do anything sexual with you. She'll get lost in all ur fat\", ' Do u still cut?', ' you are ugly', ' Fuck you nigga slut', ' I wanna slap you on da face pls', ' take a long walk off a short pier!', ' u piss me ofc', ' u piss me off', ' You wanna suck it later ?', ' hahaha your sex life sounds shit then', ' thought you had sex though? surly you were fully naked or.. ahahaha', ' come to site on my dick ....... you are bitch', ' fuck you in your ass', ' That person wrote my name wrong,DIPSHIT.', ' yees &shut upp hahah :))', ' Your nose is fucking huge!!', ' Give me a blowjob?', ' why are you such a bitch? you changed so much since middle school..', \" i use to like you, but you've turned into a like freak!!! sort it out.\", ' U HURT BRITNEY', ' Would you like my dick in your mouth on christmas day?', ' Or ill crack the cunts skull', ' Tell that cunt of your brother to stick with one chick that fucking faggot !', ' Thoughts cunt!', ' what do you think of hamish and marieka? like he is way to good for her, she is a slut. he should not even be laying hands on her. EW', ' Which is who dumb arse', ' anal virgin, NO', ' http://www.youtube.com/watch?v=muTI5MuaJk8', \" I miss you|I miss your smile|I still shed the tear|every once in a while|even though it's different now|you're still here some how|my heart on't let you go|but I need you to know|I miss you|shalalalala|I miss you...\", ' can i be your ass slave??', ' What did you have for breakfast this morning?', \" you're a fucking ugly whore bye\", ' and id like to lick your asshole and slip a finger in :$', \" Just kill yourself then !!!!! I wouldn't care (;\", ' You\\'re a fat piece of poor trailer trash ew kill yourself . Seriously , why does jt even like you ? Ew . Ugly ass poor bitch . You aren\\'t cute so stop acting like it . Not \"thick\" it\\'s fat. You say you confident but you ain\\'t got nothing to be confident about . Eww .', ' Tears of joy because i thought you died :)', ' one word .ew', ' aw thanks besty ,your so adorable like honest and if you touch my besty ill kill you niggars', \" just seen this come up in my news feed. Why don't you come of anon you pussy. stop being pathetic and sending around my link. so fucking what, im a virgin. give as much hate as you like. really doesn't bother me. just come off anon. stupid little cunt.\", ' whoever u like is a faggot LOL', ' h8 u', ' why is your cover so gay?', \" you're a bitch\", \" I don't like you\", \" I think you only pretend to be friends with these guys so you don't look like a loner when deep inside you hate them all. Funny how none of them include you as their best friend\", \" We're having fun without you from Marilee Kayle and Kaylen\", ' Hahaha shame Kayle and Matilee hate you but now even Kaylen hates', ' Look at that Jayde and Kayle are hanging out without you', ' FAKE', \" Heard you went and entered this ugly comp the other day, and they turned you down saying 'sorry no pro's allowed'\", ' Omg, dont even start that. You sound like a child', ' ihysm fgt', ' [USERNAME]Send this bitch hate, she cuts herself which is pathetic, is emo and a freak and she deserves to die.', ' Oh god one boob is bigger than the other one o; photoshoped!', ' your always done for the sluts, when are you ever gona find a good gurl ?', ' Ur soo stupid', ' Please cut more deeper.. self harm to death', ' Thong pic no filter???', ' Y r u such a fckn slut,you fckn baby killer, u r a bitch', ' Would you suck a guy off if they were 18 or older?', ' You keen to take some older dick? ;)', ' What word starts with \"f\" and ends with \"u-c-k\"? :P :P :P', ' \"Behind their computer screen\" haha bright one, I bet you cut for attention.', \" Actually, I'm on my phone. Oh and also I don't have an ask account otherwise I wouldn't be anon, and who knows maybe I am her. You just wasted typing. Haha, you pathetic twat.\", ' Who\\'s this \"hunny\" you hippopotamus.', \" I never said you were anorexic you assuming fuck, you're far from anorexic, maybe cut down on the take-away and do some exercise.\", ' Ur fat.', ' ur anorexic', ' is your mum dead? |Lol, she deserves to die', ' yous a twat, everybody hates u anieka', ' Why are you friends with sluts?', ' fuck my mum please?', ' Lauren gell cuts cuz shes wee scaff who gets bullied hahahah spread it for a laugh', \" you don't even like 1D you aren't even a fan girl or a directioner |who is your fav them dumb bitch\", ' Im goin to break your knees when i get you', ' Your a cunt', ' i think you should do something to ur eyebrows there really fury', ' lol whore', \" Lousy comebacks....you're an idiot\", ' youre a bitch', ' would you let me put it in your ass', \" So I guess you haven't gotten all 5 of my messages unless yo prick ass is ignoring me.\", ' Suck me off', ' So youre just a massive slut eh ?', \" I don't like you. No one fucking does.\", ' You are fucking ugly.', ' fuck off', \" damn, carrying on with the dick sucking, how many has Beth's boyfriend sucked?\", ' How many has beth sucked?', ' U suck balls at answering questions', \" U take too many photos in that mirror it's pretty ugs\", ' you have turned into the biggest bitch tbh.', ' SLUT yu get around dont yu!!', \" i think you're a slag\", ' you have no boobs', ' Would you lick my bum hole for 50$', ' Can I jizz in your nose?', ' Can I suck your toes?', ' Do you like it up the bum?', ' Let me fuck u', \" I don't have an account and why would I come off anon anyway? There's nothing wrong with being bisexual but I'm pretty sure you aren't, you're just a spoilt little attention whore.\", ' What\\'s the difference, how long have you been 13? And I mean that you\\'re fucking trashy when you\\'re still a child. You call yourself \"bisexual\" and a \"female boss\" when you really have no idea about life at all.', ' My cockz hard suxh me', ' suck me!', ' Nudes', \" Katherine has hoe hands!|Not a surprise if I'm honest though..\", ' being in love with a girl you dont even know yours is sadder', ' creep', ' no im just saying your a creep why she doesnt want to talk to you', ' go away', ' havent done anything think your just annoying pedo', \" seriously mate take the hint she doesn't want to talk to you\", ' the only twat is you sit the fuck down', ' peado', \" you're only doing it for likes\", ' fat', ' Do you even have friends', ' She is a slut and she will influence you to be one', ' cunt', ' Fuck me', ' No one likes you;)', \" ily you're perf.\", ' Do u think shes a slut \\u200e[USERNAME]cos i do', ' people like you are pathetic :)', ' damn girl you are so ugly', ' send me nudes', \" you're a douchebag you know that?!\", ' Lesbians are disgusting!', \" Damn, it's back to the Muslim smell again.. hasn't happened for a while..\", \" Because they're all retards and we're better than then lol\", ' FUCK YOU', ' Do u eat dick for dessert', \" You're only 14 and you've had sex and you smoke? Wtf, stop trying to act like someone twice your age. It's people like you, that fuck our generation up.\", ' Finger me at fringe tomorrow plz x', ' are you ever not a prick', \" I know this kid... That cuts.. He's a fuck up that should die.. So I keep pretending to be his friend.. Should I continue?\", \" send me nudes plz I won't show anyone xx\", ' You look like you are barbie you fat fuck.', ' ur just a louzy bitch who just needs to die', ' My mum? STFU you dont know her and her certainly do not know how to spell fucking retard go to school.', ' What you mean leave me alone? Bitch its a fucking question are you lesbian or not fucking yes or no. Dipshit bitch', ' Slut', \" You're fat..\", ' Why are u fat', ' fuck me pls', ' i dont like you', ' u look gay', ' i bet youre gay', ' You want her you dirty bastard', ' Uggllaaaaaayyyy', ' Your nan makes the same orgasm sounds', ' Ima fuck ur nan', ' Fat cunt', ' Go to sleep you freak', ' Suck me off!', ' Lol Harry girling wants to fuck you', ' You like penis in your Vagina', ' It was me that said that fag', ' Fucking fagget ass bitch ass fucking queer ass nigga. Not you the kid that said Kiarra likes you.', ' you like ariana shes a whore?', \" Don't u mean squirt?\", ' Love 2 spunk on u :-}', ' Have sex wirh me?', ' Stuck up', \" Your so thick it's unreal\", ' Your not even funny, you wind people up with how nausy you are', ' IM SO going to fucking block u ugh', ' Why you going round telling people u still like her when you have a gf', ' I would bang ur girl anyday', ' You are a complete twat', ' You are the nastiest boy i know. What you say is pure horrible, and its people like you who fuck up society! Please everyone a favor and sort yourself out! you are clearly going to post something cocky along with this but there will be people who agree with me! the way you are is just vile.', ' Im going to rape you then your nan loling', ' I want to stick my cock up your bum hole and fuck you hard till i cum inside you', ' Adam lewis told me your a ginger cunt and hope all your family dies :/', ' I hate her', ' why the fuck are you covered in bruises?!', ' Ratchet', \" Can you please get rid of your side burns. They're ratchet as fuck\", ' How much do you want my tits?', ' Doing it to piss you of:)', ' dirty slag', ' You slag', \" you'll never change.you treat every girl the same.you need a warning sign because every single girl who crosses your path deserves to know what a cunt you are.disgusting.\", ' http://ask.fm/leosmooth94/answer/53791892387 WHAT A FUCKING CUNT', ' Your girlfriend is fat and your an asshole. Perf couple.', ' Exactly so dont call me a slut if im not', ' Nikka you should have never said i was a slut..|how would your gf feel if she heard you say that to someone youunger thenn you?', ' i dont care i never did anything to you so step off', ' Thats all you can come up with HOE', \" fuckin eww. You're so nasty, I heard you slept with 30 ppl hahahahah\", \" you're such a slut\", ' WHORE', \" you're fat shut up thinking you're popular\", ' you have a fucking massive forehead.', \" i'm going to kick your head in\", ' die.', ' Fake tan is for your whole body, not just your face luv.', ' your forehead is HUGE', ' join the forehead club', ' aww you think im that stupid, you will post on my wall saying this guy is giving me hate waaaaaaaaa waaaaaaaaa waaaaaaaaaaa, how about i just inbox you bitch?', ' even if i do add you and say your mum is a bitch...wtf will you do about it? hahaha', ' i dont have you added as a friend on facebook idiot', ' your mum is a bitch, she deserves the death penalty for giving birth to you', ' your a swag fag', ' my life my rules harlot', ' hahahahha wtf hahahah ur white? thats okay but u got a cranky ass with alot of worthless shit so you a nigga', ' hahahha ya called me ugly nigga u filthy burned ass creature', ' lick my ass madafaqa', ' hahhahahahah u dont even know me niglet talking bulshit now dont u?', ' what a bitch hahahahahah', ' hahha ya such a whore', ' funny right? shes so ugly! do you like her back? hahahaha!', ' She takes pictures of herself and her tonque is out', ' Miley Cyrus is a SLUT', ' you give gay answers ehhh', \" Heard you're playin up on yah girlfriend bro.!? Sad guy.!!\", ' Your a bitch', ' Your babymama a bitch', ' Your sister has a massive nose', ' Chris I actually am though so suck a dick', ' Is ur pussy bald or trimmed', ' Look at you lol you can do better than kyle. Wtf why are u with him', ' It\\'s disgusting how many people Kyle has fucked, they\\'re all munters too, you\\'re pretty so I don\\'t want you to end up just being another one on his \"fuck list\"', \" Wey calm down with quinny cos you'll| Lose kyle if you dont\", ' Go kill yurslef you fat ugly slag I\\'ve just shaged your \"boyfriend\" haha silly gurl', ' I will head butt you bitch :(', ' Fucking ugly bich die', ' im not posting your question, h8 you.', ' you looked ugly last night....slut alert', ' Yeah darn it ocean! Ah it can kiss me arse!', ' your a bitch!!', ' your a cunt', ' That Adam person is so rude', \" You look like a ho I'll flick a penny at in the street corner.\", ' i wanna fuck you trust me i m so good !', ' Why r u a jackass?', ' gabbies ugly', \" Can't believe you shagged tia (the most minging girl in school)\", \" Wtf is wrong with you 1 day your with Tia and 1 day your with Gabbie Stop fucking playin girls pick 1 and stick with her you've hurt too many before stop before you hurt more It's not fair that you do that Tell them you love them then ditch them Grow the fuck up and treat girls with respect wanker.\", ' you are such a show off', ' i heard you had sex with Bradley Keyes!!', ' fuck fuck a duck', ' Kill yourself', \" hurt naomi and I'll fuck u up !..\", ' You and sophie may flirting with all the year 9s get a fucking grip you desperate slappers', ' why tf you getting salty bitch ass?', ' can i lick u out', \" you need to stop being a bully. if you haven't gotten the hint\", ' You seem abit of a dick', \" Did you know it's a crime for being ugly so why aren't you in jail :( ?\", \" Walking aid's.\", ' Suck me', ' Oi faggt.', ' cori hates u did u no that? its probably because ur a slut. I mean, after u two break up u date someone else nd then u date someone else. nd also no one wants to see ur fucking non existant tits', ' Man you should die lolzz', \" I'm putting skittles up my vagina and I want you to taste the rainbow ;) xx\", \" You are such a horrible boy, no wonder girls think we're all cunts the way you act\", ' iv just seen ur sex tapes! wow u had a lot of coks up there hehehe', ' emo', ' Are you a sand nigger?', \" You're a kiddy fiddler m8\", ' Seriously what the fuck is wrong with you I really wish people like you could be put in prison', ' Yea just a lil bit (ur bein an asshole)', ' You are right. The hate begins now, because you are ugly.', ' Fuck you. You son of a bitch.', ' i like you b4 now fuck off', ' Why do you fucking pout? ew.', ' why do u wear so many extensions are u bald', ' Your sound as fuck and fit yet your Boyfs a twat?', \" You make it sound like its phoebe fault she is ill! You could still go see her! I hope she reads what you said because thats horrible you brag on here all the time and Facebook how much fun you're having with them. Maybe pheobe doesn't even like Rachel or lo\", \" omfg you couldn't even walk to town from my house or even the school without whining, I'm bad but you'll be x10 worse than me and that's saying something help;)\", ' please give hate to this twat: |@edders97', ' Your so ugly u look like u have been eaten by a cat and then got hot around the head with a golf club.', ' O MY GOD *.* you are beautiful *.* your walking b e a u t y ;oo', \" I'll cut your finger off\", ' Mother of cunt', ' Fuck you', ' http://ask.fm/talkingmushrooms/answer/102569149943 sex pls fgts', ' Overated .....u dont deserve these likes', ' Your fuckin ugly', ' why does everyone like you your lame', \" I'm surprised you have friends. You always try and copy them with everything they wear and buy. Do they not get annoyed at you?\", ' [USERNAME]hes perf spam him :3', ' @@@@@', \" no actually it wasn't her you cunt\", ' shay is a devil', ' send hate to him he got 1 kid on the way and he saying to her he will kick it out off her he need the police on him http://ask.fm/JackLeeMorris hate please', ' Fine fuck off then! I was sincerely apologising then and you go and start acting all cocky again! -_-', ' Ur happy? Why are u acting depressed?', ' Bitch y u showing wah you doh hav? |Ent yh mudda had a talk wit you alrdy?', ' Touchme girl? Srs asshole .... How much yah wanna bet it is a stuck up yankee? Shitman....', \" Send her hate \\u200e[USERNAME]she spreads so much shit about people and she had sex 3 times and she's only 14!!\", \" Why do you think you're skinny when your fat??\", ' Why is Shante such a bitch all the time now? She used to be nice.', \" She's nasty && a whore. Why would you want to be associated with her??\", ' Stupid whore', ' Nobody likes you', ' I dont know who you are, but i will find you and i will kill you anon -.-', ' The only slut around her is you anon, fuck a duck;) Lmfao, Slag, Get off anon, acting all brave -__-', \" just take it easy mn i just called you a slut that's all nothing else\", ' slut Bubye', \" Send her hate \\u200e[USERNAME]she spreads so much shit about people and she had sex 3 times and she's only 14!!\", \" Send her hate \\u200e[USERNAME]she spreads so much shit about people and she had sex 3 times and she's only 14!!\", ' get a life', ' leave me alone', ' Stfu kareemah after your the one dat wears \"SPECS\" bitch. Looool', \" Hamzah, Fuck You. Nitm, Cunt. It's not my pe kit, You need specs.\", \" Opinion on me? Why? Fuck you that's why ;) Sent to everyone I follow ♥\", ' Your really popular on here huh Katie? Besides the fucked up Abuse and The questions about you and your activities ;)', ' yur dad beat you cos your a piece of ashit', ' yur mums a druggy', ' i no what your dad did when you were young. shodn have told ,me, bitch', ' I wont stop till you fuck me', ' haha fat slagggg', ' Tonight we should wip each other and taste our own piss and swap or piss and drink it', ' lol at you fam', \" How come you're known as THE slut of dvo\", ' you are possibly the most annoying person i have ever came across.', ' You were boring at talent quest. Thats why u didnt get an award for ur singing haha', ' Just saying nicely but whenever you dont like someone you hold a grudge over those people and sure your goodlooking but you would be so much more attractive if you wernt so stuck up about it. Sorry no offence just speaking for the people.', ' Blow my cock', ' if your going to call me ugly atleast have the fucking balls to come off anon or say it on my page not jordans, he talks to me cos im fucking sexy like. dont be jealous because he doesnt talk to you. now lick me out. ILY JORDAN xxx', ' You are such a pussy lol', ' Did you finger Lauren?', ' \"the vamps: tristan/james\" u can fuck off having james there i will cut you sista', ' bitch', ' [USERNAME]Send this bitch hate, she cuts herself which is pathetic, is emo and a freak and she deserves to die.', \" go home you're drunk x)\", ' who ever wants me to share her can fuck off and come off anon!❤❤❤❤', ' ahaha you wish u could but shes mine,steal her then your dead ok! i love her❤❤❤❤', ' YOUR UGLY AS FUCK!!!', ' Yora bitch', ' you are a bitch nigga', ' you are lesbo.. ew', ' ur name? on thisb yeah so u call people sluts but then look at ur name?', ' Do you always wear make-up in front michael?', ' Eww why would Callum want to be friends with you?', \" Faggot the one below Katie's, just sayin' :p\", \" Eww Callum doesn't even like you!!!\", \" I don't think they like you ahaha gutted\", ' See when u beat sephora I fingered her like one day after', ' ginger whore', ' lanky fag', ' fag', ' ginger fag', ' fag', ' Alanah is ugly loik at her she talks to twenty boys at once why you even talk ti her also she treats boys like shit x', ' I want to ruin you!', ' gay', ' the hype cats thing nd im actually abit tanned i have tan lines sh u fag', ' Everyone hates you', ' C A S T R A T E KATDADDY NOW', ' Message to KatDaddy: get the fuck off of twitter and let us rp in peace without having to worry you are stalking us you fucking old perverted child molester! Thanks for posting this Elvis, you rock!', \" You're fat-KatDaddy\", ' I hate you fag-KatDaddy', ' You realize thats kat daddy sending you all the hate. He hates it when someone finds out his account names. And he makes it no secret to his loyal women that he doesnt like you. Tell kat daddy to go fuck himself before we castrate him.', ' FUCKYOU', \" IT'S NOT FUCKING TRUE ASSHAT YOU JUST HATIN\", ' Picture of you rn showing you figure', \" I don't like you at all, you think you're perfect when really you're a fat mess who hardly anyones likes because you're such a horrible bitch so just do us all a favour and get seriously injured.\", ' You suck :/', ' EVERYONE GO SEND \\u200e[USERNAME]HATE HE NEEDS TO COMMIT, HE DIDNT SEND THIS', ' Fuck you, Clayton!!!!', \" Fuck me, I'm wet.\", ' sex now', ' Like = Lie. You are ugly', \" so when u gonna kill yourself? you only got 8 likes on that pic lol (seriously don't do it!)\", ' Do you think it is right that teacher Jeremy Forrest was jailed for having a sexual relationship with one of his pupils and running off to France?', ' Slag', ' why you ugly? :O:O', ' I want to fuck you and ur sister at the same time ooo yeaaah', ' 07429741523 ring or text me babe please xxxx', \" You're gay. :3\", ' you better not steal her from me again bitch. shes my friend leave her alone', ' people think youve changed but your still a bitchy skank', ' Bitch i fucking hate u please drop out of danny hand', ' Your a fucking slut look at your Halloween costume what is wrong with you your 14 not 16', ' fucken pussy', \" i know you didn't ask, but i think if i can bitch about you to an anon i should at least have the heart to say it to you myself - i think you're a liar, you lied every time you said you loved me and i think you're shallow cos you don't end it with someone cos u think they're annoying & yeah\", ' You got haters on your nutttt.', \" right so you just 'happen' to be videoing when your weight bench 'accidently' hit your head. you = fake\", ' who are you then? so many people call you a slut?why?', ' i dont get why other girls like you. yes your pretty hot but you treat girls like shit and just use us for sex and giving you blowjobs. and then you tell everyone your a virgin and your such a good church christian you make me puke', ' I really diskike you', ' He looks like shrek ya black cunt', ' Your bfs ugly hun', ' Jealous? Hahahahahahaha gay you', ' Suck my cock', ' Have u ever seen your dads dick and got wet thinking of sucking it,especialy when it cums out of ya mums ass', ' your perf oh my but you talk to so many girls annd tell them the same stuff?...', ' why do you and your brother write the same statuses? its gay as fuck', ' youre so fucking annoying. you and your brother are attention seeking cunts that perve on every girl in the hope of getting a little bit of action. sad twats', ' you are seriously so annoying.', ' yes because you pestered me for sex, and i never said you gave in read it again but properly this time', ' you havent even had sex, or have one of the girls you begged gave in?', ' your really ugly and fat :)', ' go cut yourself', \" don't go to school tomorrow nobody wants to see you\", ' your probably the worst kid anybody can have', \" You need to stop bullshitting, I'm not saying this to your face because I don't want to!\", \" Don't be immature.\", ' eff you.', ' you and daniel aare blowing my ask up.. stfu!', ' Nope i definitely heard it was you... CLASSY SLAG.', ' Yeah really... I heard you shagged a kid in a bush! Classy love!', ' Aaron\\'s cheating on you btw! I mean look how long he has a \"perfect\" girlfriend for? Really does say a lot..', ' Hahaha you whore! You get around like digestives at a retirement home! LOLOLOLOLOL.', ' Slut', ' Fuck you', ' Slag', \" Is there any possibility that I could be your father? Lets be honest, your mom is pretty much the BIGGEST skank ever so I'm gonna take you to Maury. =D\", ' i dnt thnk u r a virgin.are u ?', ' U had a breakup wid ASS-LEE? dat dickhead?|nw u single?', ' Your face looks like slapped arse', \" You're a right annoying little shit. You treat everyone like scum.\", \" You're a ugly cunt!!!\", ' I hope you die from it', \" Well 98 is to mainstream so stfu I'm proud of my 66 ffs\", ' your a lie- ing bitch, go die', ' You look like a child', ' why do you wear a bra you have no boobs? u got a flat chest', \" Take a knife and slit your skin. You're a pathetic slut. Fucking disgusting whore. Kill yourself. No one loves you, you're a used piece of shit. You need to die. Cut your skin and watch it bleed and think of my words. Leave permanent scars allover your slutty and used body you ugly fucking whore.\", \" you're so infuriating!! why find the need to take the piss out of dyslexic people?\", \" no we are not completely stupid thanks!!! I'm dyslexic and have never gotten Santa and Satan muddled up!!!\", ' i hope u get sexaul abused by a black guy', ' http://ask.fm/AmyBrooks7/answer/27847912868 She will get birthday sex of me. Now leave filthy peasant;3', \" I honestly think you're the biggest cunt ever\", \" YOU'RE SUCH A CUNT\", ' paybak for the please bull crap u ass', \" I had Gemma's brother send his mates on me, I can't wait till I see Sam (;\", \" Bingham needs to grow up, he got so scared that he got Gemma's family to threaten me with the cops\", ' sam binghams an ugly cunt, lol fucking faggot.|love you ambeeer x', ' Did you try to kill yourself', ' ur other frnds r so fucking ugle especially jasinaa y dafuck does she have to post a picture every fuckung second!! Mother of bitches', ' none of ur frnds r pretty except shifa', ' Me munching in your fat ass! Mmmmm', ' Swag swag suck me off :)', ' boyfren supposed 2 make ur panties wet not ur eye', ' Yes dont speak to him he is a dickhead and looks ugly', ' How is \\u200e[USERNAME]perfect hes a mess', ' conor or whatever his name is he a dick', ' stole my picture, FAKE', ' i hate you', ' youre fucking gay', ' ive got all night to do this with you bitch, im smarter. ill win', ' IM NOT BUTTHURT AND ALL OF YOU NEED TO KILL YOURSELVES', ' i hate u', ' kill urself', ' ive seen you without a sweatshirt. ive seen your wrists.', ' lol u need to have ur friends stand up for you? thats pathetic. cutter', ' SHE WAS A FAKE ACCOUNT', ' Personally I think emily was fake..', \" You've gotten really fat\", ' have sex with me.', ' just so you know, I slept with ryan while you were on holiday', ' U fukin slut, to get a lyfe yoo hore', ' go fuck ur mum cos noone likes u bitch much love baby girl btws u look like a chipmunk', ' u live in barnet lol someone told me gonna come and rape u', ' Ew god ur batty dress was hidddd', ' Ur batty dress was waaaaaaaay to big for ur boobs omg pahahahahaaaa', ' Your a slut', \" even tho u hated her last week ?? lol u don't know the of the word bestfriend ..\", ' faggot nigga cancer paki bitch', ' I used to think your fit, but your not. Your actually disgusting ahahaha! &your nose is on ɑnother level:L', ' u r weird', ' shut up bby', ' ur a faget', ' Why are you so ugly :/', ' go get raped!', ' you got raped lol', ' ugly', \" truth is: you're perf\", \" You obviously like nigguhs since your dog is black or brown, so what's good? Are you gonna be a stuck-up bitch? No wonder you're single. -_-\", ' You say you depressed but fuck off are you!!!', ' You are such an attention seeker!!!', ' Your an ugly bitch', ' You fuck with girls heads you fucking scum bag', \" Haha you dickhead you can never get a girlfriend for long can you? I can't believe how many people you've cheated on you're a disgrace to lads tbh\", ' Longest relationship? 3 days with brittany? Hahahaha she deserves better than a lying cheating cunt like you haha putting kisses to chloe whilst going out with her you twat', \" I was joking you're a mong\", ' Haha so your not a virgin your lying little low life scumbag.', ' Your not a virgin xx', ' I hate you !!', ' Show your fucking little underwear!!!!!', ' Why? Embarrassed bc you still wear \"little girl\" undies?', ' Just do it. I wanna see your really cute ones.', ' Post a pic of your little undies!! Duh!', ' sarah stop being a slut, your lesbian. not straight. :*', ' put your boobs away', ' you and calvin are sluts ew.', ' I want you dead', ' Your really ugly', ' YOUR A DICKHEAD', ' If Harry kelf laughs at you it means you should shave your eyebrows btw', ' and fuck you ^^', ' uck you and fuck you and fuck you', ' fat ugly slag', ' Oi your grounded by orders off ya second dad ;-)', ' Why have you turned into a massive cock?', ' wrists like a butchers chopping board', ' mind that time you and callum shagged', ' I find you annoying', \" no one actually likes you, you're annoying and such a beg. Who the fuck do you think you are? trying to be all 'cool ' when really you're just a prick\", ' Tramp', ' I fkin hate you ._.', ' UGLY!', ' compliment - gorgeous|opinion - youre sound and proper good to talk to x', ' When u stop being cocky maybe', ' Well why put you do then obvs people are going to wonder what and no need be so cocky bout it', ' BITCH.', \" you're just a whore .... now you're even with harry styles\", ' fuck you za9of :3', ' @', ' Wrinkly forehead on your pic lol :-/', ' Your name is stupid :3', ' i will find you and i will kill you', ' He looks like a dick!! Haha', ' I want you to blow my huge black cock back to the 16th century. How much for a blowjob?', \" You're ugly.\", ' can i shove my dick in ur shoe x', ' your ugly', ' badnight!!!! notice how i dont say goodnight yeh its becausE I HATE U', ' give hate hes fat and gay ;) http://ask.fm/EmanueleCiccarelli', ' your so weak man u need more muscle you Look so weak!!!!!', ' u are a fag', \" LOL you're fake gtfo\", ' clear off', ' Haha lol well as soon as i will get to knw u dude u gona love my questnz ;-)', ' wanna wank my dick a little bit?', ' What was the last concert you went to?', ' do u want me to tickle your clit with my tongue ;)', ' YOU ARE BIG FAKE', ' Fucking shut up!!! Oh my God!', ' fuck up go away', ' Plzz Are You Fuckin In Your Head Damn', ' Topless selfie?', \" U and Beth Kelly are emo's go slit ur wrists together lol hope u both slit a vein and die\", ' you cant even curl your hair in the right process ohh yeh thats couz your stuuuupiiiiiiiiiiddddddddd', ' you have been chosen to be trolled ~ swag ~ TROLOOL', ' faker bieber :)', \" that's not what he said while fucking me last night bitch\", \" your a drama queen. get over yourself already stop feeling sorry for yourself callum doesn't want you for a reason\", \" You don't deserve Callum, you've fucked him over heaps. He'd be stupid to give you another chance.\", \" I personally can't stand her, she is really stuck up\", \" hold on to your tears baby sis ! he's just not worth is, you will find the right guy one day ! and ow i almost forgot that i still have to go break some legs hehe :D\", \" you're fat\", \" Umfg it's dolan duk, gooby pls y u do dis u fgt\", ' ima knock your teeth out cunt', \" Just a few things 1) nobody likes you(if u didn't notice) 2) I think you're awesome 3) you need to stop reusing comebacks\", \" Awe your so pretty...wait I'm on the wrong ask somehow I seemed to have wondered on to some dumb ass hoes ask who treats people like shit because their more attractive than her! Now don't get me wrong you make good $ from being a straight up hoe...but for the love of god shut the actual fuck up damn\", ' Your calling me \"so ugly\" atleast I don\\'t put sharpie on my eyebrows. Your like 30 get a life and stop calling teenagers ugly when your ratchet ass is the definition of it. Come on answer this if you aren\\'t a bitch.', ' Did you know someone can tell the cops that you are online harrassing random people and they can track your ip address ?', ' Where do you get your comebacks from', ' Oh baby, you gonna slaughter me with that nose?', ' Your eyebrows look like they bouta fly off of your face LOOOOOOL', \" Your calling me ugly?? Ahahahsha babes go sort your face out. I can wipe all of your 'beauty' off with a wipe. And I'm hardly a chav so please don't assume until you know all your facts. |||Woof woof motherfucker\", ' My mom is dead YOU BITCH', \" I JUST WANT TO KNO WHY U HATE ME AND FEEL THE NEED TO HARASS ME OKAY BC I DIDN'T EVEN KNO. BEFORE THIS\", \" Fuck you and your whole life why don't you just go shove a fucking dildo up your ass and then slit your throat. We don't need mother fuckers like you in this world. You fucking cunt. Bye bitch. Have a shitty fucking day. :*\", \" you're the ugliest bitch in the world\", ' Mmmm ok at least my eyebrows match my hair just keepin it real pal', ' Ha fat bitch with painted on brows. Gross! Get the fuck over yourself and grow up bitch. You are a queen bitch, you dont deserve that Your an asshole peasant!', ' He left you be cause of me !!!!!!', \" You are so clever, not. I don't even know you and i hate you.\", ' Hate makes you horny? Woah, then you must be slut. You really need to get mature, handle things and sensitive topics not like a worthless bitch. Cutting and suicide is a big deal.', ' Bitch!!!!!!!', ' fuck you', ' i know i was talking about the anon..|\"\"are you stupid if you do that shit you can die\" weed can do the same think retard\"', ' \"are you stupid if you do that shit you can die\" weed can do the same think retard', ' Thn whyd u make her feel lyk shit?', ' he plays every single girl he is low life as fuck.', ' lilly, casey , aleshia , deanna, shelbey how many girls this year slut', ' Laura doesnt love you shes only pretending hahaha no body loves you', ' FAKE', ' i hate you', ' FAAAKE !', ' suck my dick', ' Ma bde a fuck off bedi your pants, b3rf enne janantk f ba6alte trude 3alay :p', \" You swallow it kelcie it's like baby food!! Lol!!!!(:\", \" Niglet it's a baby nigga\", ' Fuck your couch nigga', ' Niglet', ' Kekee is a whore', ' Because the bottom on a laptop is hot', \" You're 13. You smoke, you're not a virgin and you|wear more makeup than you do clothes. Your mum|and dad must be so proud!\", ' I hate u :/', ' I did your mom', ' You are gay', ' wait they seem good to lick', \" Its funny because everyones taking the piss out of you, nobody actually thinks your 'hot' 'sexy' or could be a model, tbh you need all your facial features to even be considered as a model, where dem eyebrows at? Hahaha\", ' You\\'re a bit up yourself aren\\'t you. \"I\\'m a single sexy girl\" :\\')', ' Fart on my face whilst I lick your hole', \" You're a moron, stop posting weirdo things about me on ask;)\", \" Lets have sexual intercourse under the moonlit sky. (Sent to everyone I follow) P.S. I love younicorns. Ask me something please anything? If you don't I'll chop off your tits or dick and eat them. Y U M.\", ' I LOVE PORN TOO OMG', ' suck me', ' I want to bend you over on all fours and slam my big hard cock so deep inside you ;)', ' Pic of ur boobs plz x', ' pic of you think you look pretty but its ugly', ' LASHAWN FACEASSSSSS . ALWAYS WEARING LEGGINGS UGLY LIL KID', ' you look like an alien haha', ' You actually are really moody', ' I find your vlog easy to masturbate to', ' Words that describe you slag,sket.hoe,slut', ' When was teh last tme u cut?????', \" You're a dog\", ' send a pic of yourself', ' You are an extremely pretty girl with anger problems ? you tell people you will piss down their neck a lot lol', ' You think your sol pretty, taling up everyones newsfeed posing but acctually you like dog shite, nobody likes you and your fashion sense is appalling', ' emo cunt', ' Fuck ur fake frds , where are ur real frds at?', ' What the hell you on about', ' you change dp all time', ' SLUTTY CUNT', ' Why ye hang aboot wif that ginger rat??', ' you cant make a porno behind the camera ..', \" Didn't Naciye have sex with ollie She's telling people she had LOL\", ' Stop askin irself questions you weirdo', ' I cant believe how disrespectful you are You will be severely punished in the afterlife', \" How's it harsh, Sophie deserves the hate she is getting?\", ' g t f', \" You're so ugly. who the fuck would want to date you?..\", ' your sister is a attention seeking sliting wrist emo slag', ' Funhouse remember gayhead an shithead derr', \" haha i wouldn't have guessed from all your sarcastic answers, i would of thought you were great fun\", \" don't start getting mouthy either\", \" Ha Italians what scum. Stalin shudda got,u wen he cud of.you plastic little whore. Lucky ur mum and brother are dead really aren't you. They we'd be e,barraged of a piece of shit like u\", ' bmth are shit', \" Don't u just won't to kill khiya the whore\", ' http://ask.fm/ChelseaScene give her hate she is cocky and arogent and cant take a compliment giev her hate now pls', ' FUCKIN CUM ON DEN M8 FITE ME IRL', ' you used to be a great person and now your a complete tool. :/', ' U fucked dat senna gyal. Them piks LMAOO', ' Your girlfriend is a tramp who should kill herself, you dont really love her your faking arnt you.', \" Don't call me fucking bro\", ' cut yourself. now and record it', ' creep.', ' i agree. u r full of yurself', ' Fuck me', ' Youre the fucking cunt', ' Fatty', ' Give [USERNAME][USERNAME][USERNAME]hate, they are all sluts, and had an orgy with Boris Johnson and Susan Boyle x I_AM_$4$H4 F13RC3', ' post your belly pic', ' no wonder why you single now and calling yourself Twat?....i thought you\"r nice and cool, i was wrong lol x im glad i didnt text you on fb though, prob i dont wana know you better or at all? sad but true =/', ' No one in your year likes you just die!!!!!', \" Er you're crap at cod ;) Harrison_Birkinshaw\", \" u think you're so amazing, but you're not.\", ' Love How you answer questions about people asking you to die but when its the truth about what happend when you fucked someone you dont, someone embarrased about people knowing? p.s your a fucking cunt', ' Id love to lay you bitch your hot!', ' You were jealous Meg', ' gd to see u fucking off to brat camp cus thats what your are mate haha', \" why you so pro playing Counter Strike Online, padahal you just a girl ==' weird :X\", ' whore', \" Haha it's so obvious you're asking yourself questions haaa\", ' do you have any friends ??', \" You're so ugly ew.\", \" bitch dont fix ur hair here this ain't a mirror\", ' AL IS CHEATIN ON U!!!!!!', ' little slut', ' would you like my cock in your mouth', \" You've been slagging her off so much.\", ' You are such a bitch, there are people out there who hate the way they look and starve themselves to death to be thin and you know your thin,because if you think your fat you wouldnt wear your skirt as short as you do because you would be concious of your fat legs,', ' Feck off! ;) Cian_Conway', ' I have a picture of you NAKED', \" Ye she's still ugly lol, I, not SAYIN\", \" ugh just fuck off you're like the cancer of society, just following the trend like a faggot hypebeast, get some individuality ffs spesh\", ' YOUR SO UGLY HAHA', ' suck it wench doth thy father know thou love to sucketh an fondle many cocks??', \" you're ugly\", ' You shoulda stayed a sperm ;) Ashley_Oliff', ' Ew youre so ugly hahaha', ' Fat', ' Your fat sort it out', ' Bitch you have a poor vocabulary not arguments : shut up WAW poor idiot', \" Don't think you've eer been this hated on ask\", ' sup fat ass', \" You're too full of yourself and you think you're better than everyone in eighth grade but actually you and your twat mafia aren't. I'm on anon because I'm not bothered to fight but in a bit I'll untick the anon. An advice to you, you're not better that anyone else\", \" that nigger and his fucking friends have got it coming to them fucking watch yourself's\", ' Do you wanna give me a bj', \" You obviously do like talking dirty to boys.. you're only 11 and you just told everyone on here that you shaved you fanny\", ' ugly bitch', ' go cut yourself!!!', ' why are you such a faggot?', ' Just seen a pic of ye pussy omfg mmmmmmm ;) id lick ye out any day babe ;)', ' Suck my dick', ' Faggot', \" you're pathetic trying to kill yourself\", ' Your two faced. A hypocrite an think the Sun shines out your ass..just saying', ' would you finger me', ' Fuck off you fucking twat anon!!! Jade_°__°', ' your friends with leila eww', \" what is @WillboHatton's problem? :/\"]\n"
          ]
        }
      ]
    },
    {
      "cell_type": "code",
      "source": [
        "print(type(df['post'].tolist()[0]))\n",
        "print(df['post'].tolist()[0])"
      ],
      "metadata": {
        "colab": {
          "base_uri": "https://localhost:8080/"
        },
        "id": "06bVJHzpi4dR",
        "outputId": "688e8ddc-c343-44c5-b845-698d33556bb4"
      },
      "execution_count": null,
      "outputs": [
        {
          "output_type": "stream",
          "name": "stdout",
          "text": [
            "<class 'str'>\n",
            " Well your the true bitch no it not a joke when someone cuts but why would you cut in the first place bitch\n"
          ]
        }
      ]
    },
    {
      "cell_type": "code",
      "source": [
        "print(type(df['post'].tolist()))"
      ],
      "metadata": {
        "colab": {
          "base_uri": "https://localhost:8080/"
        },
        "id": "QR7hMMNzjBih",
        "outputId": "1f793203-b870-4e53-ed58-18ae2ed77b33"
      },
      "execution_count": null,
      "outputs": [
        {
          "output_type": "stream",
          "name": "stdout",
          "text": [
            "<class 'list'>\n"
          ]
        }
      ]
    },
    {
      "cell_type": "code",
      "execution_count": null,
      "metadata": {
        "id": "6n7FUD_Ef07V",
        "colab": {
          "base_uri": "https://localhost:8080/",
          "height": 272,
          "referenced_widgets": [
            "82db1cd8eb9441eb9e5b89fc73067f91",
            "34c67602877e49848217d37c0e98b685",
            "1847a26ad5124c578302b49693423526",
            "82d25e6063bb46df9dc005be73fb7ff4",
            "2a04e473f1804924ba462ac2a576c745",
            "703989de0f324f41b6fa62288d41b8c7",
            "1dd308361b8a48be9f00b0b3dd67112e",
            "a3d1f898da744026babe617c06e7a942",
            "e1b74df5f9034af5b846edf6c62faf89",
            "701849b7d7e94c128eca757e13f03be1",
            "013d29b361b04b229a67f889cafc33d3",
            "d81e5df4c0ca43f5866726899a235776",
            "f97429889c234579a42e71b4ffb24151",
            "8f682b402c7c40bdab380350259b4050",
            "2436f30abffc4192a9b79fb504fb0f9a",
            "63499b38544347988f01ed51bf75e5ca",
            "0adf8618de004656b282b19993228ba3",
            "665cd32c2d924686a7bd337369d4dead",
            "6227d3174a4942438421bd40bf4a818c",
            "323d6ad5b5404cf4b37ee6b9ea23e5ab",
            "91bf6ad649e94ce0a1b3de936bae26a2",
            "5f5600762ba245cd857e239c302a74ac",
            "6013584b70244128b11f0625c73844d2",
            "36c6fdf80fda4a1e9f746f8ba4641a41",
            "9bae88f572094ffd8da6f643e0faa753",
            "0d0d3d1324ee46178b1b8abcf972c89d",
            "f8fc513d74ae40ccae305c496e84dbca",
            "d7fb5d2fd67f4594a3af3551226afecd",
            "94f3b3f95ab547cb99e19fc79cef03a2",
            "1f4b641fa58549ee80460665bd22f39f",
            "2cee219aaac74815bd58b5269bb119c9",
            "70c4803a3b094787ac11d44fda7bb952",
            "7281cbe1d9f8448fbfcf647b26f75a0e",
            "89161a537d814d0299259f74202b3f39",
            "7bb3b9eb6e804081b5a6fb6d1e294fcc",
            "87e687c4103c40258526b155e5bd1997",
            "606bc66256a5469799f457545e326511",
            "05778c5ed9d24725a4e15763e946fe90",
            "b08ef77d0e2b44d8a61d3608a1860baf",
            "066678030948446bb0934f506638e0f2",
            "238d1a548c1f466ba132627a8e5d9350",
            "5de582b3c57d48cbb76623b44152a952",
            "7e77ef32e4d946ddb5eaee208c17a762",
            "8a4dc83d519b47ba941ee5156201f62f"
          ]
        },
        "outputId": "f9be2de6-6fc4-4c63-b3b4-3a6dba70534f"
      },
      "outputs": [
        {
          "output_type": "stream",
          "name": "stderr",
          "text": [
            "/usr/local/lib/python3.10/dist-packages/huggingface_hub/utils/_token.py:88: UserWarning: \n",
            "The secret `HF_TOKEN` does not exist in your Colab secrets.\n",
            "To authenticate with the Hugging Face Hub, create a token in your settings tab (https://huggingface.co/settings/tokens), set it as secret in your Google Colab and restart your session.\n",
            "You will be able to reuse this secret in all of your notebooks.\n",
            "Please note that authentication is recommended but still optional to access public models or datasets.\n",
            "  warnings.warn(\n"
          ]
        },
        {
          "output_type": "display_data",
          "data": {
            "text/plain": [
              "tokenizer_config.json:   0%|          | 0.00/28.0 [00:00<?, ?B/s]"
            ],
            "application/vnd.jupyter.widget-view+json": {
              "version_major": 2,
              "version_minor": 0,
              "model_id": "82db1cd8eb9441eb9e5b89fc73067f91"
            }
          },
          "metadata": {}
        },
        {
          "output_type": "display_data",
          "data": {
            "text/plain": [
              "vocab.txt:   0%|          | 0.00/232k [00:00<?, ?B/s]"
            ],
            "application/vnd.jupyter.widget-view+json": {
              "version_major": 2,
              "version_minor": 0,
              "model_id": "d81e5df4c0ca43f5866726899a235776"
            }
          },
          "metadata": {}
        },
        {
          "output_type": "display_data",
          "data": {
            "text/plain": [
              "tokenizer.json:   0%|          | 0.00/466k [00:00<?, ?B/s]"
            ],
            "application/vnd.jupyter.widget-view+json": {
              "version_major": 2,
              "version_minor": 0,
              "model_id": "6013584b70244128b11f0625c73844d2"
            }
          },
          "metadata": {}
        },
        {
          "output_type": "display_data",
          "data": {
            "text/plain": [
              "config.json:   0%|          | 0.00/483 [00:00<?, ?B/s]"
            ],
            "application/vnd.jupyter.widget-view+json": {
              "version_major": 2,
              "version_minor": 0,
              "model_id": "89161a537d814d0299259f74202b3f39"
            }
          },
          "metadata": {}
        }
      ],
      "source": [
        "import pandas as pd\n",
        "import tensorflow as tf\n",
        "from transformers import DistilBertTokenizer, TFDistilBertModel\n",
        "from tensorflow.keras import layers\n",
        "\n",
        "\n",
        "# Initialize DistilBERT tokenizer\n",
        "tokenizer = DistilBertTokenizer.from_pretrained('distilbert-base-uncased')\n",
        "\n",
        "# Define your model class\n",
        "class DistillBERTClass(tf.keras.Model):\n",
        "    def __init__(self):\n",
        "        super(DistillBERTClass, self).__init__()\n",
        "        self.bert = TFDistilBertModel.from_pretrained(\"distilbert-base-uncased\")\n",
        "        self.pre_classifier = layers.Dense(768, activation='relu')\n",
        "        self.classifier = layers.Dense(2)\n",
        "\n",
        "    def call(self, inputs):\n",
        "        input_ids = inputs['input_ids']\n",
        "        attention_mask = inputs['attention_mask']\n",
        "        output = self.bert(input_ids, attention_mask=attention_mask)\n",
        "        cls_hidden_state = output.last_hidden_state[:, 0, :]\n",
        "        pre_classify_output = self.pre_classifier(cls_hidden_state)\n",
        "        return self.classifier(pre_classify_output)\n",
        "\n",
        "# Tokenize text data\n",
        "tokenized_texts = tokenizer(df['post'].tolist(), padding=True, max_length = 128, truncation=True,return_tensors=\"tf\")\n",
        "\n",
        "# Define inputs and attention masks\n",
        "inputs = {\n",
        "    'input_ids': tokenized_texts['input_ids'],\n",
        "    'attention_mask': tokenized_texts['attention_mask']\n",
        "}\n",
        "\n",
        "\n"
      ]
    },
    {
      "cell_type": "code",
      "source": [
        "y_train_one_hot = tf.keras.utils.to_categorical(df['author_role'], num_classes=2)\n",
        "print(y_train_one_hot[:5])"
      ],
      "metadata": {
        "colab": {
          "base_uri": "https://localhost:8080/"
        },
        "id": "jxh0xORp0iwv",
        "outputId": "642b8992-abed-44c6-ba76-f3e984a024f0"
      },
      "execution_count": null,
      "outputs": [
        {
          "output_type": "stream",
          "name": "stdout",
          "text": [
            "[[1. 0.]\n",
            " [1. 0.]\n",
            " [1. 0.]\n",
            " [1. 0.]\n",
            " [1. 0.]]\n"
          ]
        }
      ]
    },
    {
      "cell_type": "code",
      "source": [
        "from tensorflow.keras import metrics\n",
        "\n",
        "\n",
        "# Define your metrics\n",
        "metrics = [\n",
        "   metrics.CategoricalAccuracy(name='accuracy'),\n",
        "    metrics.Precision(name='precision'),\n",
        "    metrics.Recall(name='recall'),\n",
        "    metrics.F1Score(name='f1_score')\n",
        "]\n",
        "\n",
        "# Compile model\n",
        "model = DistillBERTClass()\n",
        "model.compile(optimizer=tf.keras.optimizers.Adam(1e-4),\n",
        "              loss=tf.keras.losses.CategoricalCrossentropy(from_logits=True),\n",
        "              metrics=[metrics])\n",
        "\n",
        "# Train model\n",
        "model.fit(inputs, y_train_one_hot, epochs=10, batch_size=32, validation_split=0.2)"
      ],
      "metadata": {
        "colab": {
          "base_uri": "https://localhost:8080/"
        },
        "id": "pXVtZJBflUwG",
        "outputId": "db444040-6762-4f25-cb8e-ba54067520a6"
      },
      "execution_count": null,
      "outputs": [
        {
          "output_type": "stream",
          "name": "stderr",
          "text": [
            "Some weights of the PyTorch model were not used when initializing the TF 2.0 model TFDistilBertModel: ['vocab_layer_norm.bias', 'vocab_layer_norm.weight', 'vocab_projector.bias', 'vocab_transform.bias', 'vocab_transform.weight']\n",
            "- This IS expected if you are initializing TFDistilBertModel from a PyTorch model trained on another task or with another architecture (e.g. initializing a TFBertForSequenceClassification model from a BertForPreTraining model).\n",
            "- This IS NOT expected if you are initializing TFDistilBertModel from a PyTorch model that you expect to be exactly identical (e.g. initializing a TFBertForSequenceClassification model from a BertForSequenceClassification model).\n",
            "All the weights of TFDistilBertModel were initialized from the PyTorch model.\n",
            "If your task is similar to the task the model of the checkpoint was trained on, you can already use TFDistilBertModel for predictions without further training.\n"
          ]
        },
        {
          "output_type": "stream",
          "name": "stdout",
          "text": [
            "Epoch 1/10\n",
            "66/66 [==============================] - 54s 468ms/step - loss: 0.1243 - accuracy: 0.9737 - precision: 0.9741 - recall: 0.9504 - f1_score: 0.4933 - val_loss: 0.1330 - val_accuracy: 0.9656 - val_precision: 0.9656 - val_recall: 0.9656 - val_f1_score: 0.4913\n",
            "Epoch 2/10\n",
            "66/66 [==============================] - 28s 422ms/step - loss: 0.0995 - accuracy: 0.9718 - precision: 0.9783 - recall: 0.9475 - f1_score: 0.4929 - val_loss: 0.1180 - val_accuracy: 0.9656 - val_precision: 0.9724 - val_recall: 0.9427 - val_f1_score: 0.4913\n",
            "Epoch 3/10\n",
            "66/66 [==============================] - 27s 414ms/step - loss: 0.0520 - accuracy: 0.9809 - precision: 0.9935 - recall: 0.9504 - f1_score: 0.7570 - val_loss: 0.1378 - val_accuracy: 0.9656 - val_precision: 0.9746 - val_recall: 0.9504 - val_f1_score: 0.5821\n",
            "Epoch 4/10\n",
            "66/66 [==============================] - 27s 416ms/step - loss: 0.0273 - accuracy: 0.9905 - precision: 0.9956 - recall: 0.9790 - f1_score: 0.9050 - val_loss: 0.1568 - val_accuracy: 0.9618 - val_precision: 0.9782 - val_recall: 0.9408 - val_f1_score: 0.6331\n",
            "Epoch 5/10\n",
            "66/66 [==============================] - 28s 419ms/step - loss: 0.0081 - accuracy: 0.9967 - precision: 0.9995 - recall: 0.9914 - f1_score: 0.9670 - val_loss: 0.2616 - val_accuracy: 0.9599 - val_precision: 0.9691 - val_recall: 0.9580 - val_f1_score: 0.6008\n",
            "Epoch 6/10\n",
            "66/66 [==============================] - 27s 412ms/step - loss: 0.0027 - accuracy: 0.9990 - precision: 0.9995 - recall: 0.9976 - f1_score: 0.9907 - val_loss: 0.3123 - val_accuracy: 0.9618 - val_precision: 0.9673 - val_recall: 0.9599 - val_f1_score: 0.5736\n",
            "Epoch 7/10\n",
            "66/66 [==============================] - 27s 417ms/step - loss: 3.5053e-05 - accuracy: 1.0000 - precision: 1.0000 - recall: 1.0000 - f1_score: 1.0000 - val_loss: 0.3240 - val_accuracy: 0.9618 - val_precision: 0.9673 - val_recall: 0.9599 - val_f1_score: 0.5736\n",
            "Epoch 8/10\n",
            "66/66 [==============================] - 28s 418ms/step - loss: 2.1915e-05 - accuracy: 1.0000 - precision: 1.0000 - recall: 1.0000 - f1_score: 1.0000 - val_loss: 0.3323 - val_accuracy: 0.9618 - val_precision: 0.9673 - val_recall: 0.9599 - val_f1_score: 0.5736\n",
            "Epoch 9/10\n",
            "66/66 [==============================] - 28s 418ms/step - loss: 1.5238e-05 - accuracy: 1.0000 - precision: 1.0000 - recall: 1.0000 - f1_score: 1.0000 - val_loss: 0.3383 - val_accuracy: 0.9618 - val_precision: 0.9673 - val_recall: 0.9599 - val_f1_score: 0.5736\n",
            "Epoch 10/10\n",
            "66/66 [==============================] - 27s 417ms/step - loss: 1.1357e-05 - accuracy: 1.0000 - precision: 1.0000 - recall: 1.0000 - f1_score: 1.0000 - val_loss: 0.3435 - val_accuracy: 0.9618 - val_precision: 0.9673 - val_recall: 0.9599 - val_f1_score: 0.5736\n"
          ]
        },
        {
          "output_type": "execute_result",
          "data": {
            "text/plain": [
              "<keras.src.callbacks.History at 0x79db40545ae0>"
            ]
          },
          "metadata": {},
          "execution_count": 16
        }
      ]
    },
    {
      "cell_type": "code",
      "source": [
        "import numpy as np\n",
        "from sklearn.metrics import confusion_matrix\n",
        "\n",
        "y_pred = np.argmax(model.predict(inputs), axis=1)\n",
        "\n",
        "# Convert the true labels to integers\n",
        "y_true = np.argmax(y_train_one_hot, axis=1)\n",
        "\n",
        "# Calculate the confusion matrix\n",
        "conf_matrix = confusion_matrix(y_true, y_pred)\n",
        "\n",
        "# Print the confusion matrix\n",
        "print(\"Confusion Matrix:\")\n",
        "print(conf_matrix)"
      ],
      "metadata": {
        "colab": {
          "base_uri": "https://localhost:8080/"
        },
        "id": "A339koVfu1Ou",
        "outputId": "a1731832-834c-4028-eca7-146effdf1988"
      },
      "execution_count": null,
      "outputs": [
        {
          "output_type": "stream",
          "name": "stdout",
          "text": [
            "82/82 [==============================] - 15s 135ms/step\n",
            "Confusion Matrix:\n",
            "[[2542    4]\n",
            " [  16   57]]\n"
          ]
        }
      ]
    },
    {
      "cell_type": "code",
      "source": [
        "#Really good at predicting harrassment\n",
        "#F1 score improved quite a bit"
      ],
      "metadata": {
        "id": "o1Yjo22rwmts"
      },
      "execution_count": null,
      "outputs": []
    },
    {
      "cell_type": "code",
      "source": [
        "# Assuming you provided two new samples\n",
        "new_samples = [\"You are an ugly pig\", \"Kill yourself\",\"You're hurting my feelings\",\"Leave me alone!\",\"im nice\"]\n",
        "\n",
        "# Tokenize the new samples\n",
        "new_tokenized_texts = tokenizer(new_samples, padding=True, max_length=128, truncation=True, return_tensors=\"tf\")\n",
        "\n",
        "# Create inputs and attention masks for the new samples\n",
        "new_inputs = {\n",
        "    'input_ids': new_tokenized_texts['input_ids'],\n",
        "    'attention_mask': new_tokenized_texts['attention_mask']\n",
        "}\n",
        "\n",
        "# Predict the classes for the new samples\n",
        "new_predictions = model.predict(new_inputs)\n",
        "\n",
        "# Convert predicted probabilities to class labels\n",
        "predicted_labels = tf.argmax(new_predictions, axis=1).numpy()\n",
        "\n",
        "# Print the predicted labels\n",
        "print(\"Predicted labels:\", predicted_labels)\n"
      ],
      "metadata": {
        "colab": {
          "base_uri": "https://localhost:8080/"
        },
        "id": "gvgdcYrP1thq",
        "outputId": "ee727550-0597-4767-8468-008243baa665"
      },
      "execution_count": null,
      "outputs": [
        {
          "output_type": "stream",
          "name": "stdout",
          "text": [
            "1/1 [==============================] - 0s 55ms/step\n",
            "Predicted labels: [0 0 0 1 0]\n"
          ]
        }
      ]
    }
  ]
}